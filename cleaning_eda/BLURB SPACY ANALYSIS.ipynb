{
 "cells": [
  {
   "cell_type": "code",
   "execution_count": 2,
   "metadata": {},
   "outputs": [],
   "source": [
    "import spacy\n",
    "import pandas as pd\n",
    "import numpy as np\n",
    "import matplotlib.pyplot as plt\n",
    "import seaborn as sns\n",
    "sns.set()\n",
    "from tqdm import tqdm"
   ]
  },
  {
   "cell_type": "code",
   "execution_count": 3,
   "metadata": {},
   "outputs": [],
   "source": [
    "en_nlp = spacy.load('en_core_web_sm')"
   ]
  },
  {
   "cell_type": "code",
   "execution_count": 3,
   "metadata": {},
   "outputs": [
    {
     "data": {
      "text/html": [
       "<div>\n",
       "<style scoped>\n",
       "    .dataframe tbody tr th:only-of-type {\n",
       "        vertical-align: middle;\n",
       "    }\n",
       "\n",
       "    .dataframe tbody tr th {\n",
       "        vertical-align: top;\n",
       "    }\n",
       "\n",
       "    .dataframe thead th {\n",
       "        text-align: right;\n",
       "    }\n",
       "</style>\n",
       "<table border=\"1\" class=\"dataframe\">\n",
       "  <thead>\n",
       "    <tr style=\"text-align: right;\">\n",
       "      <th></th>\n",
       "      <th>tmdb_id</th>\n",
       "      <th>imdb_id</th>\n",
       "      <th>title</th>\n",
       "      <th>revenue</th>\n",
       "      <th>budget</th>\n",
       "      <th>genres</th>\n",
       "      <th>release_date</th>\n",
       "      <th>runtime</th>\n",
       "      <th>tmdb_vote_average</th>\n",
       "      <th>tmdb_vote_count</th>\n",
       "      <th>...</th>\n",
       "      <th>GENRE_Western</th>\n",
       "      <th>GENRE_Horror</th>\n",
       "      <th>GENRE_Documentary</th>\n",
       "      <th>GENRE_War</th>\n",
       "      <th>GENRE_Music</th>\n",
       "      <th>GENRE_TV Movie</th>\n",
       "      <th>GENRE_Film_Noir</th>\n",
       "      <th>GENRE_Biography</th>\n",
       "      <th>GENRE_Sport</th>\n",
       "      <th>GENRE_Musical</th>\n",
       "    </tr>\n",
       "  </thead>\n",
       "  <tbody>\n",
       "    <tr>\n",
       "      <th>0</th>\n",
       "      <td>8095.0</td>\n",
       "      <td>tt0056937</td>\n",
       "      <td>Cleopatra</td>\n",
       "      <td>71000000</td>\n",
       "      <td>44000000.0</td>\n",
       "      <td>['Drama', 'History', 'Romance']</td>\n",
       "      <td>1963-06-12</td>\n",
       "      <td>248.0</td>\n",
       "      <td>7.0</td>\n",
       "      <td>438</td>\n",
       "      <td>...</td>\n",
       "      <td>0.0</td>\n",
       "      <td>0.0</td>\n",
       "      <td>0.0</td>\n",
       "      <td>0.0</td>\n",
       "      <td>0.0</td>\n",
       "      <td>0.0</td>\n",
       "      <td>0.0</td>\n",
       "      <td>0.0</td>\n",
       "      <td>0.0</td>\n",
       "      <td>0.0</td>\n",
       "    </tr>\n",
       "    <tr>\n",
       "      <th>1</th>\n",
       "      <td>20367.0</td>\n",
       "      <td>tt0037638</td>\n",
       "      <td>Detour</td>\n",
       "      <td>16172</td>\n",
       "      <td>30000.0</td>\n",
       "      <td>['Crime', 'Drama']</td>\n",
       "      <td>1945-11-30</td>\n",
       "      <td>67.0</td>\n",
       "      <td>7.2</td>\n",
       "      <td>201</td>\n",
       "      <td>...</td>\n",
       "      <td>0.0</td>\n",
       "      <td>0.0</td>\n",
       "      <td>0.0</td>\n",
       "      <td>0.0</td>\n",
       "      <td>0.0</td>\n",
       "      <td>0.0</td>\n",
       "      <td>0.0</td>\n",
       "      <td>0.0</td>\n",
       "      <td>0.0</td>\n",
       "      <td>0.0</td>\n",
       "    </tr>\n",
       "    <tr>\n",
       "      <th>2</th>\n",
       "      <td>11620.0</td>\n",
       "      <td>tt0043949</td>\n",
       "      <td>Quo Vadis</td>\n",
       "      <td>101486</td>\n",
       "      <td>7623000.0</td>\n",
       "      <td>['Drama', 'History', 'Romance']</td>\n",
       "      <td>1951-11-08</td>\n",
       "      <td>171.0</td>\n",
       "      <td>7.0</td>\n",
       "      <td>246</td>\n",
       "      <td>...</td>\n",
       "      <td>0.0</td>\n",
       "      <td>0.0</td>\n",
       "      <td>0.0</td>\n",
       "      <td>0.0</td>\n",
       "      <td>0.0</td>\n",
       "      <td>0.0</td>\n",
       "      <td>0.0</td>\n",
       "      <td>0.0</td>\n",
       "      <td>0.0</td>\n",
       "      <td>0.0</td>\n",
       "    </tr>\n",
       "    <tr>\n",
       "      <th>3</th>\n",
       "      <td>10865.0</td>\n",
       "      <td>tt0230011</td>\n",
       "      <td>Atlantis: The Lost Empire</td>\n",
       "      <td>186053725</td>\n",
       "      <td>120000000.0</td>\n",
       "      <td>['Animation', 'Family', 'Adventure', 'Science ...</td>\n",
       "      <td>2001-06-02</td>\n",
       "      <td>95.0</td>\n",
       "      <td>6.9</td>\n",
       "      <td>3494</td>\n",
       "      <td>...</td>\n",
       "      <td>0.0</td>\n",
       "      <td>0.0</td>\n",
       "      <td>0.0</td>\n",
       "      <td>0.0</td>\n",
       "      <td>0.0</td>\n",
       "      <td>0.0</td>\n",
       "      <td>0.0</td>\n",
       "      <td>0.0</td>\n",
       "      <td>0.0</td>\n",
       "      <td>0.0</td>\n",
       "    </tr>\n",
       "    <tr>\n",
       "      <th>4</th>\n",
       "      <td>11313.0</td>\n",
       "      <td>tt0252501</td>\n",
       "      <td>Hearts in Atlantis</td>\n",
       "      <td>24185781</td>\n",
       "      <td>31000000.0</td>\n",
       "      <td>['Drama', 'Mystery']</td>\n",
       "      <td>2001-09-07</td>\n",
       "      <td>101.0</td>\n",
       "      <td>6.5</td>\n",
       "      <td>319</td>\n",
       "      <td>...</td>\n",
       "      <td>0.0</td>\n",
       "      <td>0.0</td>\n",
       "      <td>0.0</td>\n",
       "      <td>0.0</td>\n",
       "      <td>0.0</td>\n",
       "      <td>0.0</td>\n",
       "      <td>0.0</td>\n",
       "      <td>0.0</td>\n",
       "      <td>0.0</td>\n",
       "      <td>0.0</td>\n",
       "    </tr>\n",
       "  </tbody>\n",
       "</table>\n",
       "<p>5 rows × 45 columns</p>\n",
       "</div>"
      ],
      "text/plain": [
       "   tmdb_id    imdb_id                      title    revenue       budget  \\\n",
       "0   8095.0  tt0056937                  Cleopatra   71000000   44000000.0   \n",
       "1  20367.0  tt0037638                     Detour      16172      30000.0   \n",
       "2  11620.0  tt0043949                  Quo Vadis     101486    7623000.0   \n",
       "3  10865.0  tt0230011  Atlantis: The Lost Empire  186053725  120000000.0   \n",
       "4  11313.0  tt0252501         Hearts in Atlantis   24185781   31000000.0   \n",
       "\n",
       "                                              genres release_date  runtime  \\\n",
       "0                    ['Drama', 'History', 'Romance']   1963-06-12    248.0   \n",
       "1                                 ['Crime', 'Drama']   1945-11-30     67.0   \n",
       "2                    ['Drama', 'History', 'Romance']   1951-11-08    171.0   \n",
       "3  ['Animation', 'Family', 'Adventure', 'Science ...   2001-06-02     95.0   \n",
       "4                               ['Drama', 'Mystery']   2001-09-07    101.0   \n",
       "\n",
       "   tmdb_vote_average  tmdb_vote_count  ... GENRE_Western GENRE_Horror  \\\n",
       "0                7.0              438  ...           0.0          0.0   \n",
       "1                7.2              201  ...           0.0          0.0   \n",
       "2                7.0              246  ...           0.0          0.0   \n",
       "3                6.9             3494  ...           0.0          0.0   \n",
       "4                6.5              319  ...           0.0          0.0   \n",
       "\n",
       "  GENRE_Documentary GENRE_War GENRE_Music GENRE_TV Movie  GENRE_Film_Noir  \\\n",
       "0               0.0       0.0         0.0            0.0              0.0   \n",
       "1               0.0       0.0         0.0            0.0              0.0   \n",
       "2               0.0       0.0         0.0            0.0              0.0   \n",
       "3               0.0       0.0         0.0            0.0              0.0   \n",
       "4               0.0       0.0         0.0            0.0              0.0   \n",
       "\n",
       "   GENRE_Biography GENRE_Sport  GENRE_Musical  \n",
       "0              0.0         0.0            0.0  \n",
       "1              0.0         0.0            0.0  \n",
       "2              0.0         0.0            0.0  \n",
       "3              0.0         0.0            0.0  \n",
       "4              0.0         0.0            0.0  \n",
       "\n",
       "[5 rows x 45 columns]"
      ]
     },
     "execution_count": 3,
     "metadata": {},
     "output_type": "execute_result"
    }
   ],
   "source": [
    "data = pd.read_csv('data_before_actors.csv')\n",
    "data.head()"
   ]
  },
  {
   "cell_type": "code",
   "execution_count": 4,
   "metadata": {},
   "outputs": [
    {
     "data": {
      "text/plain": [
       "0     Determined to hold on to the throne, Cleopatra...\n",
       "1     Al Roberts, a New York nightclub pianist, hitc...\n",
       "2     Set against the back drop of Rome in crisis, G...\n",
       "3     The world's most highly qualified crew of arch...\n",
       "4     A widowed mother and her son change when a mys...\n",
       "5     When her father unexpectedly passes away, youn...\n",
       "6     Routinely exploited by her wicked stepmother, ...\n",
       "7     The true story of boxer Jim Braddock who, in t...\n",
       "8     To prevent a world war from breaking out, famo...\n",
       "9     Alice, an unpretentious and individual 19-year...\n",
       "10    Nat Turner, a former slave in America, leads a...\n",
       "11    A venal, spoiled stockbroker's wife impulsivel...\n",
       "12    Outlaw Jesse James is rumored to be the 'faste...\n",
       "13    Charlie Croker pulled off the crime of a lifet...\n",
       "14    Six years after the events of The X-Files seri...\n",
       "15    A young man is in a race against time as he se...\n",
       "16    A vampire relates his epic life story of love,...\n",
       "17    A ship sent to investigate a wave of mysteriou...\n",
       "18    Jimmy Kilmartin is an ex-con trying to stay cl...\n",
       "19    The story of a poor young woman, separated by ...\n",
       "Name: blurb, dtype: object"
      ]
     },
     "execution_count": 4,
     "metadata": {},
     "output_type": "execute_result"
    }
   ],
   "source": [
    "blurb = data.blurb.copy()\n",
    "blurb.head(20)"
   ]
  },
  {
   "cell_type": "code",
   "execution_count": 6,
   "metadata": {},
   "outputs": [],
   "source": [
    "def process_text(documents, pos=False):\n",
    "    '''\n",
    "    cleans sentences from stop words and punctuation and filters by pos tags if given\n",
    "    returns cleaned sentence and tokenized sentence\n",
    "    '''\n",
    "    nlp = spacy.load('en_core_web_sm')\n",
    "    \n",
    "    texts = []\n",
    "    tokenised_texts = []\n",
    "\n",
    "    if pos: # pos can either be False or a list of parts of speech\n",
    "        for document in tqdm(nlp.pipe(documents, batch_size=200)):\n",
    "            assert document.is_parsed\n",
    "            tokens = [token\n",
    "                      for token in document \n",
    "                      if token.is_stop == False\n",
    "                      and token.pos_ in pos\n",
    "                      and token.pos_ != 'PUNCT']\n",
    "            doc_ = ''\n",
    "            for token in tokens:\n",
    "                doc_ += str(token) + ' '\n",
    "            \n",
    "            doc_ = doc_.strip()\n",
    "            texts.append(doc_)\n",
    "            tokenised_texts.append(tokens)\n",
    "    \n",
    "    \n",
    "    else:    \n",
    "        for document in tqdm(nlp.pipe(documents, batch_size=200)):\n",
    "            assert document.is_parsed\n",
    "            tokens = [token\n",
    "                      for token in document \n",
    "                      if token.is_stop == False\n",
    "                      and token.pos_ != 'PUNCT']\n",
    "            doc_ = ''\n",
    "            for token in tokens:\n",
    "                doc_ += str(token) + ' '\n",
    "            \n",
    "            doc_ = doc_.strip()\n",
    "            texts.append(doc_)\n",
    "            tokenised_texts.append(tokens)\n",
    "            \n",
    "    return texts, tokenised_texts"
   ]
  },
  {
   "cell_type": "code",
   "execution_count": 14,
   "metadata": {},
   "outputs": [
    {
     "name": "stderr",
     "output_type": "stream",
     "text": [
      "9537it [00:51, 186.92it/s]\n"
     ]
    }
   ],
   "source": [
    "#change null values to blank sentences so that spacy can recognise the null value as a sentence\n",
    "processed_quotes, tokenised_quotes = process_text(data.blurb.replace(np.nan , '.'), pos=False)"
   ]
  },
  {
   "cell_type": "code",
   "execution_count": 18,
   "metadata": {},
   "outputs": [],
   "source": [
    "data['tokenized_blurbs'] = tokenised_quotes"
   ]
  },
  {
   "cell_type": "code",
   "execution_count": 49,
   "metadata": {},
   "outputs": [
    {
     "data": {
      "text/plain": [
       "24"
      ]
     },
     "execution_count": 49,
     "metadata": {},
     "output_type": "execute_result"
    }
   ],
   "source": [
    "data.blurb.isnull().sum()"
   ]
  },
  {
   "cell_type": "markdown",
   "metadata": {},
   "source": [
    "creation of the sentiment dictionary, filled with words, thier position of speech and their sentiment scores (positive and negative)"
   ]
  },
  {
   "cell_type": "code",
   "execution_count": 7,
   "metadata": {},
   "outputs": [
    {
     "data": {
      "text/plain": [
       "array(['ADJ', 'NOUN', 'ADV', 'VERB'], dtype=object)"
      ]
     },
     "execution_count": 7,
     "metadata": {},
     "output_type": "execute_result"
    }
   ],
   "source": [
    "sen = pd.read_csv('file:///Users/chrismembrey/Desktop/GA/DSI16-lessons/week09/day5_nlp%20class/sentiment-analysis-lesson/datasets/sentiment_words_simple.csv')\n",
    "sen.pos = sen.pos.map(lambda x: x.upper())\n",
    "sen.pos.unique()"
   ]
  },
  {
   "cell_type": "code",
   "execution_count": 8,
   "metadata": {},
   "outputs": [],
   "source": [
    "sen['objectivity'] = 1. - (sen.pos_score + sen.neg_score)\n",
    "sen['pos_vs_neg'] = sen.pos_score - sen.neg_score"
   ]
  },
  {
   "cell_type": "code",
   "execution_count": 9,
   "metadata": {},
   "outputs": [
    {
     "name": "stderr",
     "output_type": "stream",
     "text": [
      "155287it [00:00, 645056.74it/s]\n"
     ]
    }
   ],
   "source": [
    "from collections import defaultdict\n",
    "sen_dict = defaultdict(dict) # set up a default dictionary with an empty dictionary as default value\n",
    "\n",
    "for row in tqdm(sen.itertuples()):\n",
    "    sen_dict[row.pos] [row.word] = {'objectivity': row.objectivity, 'pos_vs_neg': row.pos_vs_neg}"
   ]
  },
  {
   "cell_type": "code",
   "execution_count": null,
   "metadata": {},
   "outputs": [],
   "source": []
  },
  {
   "cell_type": "code",
   "execution_count": 19,
   "metadata": {},
   "outputs": [],
   "source": [
    "def scorer(parsed):\n",
    "    \"\"\"\n",
    "    Determines the average objectivity and positive-versus-negative scores \n",
    "    for a given sentence using tokenized corpuses\n",
    "    \"\"\"\n",
    "   \n",
    "    obj_scores, pvn_scores = [], []\n",
    "    for token in parsed:\n",
    "        try:\n",
    "            obj_scores.append(sen_dict[token.pos_][token.lemma_]['objectivity'])\n",
    "            pvn_scores.append(sen_dict[token.pos_][token.lemma_]['pos_vs_neg'])\n",
    "        except:\n",
    "            pass\n",
    "        \n",
    "    # set default values if no token found\n",
    "    if not obj_scores:\n",
    "        obj_scores = [0.5]\n",
    "    if not pvn_scores:\n",
    "        pvn_scores = [0.]\n",
    "        \n",
    "    return [np.mean(obj_scores), np.mean(pvn_scores)]"
   ]
  },
  {
   "cell_type": "code",
   "execution_count": 20,
   "metadata": {},
   "outputs": [],
   "source": [
    "scores = data['tokenized_blurbs'].map(scorer)\n",
    "data['objectivity_avg'] = scores.map(lambda x: x[0])\n",
    "data['polarity_avg'] = scores.map(lambda x: x[1])"
   ]
  },
  {
   "cell_type": "markdown",
   "metadata": {},
   "source": [
    "correlations of the objectivity and polarity with ROI"
   ]
  },
  {
   "cell_type": "code",
   "execution_count": 21,
   "metadata": {},
   "outputs": [
    {
     "data": {
      "text/html": [
       "<div>\n",
       "<style scoped>\n",
       "    .dataframe tbody tr th:only-of-type {\n",
       "        vertical-align: middle;\n",
       "    }\n",
       "\n",
       "    .dataframe tbody tr th {\n",
       "        vertical-align: top;\n",
       "    }\n",
       "\n",
       "    .dataframe thead th {\n",
       "        text-align: right;\n",
       "    }\n",
       "</style>\n",
       "<table border=\"1\" class=\"dataframe\">\n",
       "  <thead>\n",
       "    <tr style=\"text-align: right;\">\n",
       "      <th></th>\n",
       "      <th>ROI</th>\n",
       "      <th>objectivity_avg</th>\n",
       "      <th>polarity_avg</th>\n",
       "    </tr>\n",
       "  </thead>\n",
       "  <tbody>\n",
       "    <tr>\n",
       "      <th>ROI</th>\n",
       "      <td>1.00000</td>\n",
       "      <td>-0.022210</td>\n",
       "      <td>-0.016530</td>\n",
       "    </tr>\n",
       "    <tr>\n",
       "      <th>objectivity_avg</th>\n",
       "      <td>-0.02221</td>\n",
       "      <td>1.000000</td>\n",
       "      <td>0.142161</td>\n",
       "    </tr>\n",
       "    <tr>\n",
       "      <th>polarity_avg</th>\n",
       "      <td>-0.01653</td>\n",
       "      <td>0.142161</td>\n",
       "      <td>1.000000</td>\n",
       "    </tr>\n",
       "  </tbody>\n",
       "</table>\n",
       "</div>"
      ],
      "text/plain": [
       "                     ROI  objectivity_avg  polarity_avg\n",
       "ROI              1.00000        -0.022210     -0.016530\n",
       "objectivity_avg -0.02221         1.000000      0.142161\n",
       "polarity_avg    -0.01653         0.142161      1.000000"
      ]
     },
     "execution_count": 21,
     "metadata": {},
     "output_type": "execute_result"
    }
   ],
   "source": [
    "data[['ROI', 'objectivity_avg', 'polarity_avg']].corr()"
   ]
  },
  {
   "cell_type": "code",
   "execution_count": null,
   "metadata": {},
   "outputs": [],
   "source": []
  },
  {
   "cell_type": "code",
   "execution_count": 22,
   "metadata": {},
   "outputs": [
    {
     "data": {
      "text/html": [
       "<div>\n",
       "<style scoped>\n",
       "    .dataframe tbody tr th:only-of-type {\n",
       "        vertical-align: middle;\n",
       "    }\n",
       "\n",
       "    .dataframe tbody tr th {\n",
       "        vertical-align: top;\n",
       "    }\n",
       "\n",
       "    .dataframe thead th {\n",
       "        text-align: right;\n",
       "    }\n",
       "</style>\n",
       "<table border=\"1\" class=\"dataframe\">\n",
       "  <thead>\n",
       "    <tr style=\"text-align: right;\">\n",
       "      <th></th>\n",
       "      <th>ROI</th>\n",
       "      <th>objectivity_avg</th>\n",
       "      <th>polarity_avg</th>\n",
       "      <th>tokenized_blurbs</th>\n",
       "    </tr>\n",
       "  </thead>\n",
       "  <tbody>\n",
       "    <tr>\n",
       "      <th>0</th>\n",
       "      <td>61.363636</td>\n",
       "      <td>0.903075</td>\n",
       "      <td>0.000992</td>\n",
       "      <td>[Determined, hold, throne, Cleopatra, seduces,...</td>\n",
       "    </tr>\n",
       "    <tr>\n",
       "      <th>1</th>\n",
       "      <td>-46.093333</td>\n",
       "      <td>0.898970</td>\n",
       "      <td>0.012065</td>\n",
       "      <td>[Al, Roberts, New, York, nightclub, pianist, h...</td>\n",
       "    </tr>\n",
       "    <tr>\n",
       "      <th>2</th>\n",
       "      <td>-98.668687</td>\n",
       "      <td>0.814066</td>\n",
       "      <td>-0.071299</td>\n",
       "      <td>[Set, drop, Rome, crisis, General, Marcus, Vin...</td>\n",
       "    </tr>\n",
       "    <tr>\n",
       "      <th>3</th>\n",
       "      <td>55.044771</td>\n",
       "      <td>0.925194</td>\n",
       "      <td>0.005663</td>\n",
       "      <td>[world, highly, qualified, crew, archaeologist...</td>\n",
       "    </tr>\n",
       "    <tr>\n",
       "      <th>4</th>\n",
       "      <td>-21.981352</td>\n",
       "      <td>0.836830</td>\n",
       "      <td>-0.043080</td>\n",
       "      <td>[widowed, mother, son, change, mysterious, str...</td>\n",
       "    </tr>\n",
       "    <tr>\n",
       "      <th>...</th>\n",
       "      <td>...</td>\n",
       "      <td>...</td>\n",
       "      <td>...</td>\n",
       "      <td>...</td>\n",
       "    </tr>\n",
       "    <tr>\n",
       "      <th>9532</th>\n",
       "      <td>-9.966182</td>\n",
       "      <td>0.918519</td>\n",
       "      <td>0.021296</td>\n",
       "      <td>[woman, island, getaway, boyfriend, thrown, lo...</td>\n",
       "    </tr>\n",
       "    <tr>\n",
       "      <th>9533</th>\n",
       "      <td>4.347826</td>\n",
       "      <td>0.816759</td>\n",
       "      <td>0.014545</td>\n",
       "      <td>[thrown, home, wife, promiscuous, Mark, finds,...</td>\n",
       "    </tr>\n",
       "    <tr>\n",
       "      <th>9534</th>\n",
       "      <td>-29.741054</td>\n",
       "      <td>0.916422</td>\n",
       "      <td>-0.000774</td>\n",
       "      <td>[high, school, boy, run, away, Tokyo, befriend...</td>\n",
       "    </tr>\n",
       "    <tr>\n",
       "      <th>9535</th>\n",
       "      <td>-17.762325</td>\n",
       "      <td>0.857858</td>\n",
       "      <td>0.070267</td>\n",
       "      <td>[true, life, story, Christian, music, star, Je...</td>\n",
       "    </tr>\n",
       "    <tr>\n",
       "      <th>9536</th>\n",
       "      <td>-96.107338</td>\n",
       "      <td>0.935511</td>\n",
       "      <td>-0.036648</td>\n",
       "      <td>[World, War, horizon, Despite, attempts, nucle...</td>\n",
       "    </tr>\n",
       "  </tbody>\n",
       "</table>\n",
       "<p>9537 rows × 4 columns</p>\n",
       "</div>"
      ],
      "text/plain": [
       "            ROI  objectivity_avg  polarity_avg  \\\n",
       "0     61.363636         0.903075      0.000992   \n",
       "1    -46.093333         0.898970      0.012065   \n",
       "2    -98.668687         0.814066     -0.071299   \n",
       "3     55.044771         0.925194      0.005663   \n",
       "4    -21.981352         0.836830     -0.043080   \n",
       "...         ...              ...           ...   \n",
       "9532  -9.966182         0.918519      0.021296   \n",
       "9533   4.347826         0.816759      0.014545   \n",
       "9534 -29.741054         0.916422     -0.000774   \n",
       "9535 -17.762325         0.857858      0.070267   \n",
       "9536 -96.107338         0.935511     -0.036648   \n",
       "\n",
       "                                       tokenized_blurbs  \n",
       "0     [Determined, hold, throne, Cleopatra, seduces,...  \n",
       "1     [Al, Roberts, New, York, nightclub, pianist, h...  \n",
       "2     [Set, drop, Rome, crisis, General, Marcus, Vin...  \n",
       "3     [world, highly, qualified, crew, archaeologist...  \n",
       "4     [widowed, mother, son, change, mysterious, str...  \n",
       "...                                                 ...  \n",
       "9532  [woman, island, getaway, boyfriend, thrown, lo...  \n",
       "9533  [thrown, home, wife, promiscuous, Mark, finds,...  \n",
       "9534  [high, school, boy, run, away, Tokyo, befriend...  \n",
       "9535  [true, life, story, Christian, music, star, Je...  \n",
       "9536  [World, War, horizon, Despite, attempts, nucle...  \n",
       "\n",
       "[9537 rows x 4 columns]"
      ]
     },
     "execution_count": 22,
     "metadata": {},
     "output_type": "execute_result"
    }
   ],
   "source": [
    "data[['ROI', 'objectivity_avg', 'polarity_avg', 'tokenized_blurbs']]"
   ]
  },
  {
   "cell_type": "code",
   "execution_count": 37,
   "metadata": {},
   "outputs": [
    {
     "data": {
      "image/png": "[encoded data removed]",
      "text/plain": [
       "<Figure size 432x288 with 1 Axes>"
      ]
     },
     "metadata": {},
     "output_type": "display_data"
    }
   ],
   "source": [
    "sns.scatterplot(y = data.ROI , x = data['polarity_avg']);"
   ]
  },
  {
   "cell_type": "code",
   "execution_count": 38,
   "metadata": {
    "scrolled": true
   },
   "outputs": [
    {
     "data": {
      "image/png": "[encoded data removed]",
      "text/plain": [
       "<Figure size 432x288 with 1 Axes>"
      ]
     },
     "metadata": {},
     "output_type": "display_data"
    }
   ],
   "source": [
    "sns.kdeplot(data['polarity_avg']);"
   ]
  },
  {
   "cell_type": "markdown",
   "metadata": {},
   "source": [
    "We can see that the polarity is normally distributed and centred around 0."
   ]
  },
  {
   "cell_type": "code",
   "execution_count": 27,
   "metadata": {},
   "outputs": [],
   "source": [
    "data.to_csv('blurb_analysis.csv')"
   ]
  },
  {
   "cell_type": "code",
   "execution_count": null,
   "metadata": {},
   "outputs": [],
   "source": []
  },
  {
   "cell_type": "code",
   "execution_count": null,
   "metadata": {},
   "outputs": [],
   "source": []
  },
  {
   "cell_type": "markdown",
   "metadata": {},
   "source": [
    "<b> Does vader sentiment analysis change the result? </b>"
   ]
  },
  {
   "cell_type": "code",
   "execution_count": 7,
   "metadata": {},
   "outputs": [],
   "source": [
    "from vaderSentiment.vaderSentiment import SentimentIntensityAnalyzer\n",
    "vader = SentimentIntensityAnalyzer()"
   ]
  },
  {
   "cell_type": "code",
   "execution_count": 31,
   "metadata": {},
   "outputs": [],
   "source": [
    "vader_scores = data['blurb'].replace(np.nan,'').map(vader.polarity_scores)"
   ]
  },
  {
   "cell_type": "code",
   "execution_count": 32,
   "metadata": {},
   "outputs": [],
   "source": [
    "from sklearn.feature_extraction import DictVectorizer\n",
    "\n",
    "dvec = DictVectorizer()\n",
    "\n",
    "vader_scores = dvec.fit_transform(vader_scores)\n",
    "vader_scores\n",
    "\n",
    "for i, col in enumerate(dvec.feature_names_):\n",
    "    data['vader_{}'.format(col)] = vader_scores[:, i].toarray().ravel()"
   ]
  },
  {
   "cell_type": "code",
   "execution_count": 33,
   "metadata": {},
   "outputs": [
    {
     "data": {
      "text/plain": [
       "['compound', 'neg', 'neu', 'pos']"
      ]
     },
     "execution_count": 33,
     "metadata": {},
     "output_type": "execute_result"
    }
   ],
   "source": [
    "dvec.feature_names_"
   ]
  },
  {
   "cell_type": "code",
   "execution_count": 35,
   "metadata": {},
   "outputs": [
    {
     "data": {
      "text/html": [
       "<div>\n",
       "<style scoped>\n",
       "    .dataframe tbody tr th:only-of-type {\n",
       "        vertical-align: middle;\n",
       "    }\n",
       "\n",
       "    .dataframe tbody tr th {\n",
       "        vertical-align: top;\n",
       "    }\n",
       "\n",
       "    .dataframe thead th {\n",
       "        text-align: right;\n",
       "    }\n",
       "</style>\n",
       "<table border=\"1\" class=\"dataframe\">\n",
       "  <thead>\n",
       "    <tr style=\"text-align: right;\">\n",
       "      <th></th>\n",
       "      <th>vader_compound</th>\n",
       "      <th>vader_neg</th>\n",
       "      <th>vader_neu</th>\n",
       "      <th>vader_pos</th>\n",
       "      <th>ROI</th>\n",
       "    </tr>\n",
       "  </thead>\n",
       "  <tbody>\n",
       "    <tr>\n",
       "      <th>vader_compound</th>\n",
       "      <td>1.000000</td>\n",
       "      <td>-0.724097</td>\n",
       "      <td>0.077181</td>\n",
       "      <td>0.694890</td>\n",
       "      <td>-0.003077</td>\n",
       "    </tr>\n",
       "    <tr>\n",
       "      <th>vader_neg</th>\n",
       "      <td>-0.724097</td>\n",
       "      <td>1.000000</td>\n",
       "      <td>-0.601460</td>\n",
       "      <td>-0.253038</td>\n",
       "      <td>0.015467</td>\n",
       "    </tr>\n",
       "    <tr>\n",
       "      <th>vader_neu</th>\n",
       "      <td>0.077181</td>\n",
       "      <td>-0.601460</td>\n",
       "      <td>1.000000</td>\n",
       "      <td>-0.501782</td>\n",
       "      <td>-0.013092</td>\n",
       "    </tr>\n",
       "    <tr>\n",
       "      <th>vader_pos</th>\n",
       "      <td>0.694890</td>\n",
       "      <td>-0.253038</td>\n",
       "      <td>-0.501782</td>\n",
       "      <td>1.000000</td>\n",
       "      <td>0.012634</td>\n",
       "    </tr>\n",
       "    <tr>\n",
       "      <th>ROI</th>\n",
       "      <td>-0.003077</td>\n",
       "      <td>0.015467</td>\n",
       "      <td>-0.013092</td>\n",
       "      <td>0.012634</td>\n",
       "      <td>1.000000</td>\n",
       "    </tr>\n",
       "  </tbody>\n",
       "</table>\n",
       "</div>"
      ],
      "text/plain": [
       "                vader_compound  vader_neg  vader_neu  vader_pos       ROI\n",
       "vader_compound        1.000000  -0.724097   0.077181   0.694890 -0.003077\n",
       "vader_neg            -0.724097   1.000000  -0.601460  -0.253038  0.015467\n",
       "vader_neu             0.077181  -0.601460   1.000000  -0.501782 -0.013092\n",
       "vader_pos             0.694890  -0.253038  -0.501782   1.000000  0.012634\n",
       "ROI                  -0.003077   0.015467  -0.013092   0.012634  1.000000"
      ]
     },
     "execution_count": 35,
     "metadata": {},
     "output_type": "execute_result"
    }
   ],
   "source": [
    "data[['vader_compound', 'vader_neg', 'vader_neu' , 'vader_pos', 'ROI']].corr()"
   ]
  },
  {
   "cell_type": "markdown",
   "metadata": {},
   "source": [
    "<b> Very similar results to the spacy sentiment </b>"
   ]
  },
  {
   "cell_type": "code",
   "execution_count": null,
   "metadata": {},
   "outputs": [],
   "source": []
  }
 ],
 "metadata": {
  "kernelspec": {
   "display_name": "spacy_env",
   "language": "python",
   "name": "spacy"
  },
  "language_info": {
   "codemirror_mode": {
    "name": "ipython",
    "version": 3
   },
   "file_extension": ".py",
   "mimetype": "text/x-python",
   "name": "python",
   "nbconvert_exporter": "python",
   "pygments_lexer": "ipython3",
   "version": "3.9.2"
  }
 },
 "nbformat": 4,
 "nbformat_minor": 4
}
