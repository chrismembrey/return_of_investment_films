{
 "cells": [
  {
   "cell_type": "code",
   "execution_count": 81,
   "metadata": {},
   "outputs": [],
   "source": [
    "import numpy as np\n",
    "import pandas as pd\n",
    "from sklearn.model_selection import train_test_split , GridSearchCV , cross_val_score\n",
    "from sklearn.preprocessing import StandardScaler\n",
    "from sklearn.compose import ColumnTransformer\n",
    "from sklearn.linear_model import LogisticRegression\n",
    "from sklearn.tree import DecisionTreeClassifier\n",
    "# from xgboost import XGBClassifier\n",
    "from sklearn import naive_bayes\n",
    "from sklearn import svm\n",
    "from tqdm import tqdm"
   ]
  },
  {
   "cell_type": "code",
   "execution_count": 43,
   "metadata": {},
   "outputs": [],
   "source": [
    "data = pd.read_csv('file:///Users/chrismembrey/Desktop/EDA_complete-Copy1.csv', lineterminator = '\\n')"
   ]
  },
  {
   "cell_type": "code",
   "execution_count": 44,
   "metadata": {},
   "outputs": [
    {
     "data": {
      "text/html": [
       "<div>\n",
       "<style scoped>\n",
       "    .dataframe tbody tr th:only-of-type {\n",
       "        vertical-align: middle;\n",
       "    }\n",
       "\n",
       "    .dataframe tbody tr th {\n",
       "        vertical-align: top;\n",
       "    }\n",
       "\n",
       "    .dataframe thead th {\n",
       "        text-align: right;\n",
       "    }\n",
       "</style>\n",
       "<table border=\"1\" class=\"dataframe\">\n",
       "  <thead>\n",
       "    <tr style=\"text-align: right;\">\n",
       "      <th></th>\n",
       "      <th>Unnamed: 0</th>\n",
       "      <th>tmdb_id</th>\n",
       "      <th>imdb_id</th>\n",
       "      <th>title</th>\n",
       "      <th>revenue</th>\n",
       "      <th>budget</th>\n",
       "      <th>genres</th>\n",
       "      <th>release_date</th>\n",
       "      <th>runtime</th>\n",
       "      <th>tmdb_vote_average</th>\n",
       "      <th>...</th>\n",
       "      <th>COMPOSER_Mitch Lee</th>\n",
       "      <th>COMPOSER_Robert Glasper</th>\n",
       "      <th>COMPOSER_Iván Wyszogrod</th>\n",
       "      <th>COMPOSER_Radwimps</th>\n",
       "      <th>COMPOSER_Peter Venne</th>\n",
       "      <th>original_language_bins</th>\n",
       "      <th>profit?</th>\n",
       "      <th>from_collection</th>\n",
       "      <th>blurb_objectivity</th>\n",
       "      <th>blurb_polarity</th>\n",
       "    </tr>\n",
       "  </thead>\n",
       "  <tbody>\n",
       "    <tr>\n",
       "      <th>0</th>\n",
       "      <td>0</td>\n",
       "      <td>8095.0</td>\n",
       "      <td>tt0056937</td>\n",
       "      <td>Cleopatra</td>\n",
       "      <td>71000000</td>\n",
       "      <td>44000000.0</td>\n",
       "      <td>['Drama', 'History', 'Romance']</td>\n",
       "      <td>1963-06-12</td>\n",
       "      <td>248.0</td>\n",
       "      <td>7.0</td>\n",
       "      <td>...</td>\n",
       "      <td>NaN</td>\n",
       "      <td>NaN</td>\n",
       "      <td>NaN</td>\n",
       "      <td>NaN</td>\n",
       "      <td>NaN</td>\n",
       "      <td>English</td>\n",
       "      <td>1</td>\n",
       "      <td>0</td>\n",
       "      <td>0.903075</td>\n",
       "      <td>0.000992</td>\n",
       "    </tr>\n",
       "    <tr>\n",
       "      <th>1</th>\n",
       "      <td>1</td>\n",
       "      <td>20367.0</td>\n",
       "      <td>tt0037638</td>\n",
       "      <td>Detour</td>\n",
       "      <td>16172</td>\n",
       "      <td>30000.0</td>\n",
       "      <td>['Crime', 'Drama']</td>\n",
       "      <td>1945-11-30</td>\n",
       "      <td>67.0</td>\n",
       "      <td>7.2</td>\n",
       "      <td>...</td>\n",
       "      <td>NaN</td>\n",
       "      <td>NaN</td>\n",
       "      <td>NaN</td>\n",
       "      <td>NaN</td>\n",
       "      <td>NaN</td>\n",
       "      <td>English</td>\n",
       "      <td>0</td>\n",
       "      <td>0</td>\n",
       "      <td>0.898970</td>\n",
       "      <td>0.012065</td>\n",
       "    </tr>\n",
       "    <tr>\n",
       "      <th>2</th>\n",
       "      <td>2</td>\n",
       "      <td>11620.0</td>\n",
       "      <td>tt0043949</td>\n",
       "      <td>Quo Vadis</td>\n",
       "      <td>101486</td>\n",
       "      <td>7623000.0</td>\n",
       "      <td>['Drama', 'History', 'Romance']</td>\n",
       "      <td>1951-11-08</td>\n",
       "      <td>171.0</td>\n",
       "      <td>7.0</td>\n",
       "      <td>...</td>\n",
       "      <td>NaN</td>\n",
       "      <td>NaN</td>\n",
       "      <td>NaN</td>\n",
       "      <td>NaN</td>\n",
       "      <td>NaN</td>\n",
       "      <td>English</td>\n",
       "      <td>0</td>\n",
       "      <td>0</td>\n",
       "      <td>0.814066</td>\n",
       "      <td>-0.071299</td>\n",
       "    </tr>\n",
       "    <tr>\n",
       "      <th>3</th>\n",
       "      <td>3</td>\n",
       "      <td>10865.0</td>\n",
       "      <td>tt0230011</td>\n",
       "      <td>Atlantis: The Lost Empire</td>\n",
       "      <td>186053725</td>\n",
       "      <td>120000000.0</td>\n",
       "      <td>['Animation', 'Family', 'Adventure', 'Science ...</td>\n",
       "      <td>2001-06-02</td>\n",
       "      <td>95.0</td>\n",
       "      <td>6.9</td>\n",
       "      <td>...</td>\n",
       "      <td>NaN</td>\n",
       "      <td>NaN</td>\n",
       "      <td>NaN</td>\n",
       "      <td>NaN</td>\n",
       "      <td>NaN</td>\n",
       "      <td>English</td>\n",
       "      <td>1</td>\n",
       "      <td>1</td>\n",
       "      <td>0.925194</td>\n",
       "      <td>0.005663</td>\n",
       "    </tr>\n",
       "    <tr>\n",
       "      <th>4</th>\n",
       "      <td>4</td>\n",
       "      <td>11313.0</td>\n",
       "      <td>tt0252501</td>\n",
       "      <td>Hearts in Atlantis</td>\n",
       "      <td>24185781</td>\n",
       "      <td>31000000.0</td>\n",
       "      <td>['Drama', 'Mystery']</td>\n",
       "      <td>2001-09-07</td>\n",
       "      <td>101.0</td>\n",
       "      <td>6.5</td>\n",
       "      <td>...</td>\n",
       "      <td>NaN</td>\n",
       "      <td>NaN</td>\n",
       "      <td>NaN</td>\n",
       "      <td>NaN</td>\n",
       "      <td>NaN</td>\n",
       "      <td>English</td>\n",
       "      <td>0</td>\n",
       "      <td>0</td>\n",
       "      <td>0.836830</td>\n",
       "      <td>-0.043080</td>\n",
       "    </tr>\n",
       "  </tbody>\n",
       "</table>\n",
       "<p>5 rows × 22035 columns</p>\n",
       "</div>"
      ],
      "text/plain": [
       "   Unnamed: 0  tmdb_id    imdb_id                      title    revenue  \\\n",
       "0           0   8095.0  tt0056937                  Cleopatra   71000000   \n",
       "1           1  20367.0  tt0037638                     Detour      16172   \n",
       "2           2  11620.0  tt0043949                  Quo Vadis     101486   \n",
       "3           3  10865.0  tt0230011  Atlantis: The Lost Empire  186053725   \n",
       "4           4  11313.0  tt0252501         Hearts in Atlantis   24185781   \n",
       "\n",
       "        budget                                             genres  \\\n",
       "0   44000000.0                    ['Drama', 'History', 'Romance']   \n",
       "1      30000.0                                 ['Crime', 'Drama']   \n",
       "2    7623000.0                    ['Drama', 'History', 'Romance']   \n",
       "3  120000000.0  ['Animation', 'Family', 'Adventure', 'Science ...   \n",
       "4   31000000.0                               ['Drama', 'Mystery']   \n",
       "\n",
       "  release_date  runtime  tmdb_vote_average  ...  COMPOSER_Mitch Lee  \\\n",
       "0   1963-06-12    248.0                7.0  ...                 NaN   \n",
       "1   1945-11-30     67.0                7.2  ...                 NaN   \n",
       "2   1951-11-08    171.0                7.0  ...                 NaN   \n",
       "3   2001-06-02     95.0                6.9  ...                 NaN   \n",
       "4   2001-09-07    101.0                6.5  ...                 NaN   \n",
       "\n",
       "  COMPOSER_Robert Glasper COMPOSER_Iván Wyszogrod COMPOSER_Radwimps  \\\n",
       "0                     NaN                     NaN               NaN   \n",
       "1                     NaN                     NaN               NaN   \n",
       "2                     NaN                     NaN               NaN   \n",
       "3                     NaN                     NaN               NaN   \n",
       "4                     NaN                     NaN               NaN   \n",
       "\n",
       "  COMPOSER_Peter Venne original_language_bins profit?  from_collection  \\\n",
       "0                  NaN                English       1                0   \n",
       "1                  NaN                English       0                0   \n",
       "2                  NaN                English       0                0   \n",
       "3                  NaN                English       1                1   \n",
       "4                  NaN                English       0                0   \n",
       "\n",
       "   blurb_objectivity blurb_polarity  \n",
       "0           0.903075       0.000992  \n",
       "1           0.898970       0.012065  \n",
       "2           0.814066      -0.071299  \n",
       "3           0.925194       0.005663  \n",
       "4           0.836830      -0.043080  \n",
       "\n",
       "[5 rows x 22035 columns]"
      ]
     },
     "execution_count": 44,
     "metadata": {},
     "output_type": "execute_result"
    }
   ],
   "source": [
    "data.head()"
   ]
  },
  {
   "cell_type": "markdown",
   "metadata": {},
   "source": [
    "<h3> check the variables </h3>"
   ]
  },
  {
   "cell_type": "code",
   "execution_count": 45,
   "metadata": {},
   "outputs": [
    {
     "data": {
      "text/plain": [
       "Index(['Unnamed: 0', 'tmdb_id', 'imdb_id', 'title', 'revenue', 'budget',\n",
       "       'genres', 'release_date', 'runtime', 'tmdb_vote_average',\n",
       "       'tmdb_vote_count', 'spoken_languages', 'production_countries', 'blurb',\n",
       "       'actors', 'directors', 'composer', 'ROI', 'month', 'day', 'year',\n",
       "       'inf_budget', 'blurb_length', 'genre_pair_unique', 'Unnamed: 13307',\n",
       "       'nan', 'original_language_bins', 'profit?', 'from_collection',\n",
       "       'blurb_objectivity', 'blurb_polarity'],\n",
       "      dtype='object')"
      ]
     },
     "execution_count": 45,
     "metadata": {},
     "output_type": "execute_result"
    }
   ],
   "source": [
    "data[[x for x in data.columns if ('Director' not in x) and ('ACTOR' not in x) \n",
    "      and ('COMPOSER' not in x) and ('BLURB' not in x) and ('GENRE' not in x)]].columns"
   ]
  },
  {
   "cell_type": "code",
   "execution_count": 46,
   "metadata": {},
   "outputs": [
    {
     "data": {
      "text/plain": [
       "(9537, 22035)"
      ]
     },
     "execution_count": 46,
     "metadata": {},
     "output_type": "execute_result"
    }
   ],
   "source": [
    "data.shape"
   ]
  },
  {
   "cell_type": "markdown",
   "metadata": {},
   "source": [
    "<h3> Some null values still require changing </h3> (espacially for dummified columns)"
   ]
  },
  {
   "cell_type": "code",
   "execution_count": 47,
   "metadata": {},
   "outputs": [],
   "source": [
    "data[[x for x in data.columns if 'Director' in x]] = data[[x for x in data.columns if 'Director' in x]].replace(np.nan,0)"
   ]
  },
  {
   "cell_type": "code",
   "execution_count": 48,
   "metadata": {},
   "outputs": [
    {
     "data": {
      "text/html": [
       "<div>\n",
       "<style scoped>\n",
       "    .dataframe tbody tr th:only-of-type {\n",
       "        vertical-align: middle;\n",
       "    }\n",
       "\n",
       "    .dataframe tbody tr th {\n",
       "        vertical-align: top;\n",
       "    }\n",
       "\n",
       "    .dataframe thead th {\n",
       "        text-align: right;\n",
       "    }\n",
       "</style>\n",
       "<table border=\"1\" class=\"dataframe\">\n",
       "  <thead>\n",
       "    <tr style=\"text-align: right;\">\n",
       "      <th></th>\n",
       "      <th>Director_Joseph L. Mankiewicz</th>\n",
       "      <th>Director_Edgar G. Ulmer</th>\n",
       "      <th>Director_Scott R. Beal</th>\n",
       "      <th>Director_Kenneth W. Richardson</th>\n",
       "      <th>Director_Gary Trousdale</th>\n",
       "      <th>Director_Kirk Wise</th>\n",
       "      <th>Director_Scott Hicks</th>\n",
       "      <th>Director_Robert J. Fraser</th>\n",
       "      <th>Director_Mark Rosman</th>\n",
       "      <th>Director_Darrin Brown</th>\n",
       "      <th>...</th>\n",
       "      <th>Director_Owen Egerton</th>\n",
       "      <th>Director_Salvador Simó</th>\n",
       "      <th>Director_Gene Stupnitsky</th>\n",
       "      <th>Director_Ben Hernandez Bray</th>\n",
       "      <th>Director_Marcelo Martinessi</th>\n",
       "      <th>Director_Alex Kendrick</th>\n",
       "      <th>Director_Diego Kaplan</th>\n",
       "      <th>Director_Martin J Pickering</th>\n",
       "      <th>Director_Makoto Shinkai</th>\n",
       "      <th>Director_Rémi St-Michel</th>\n",
       "    </tr>\n",
       "  </thead>\n",
       "  <tbody>\n",
       "    <tr>\n",
       "      <th>0</th>\n",
       "      <td>1.0</td>\n",
       "      <td>0.0</td>\n",
       "      <td>0.0</td>\n",
       "      <td>0.0</td>\n",
       "      <td>0.0</td>\n",
       "      <td>0.0</td>\n",
       "      <td>0.0</td>\n",
       "      <td>0.0</td>\n",
       "      <td>0.0</td>\n",
       "      <td>0.0</td>\n",
       "      <td>...</td>\n",
       "      <td>0.0</td>\n",
       "      <td>0.0</td>\n",
       "      <td>0.0</td>\n",
       "      <td>0.0</td>\n",
       "      <td>0.0</td>\n",
       "      <td>0.0</td>\n",
       "      <td>0.0</td>\n",
       "      <td>0.0</td>\n",
       "      <td>0.0</td>\n",
       "      <td>0.0</td>\n",
       "    </tr>\n",
       "    <tr>\n",
       "      <th>1</th>\n",
       "      <td>0.0</td>\n",
       "      <td>1.0</td>\n",
       "      <td>0.0</td>\n",
       "      <td>0.0</td>\n",
       "      <td>0.0</td>\n",
       "      <td>0.0</td>\n",
       "      <td>0.0</td>\n",
       "      <td>0.0</td>\n",
       "      <td>0.0</td>\n",
       "      <td>0.0</td>\n",
       "      <td>...</td>\n",
       "      <td>0.0</td>\n",
       "      <td>0.0</td>\n",
       "      <td>0.0</td>\n",
       "      <td>0.0</td>\n",
       "      <td>0.0</td>\n",
       "      <td>0.0</td>\n",
       "      <td>0.0</td>\n",
       "      <td>0.0</td>\n",
       "      <td>0.0</td>\n",
       "      <td>0.0</td>\n",
       "    </tr>\n",
       "    <tr>\n",
       "      <th>2</th>\n",
       "      <td>0.0</td>\n",
       "      <td>0.0</td>\n",
       "      <td>1.0</td>\n",
       "      <td>1.0</td>\n",
       "      <td>0.0</td>\n",
       "      <td>0.0</td>\n",
       "      <td>0.0</td>\n",
       "      <td>0.0</td>\n",
       "      <td>0.0</td>\n",
       "      <td>0.0</td>\n",
       "      <td>...</td>\n",
       "      <td>0.0</td>\n",
       "      <td>0.0</td>\n",
       "      <td>0.0</td>\n",
       "      <td>0.0</td>\n",
       "      <td>0.0</td>\n",
       "      <td>0.0</td>\n",
       "      <td>0.0</td>\n",
       "      <td>0.0</td>\n",
       "      <td>0.0</td>\n",
       "      <td>0.0</td>\n",
       "    </tr>\n",
       "    <tr>\n",
       "      <th>3</th>\n",
       "      <td>0.0</td>\n",
       "      <td>0.0</td>\n",
       "      <td>0.0</td>\n",
       "      <td>0.0</td>\n",
       "      <td>1.0</td>\n",
       "      <td>1.0</td>\n",
       "      <td>0.0</td>\n",
       "      <td>0.0</td>\n",
       "      <td>0.0</td>\n",
       "      <td>0.0</td>\n",
       "      <td>...</td>\n",
       "      <td>0.0</td>\n",
       "      <td>0.0</td>\n",
       "      <td>0.0</td>\n",
       "      <td>0.0</td>\n",
       "      <td>0.0</td>\n",
       "      <td>0.0</td>\n",
       "      <td>0.0</td>\n",
       "      <td>0.0</td>\n",
       "      <td>0.0</td>\n",
       "      <td>0.0</td>\n",
       "    </tr>\n",
       "    <tr>\n",
       "      <th>4</th>\n",
       "      <td>0.0</td>\n",
       "      <td>0.0</td>\n",
       "      <td>0.0</td>\n",
       "      <td>0.0</td>\n",
       "      <td>0.0</td>\n",
       "      <td>0.0</td>\n",
       "      <td>1.0</td>\n",
       "      <td>0.0</td>\n",
       "      <td>0.0</td>\n",
       "      <td>0.0</td>\n",
       "      <td>...</td>\n",
       "      <td>0.0</td>\n",
       "      <td>0.0</td>\n",
       "      <td>0.0</td>\n",
       "      <td>0.0</td>\n",
       "      <td>0.0</td>\n",
       "      <td>0.0</td>\n",
       "      <td>0.0</td>\n",
       "      <td>0.0</td>\n",
       "      <td>0.0</td>\n",
       "      <td>0.0</td>\n",
       "    </tr>\n",
       "    <tr>\n",
       "      <th>...</th>\n",
       "      <td>...</td>\n",
       "      <td>...</td>\n",
       "      <td>...</td>\n",
       "      <td>...</td>\n",
       "      <td>...</td>\n",
       "      <td>...</td>\n",
       "      <td>...</td>\n",
       "      <td>...</td>\n",
       "      <td>...</td>\n",
       "      <td>...</td>\n",
       "      <td>...</td>\n",
       "      <td>...</td>\n",
       "      <td>...</td>\n",
       "      <td>...</td>\n",
       "      <td>...</td>\n",
       "      <td>...</td>\n",
       "      <td>...</td>\n",
       "      <td>...</td>\n",
       "      <td>...</td>\n",
       "      <td>...</td>\n",
       "      <td>...</td>\n",
       "    </tr>\n",
       "    <tr>\n",
       "      <th>9532</th>\n",
       "      <td>0.0</td>\n",
       "      <td>0.0</td>\n",
       "      <td>0.0</td>\n",
       "      <td>0.0</td>\n",
       "      <td>0.0</td>\n",
       "      <td>0.0</td>\n",
       "      <td>0.0</td>\n",
       "      <td>0.0</td>\n",
       "      <td>0.0</td>\n",
       "      <td>0.0</td>\n",
       "      <td>...</td>\n",
       "      <td>0.0</td>\n",
       "      <td>0.0</td>\n",
       "      <td>0.0</td>\n",
       "      <td>0.0</td>\n",
       "      <td>0.0</td>\n",
       "      <td>0.0</td>\n",
       "      <td>1.0</td>\n",
       "      <td>0.0</td>\n",
       "      <td>0.0</td>\n",
       "      <td>0.0</td>\n",
       "    </tr>\n",
       "    <tr>\n",
       "      <th>9533</th>\n",
       "      <td>0.0</td>\n",
       "      <td>0.0</td>\n",
       "      <td>0.0</td>\n",
       "      <td>0.0</td>\n",
       "      <td>0.0</td>\n",
       "      <td>0.0</td>\n",
       "      <td>0.0</td>\n",
       "      <td>0.0</td>\n",
       "      <td>0.0</td>\n",
       "      <td>0.0</td>\n",
       "      <td>...</td>\n",
       "      <td>0.0</td>\n",
       "      <td>0.0</td>\n",
       "      <td>0.0</td>\n",
       "      <td>0.0</td>\n",
       "      <td>0.0</td>\n",
       "      <td>0.0</td>\n",
       "      <td>0.0</td>\n",
       "      <td>1.0</td>\n",
       "      <td>0.0</td>\n",
       "      <td>0.0</td>\n",
       "    </tr>\n",
       "    <tr>\n",
       "      <th>9534</th>\n",
       "      <td>0.0</td>\n",
       "      <td>0.0</td>\n",
       "      <td>0.0</td>\n",
       "      <td>0.0</td>\n",
       "      <td>0.0</td>\n",
       "      <td>0.0</td>\n",
       "      <td>0.0</td>\n",
       "      <td>0.0</td>\n",
       "      <td>0.0</td>\n",
       "      <td>0.0</td>\n",
       "      <td>...</td>\n",
       "      <td>0.0</td>\n",
       "      <td>0.0</td>\n",
       "      <td>0.0</td>\n",
       "      <td>0.0</td>\n",
       "      <td>0.0</td>\n",
       "      <td>0.0</td>\n",
       "      <td>0.0</td>\n",
       "      <td>0.0</td>\n",
       "      <td>1.0</td>\n",
       "      <td>0.0</td>\n",
       "    </tr>\n",
       "    <tr>\n",
       "      <th>9535</th>\n",
       "      <td>0.0</td>\n",
       "      <td>0.0</td>\n",
       "      <td>0.0</td>\n",
       "      <td>0.0</td>\n",
       "      <td>0.0</td>\n",
       "      <td>0.0</td>\n",
       "      <td>0.0</td>\n",
       "      <td>0.0</td>\n",
       "      <td>0.0</td>\n",
       "      <td>0.0</td>\n",
       "      <td>...</td>\n",
       "      <td>0.0</td>\n",
       "      <td>0.0</td>\n",
       "      <td>0.0</td>\n",
       "      <td>0.0</td>\n",
       "      <td>0.0</td>\n",
       "      <td>0.0</td>\n",
       "      <td>0.0</td>\n",
       "      <td>0.0</td>\n",
       "      <td>0.0</td>\n",
       "      <td>0.0</td>\n",
       "    </tr>\n",
       "    <tr>\n",
       "      <th>9536</th>\n",
       "      <td>0.0</td>\n",
       "      <td>0.0</td>\n",
       "      <td>0.0</td>\n",
       "      <td>0.0</td>\n",
       "      <td>0.0</td>\n",
       "      <td>0.0</td>\n",
       "      <td>0.0</td>\n",
       "      <td>0.0</td>\n",
       "      <td>0.0</td>\n",
       "      <td>0.0</td>\n",
       "      <td>...</td>\n",
       "      <td>0.0</td>\n",
       "      <td>0.0</td>\n",
       "      <td>0.0</td>\n",
       "      <td>0.0</td>\n",
       "      <td>0.0</td>\n",
       "      <td>0.0</td>\n",
       "      <td>0.0</td>\n",
       "      <td>0.0</td>\n",
       "      <td>0.0</td>\n",
       "      <td>1.0</td>\n",
       "    </tr>\n",
       "  </tbody>\n",
       "</table>\n",
       "<p>9537 rows × 5102 columns</p>\n",
       "</div>"
      ],
      "text/plain": [
       "      Director_Joseph L. Mankiewicz  Director_Edgar G. Ulmer  \\\n",
       "0                               1.0                      0.0   \n",
       "1                               0.0                      1.0   \n",
       "2                               0.0                      0.0   \n",
       "3                               0.0                      0.0   \n",
       "4                               0.0                      0.0   \n",
       "...                             ...                      ...   \n",
       "9532                            0.0                      0.0   \n",
       "9533                            0.0                      0.0   \n",
       "9534                            0.0                      0.0   \n",
       "9535                            0.0                      0.0   \n",
       "9536                            0.0                      0.0   \n",
       "\n",
       "      Director_Scott R. Beal  Director_Kenneth W. Richardson  \\\n",
       "0                        0.0                             0.0   \n",
       "1                        0.0                             0.0   \n",
       "2                        1.0                             1.0   \n",
       "3                        0.0                             0.0   \n",
       "4                        0.0                             0.0   \n",
       "...                      ...                             ...   \n",
       "9532                     0.0                             0.0   \n",
       "9533                     0.0                             0.0   \n",
       "9534                     0.0                             0.0   \n",
       "9535                     0.0                             0.0   \n",
       "9536                     0.0                             0.0   \n",
       "\n",
       "      Director_Gary Trousdale  Director_Kirk Wise  Director_Scott Hicks  \\\n",
       "0                         0.0                 0.0                   0.0   \n",
       "1                         0.0                 0.0                   0.0   \n",
       "2                         0.0                 0.0                   0.0   \n",
       "3                         1.0                 1.0                   0.0   \n",
       "4                         0.0                 0.0                   1.0   \n",
       "...                       ...                 ...                   ...   \n",
       "9532                      0.0                 0.0                   0.0   \n",
       "9533                      0.0                 0.0                   0.0   \n",
       "9534                      0.0                 0.0                   0.0   \n",
       "9535                      0.0                 0.0                   0.0   \n",
       "9536                      0.0                 0.0                   0.0   \n",
       "\n",
       "      Director_Robert J. Fraser  Director_Mark Rosman  Director_Darrin Brown  \\\n",
       "0                           0.0                   0.0                    0.0   \n",
       "1                           0.0                   0.0                    0.0   \n",
       "2                           0.0                   0.0                    0.0   \n",
       "3                           0.0                   0.0                    0.0   \n",
       "4                           0.0                   0.0                    0.0   \n",
       "...                         ...                   ...                    ...   \n",
       "9532                        0.0                   0.0                    0.0   \n",
       "9533                        0.0                   0.0                    0.0   \n",
       "9534                        0.0                   0.0                    0.0   \n",
       "9535                        0.0                   0.0                    0.0   \n",
       "9536                        0.0                   0.0                    0.0   \n",
       "\n",
       "      ...  Director_Owen Egerton  Director_Salvador Simó  \\\n",
       "0     ...                    0.0                     0.0   \n",
       "1     ...                    0.0                     0.0   \n",
       "2     ...                    0.0                     0.0   \n",
       "3     ...                    0.0                     0.0   \n",
       "4     ...                    0.0                     0.0   \n",
       "...   ...                    ...                     ...   \n",
       "9532  ...                    0.0                     0.0   \n",
       "9533  ...                    0.0                     0.0   \n",
       "9534  ...                    0.0                     0.0   \n",
       "9535  ...                    0.0                     0.0   \n",
       "9536  ...                    0.0                     0.0   \n",
       "\n",
       "      Director_Gene Stupnitsky  Director_Ben Hernandez Bray  \\\n",
       "0                          0.0                          0.0   \n",
       "1                          0.0                          0.0   \n",
       "2                          0.0                          0.0   \n",
       "3                          0.0                          0.0   \n",
       "4                          0.0                          0.0   \n",
       "...                        ...                          ...   \n",
       "9532                       0.0                          0.0   \n",
       "9533                       0.0                          0.0   \n",
       "9534                       0.0                          0.0   \n",
       "9535                       0.0                          0.0   \n",
       "9536                       0.0                          0.0   \n",
       "\n",
       "      Director_Marcelo Martinessi  Director_Alex Kendrick  \\\n",
       "0                             0.0                     0.0   \n",
       "1                             0.0                     0.0   \n",
       "2                             0.0                     0.0   \n",
       "3                             0.0                     0.0   \n",
       "4                             0.0                     0.0   \n",
       "...                           ...                     ...   \n",
       "9532                          0.0                     0.0   \n",
       "9533                          0.0                     0.0   \n",
       "9534                          0.0                     0.0   \n",
       "9535                          0.0                     0.0   \n",
       "9536                          0.0                     0.0   \n",
       "\n",
       "      Director_Diego Kaplan  Director_Martin J Pickering  \\\n",
       "0                       0.0                          0.0   \n",
       "1                       0.0                          0.0   \n",
       "2                       0.0                          0.0   \n",
       "3                       0.0                          0.0   \n",
       "4                       0.0                          0.0   \n",
       "...                     ...                          ...   \n",
       "9532                    1.0                          0.0   \n",
       "9533                    0.0                          1.0   \n",
       "9534                    0.0                          0.0   \n",
       "9535                    0.0                          0.0   \n",
       "9536                    0.0                          0.0   \n",
       "\n",
       "      Director_Makoto Shinkai  Director_Rémi St-Michel  \n",
       "0                         0.0                      0.0  \n",
       "1                         0.0                      0.0  \n",
       "2                         0.0                      0.0  \n",
       "3                         0.0                      0.0  \n",
       "4                         0.0                      0.0  \n",
       "...                       ...                      ...  \n",
       "9532                      0.0                      0.0  \n",
       "9533                      0.0                      0.0  \n",
       "9534                      1.0                      0.0  \n",
       "9535                      0.0                      0.0  \n",
       "9536                      0.0                      1.0  \n",
       "\n",
       "[9537 rows x 5102 columns]"
      ]
     },
     "execution_count": 48,
     "metadata": {},
     "output_type": "execute_result"
    }
   ],
   "source": [
    "data[[x for x in data.columns if 'Director' in x]]"
   ]
  },
  {
   "cell_type": "code",
   "execution_count": 49,
   "metadata": {},
   "outputs": [],
   "source": [
    "data[[x for x in data.columns if 'COMPOSER' in x]] = data[[x for x in data.columns if 'COMPOSER' in x]].replace(np.nan,0)"
   ]
  },
  {
   "cell_type": "code",
   "execution_count": 50,
   "metadata": {},
   "outputs": [
    {
     "data": {
      "text/html": [
       "<div>\n",
       "<style scoped>\n",
       "    .dataframe tbody tr th:only-of-type {\n",
       "        vertical-align: middle;\n",
       "    }\n",
       "\n",
       "    .dataframe tbody tr th {\n",
       "        vertical-align: top;\n",
       "    }\n",
       "\n",
       "    .dataframe thead th {\n",
       "        text-align: right;\n",
       "    }\n",
       "</style>\n",
       "<table border=\"1\" class=\"dataframe\">\n",
       "  <thead>\n",
       "    <tr style=\"text-align: right;\">\n",
       "      <th></th>\n",
       "      <th>COMPOSER_Alex North</th>\n",
       "      <th>COMPOSER_Leo Erdody</th>\n",
       "      <th>COMPOSER_Miklós Rózsa</th>\n",
       "      <th>COMPOSER_James Newton Howard</th>\n",
       "      <th>COMPOSER_Mychael Danna</th>\n",
       "      <th>COMPOSER_Patrick Doyle</th>\n",
       "      <th>COMPOSER_Christophe Beck</th>\n",
       "      <th>COMPOSER_Thomas Newman</th>\n",
       "      <th>COMPOSER_Trevor Jones</th>\n",
       "      <th>COMPOSER_Danny Elfman</th>\n",
       "      <th>...</th>\n",
       "      <th>COMPOSER_Tyler Stone</th>\n",
       "      <th>COMPOSER_Marcos Cruz Lloréns</th>\n",
       "      <th>COMPOSER_Marco Fedalto</th>\n",
       "      <th>COMPOSER_Arturo Cardelús</th>\n",
       "      <th>COMPOSER_Matt Novack</th>\n",
       "      <th>COMPOSER_Mitch Lee</th>\n",
       "      <th>COMPOSER_Robert Glasper</th>\n",
       "      <th>COMPOSER_Iván Wyszogrod</th>\n",
       "      <th>COMPOSER_Radwimps</th>\n",
       "      <th>COMPOSER_Peter Venne</th>\n",
       "    </tr>\n",
       "  </thead>\n",
       "  <tbody>\n",
       "    <tr>\n",
       "      <th>0</th>\n",
       "      <td>1.0</td>\n",
       "      <td>0.0</td>\n",
       "      <td>0.0</td>\n",
       "      <td>0.0</td>\n",
       "      <td>0.0</td>\n",
       "      <td>0.0</td>\n",
       "      <td>0.0</td>\n",
       "      <td>0.0</td>\n",
       "      <td>0.0</td>\n",
       "      <td>0.0</td>\n",
       "      <td>...</td>\n",
       "      <td>0.0</td>\n",
       "      <td>0.0</td>\n",
       "      <td>0.0</td>\n",
       "      <td>0.0</td>\n",
       "      <td>0.0</td>\n",
       "      <td>0.0</td>\n",
       "      <td>0.0</td>\n",
       "      <td>0.0</td>\n",
       "      <td>0.0</td>\n",
       "      <td>0.0</td>\n",
       "    </tr>\n",
       "    <tr>\n",
       "      <th>1</th>\n",
       "      <td>0.0</td>\n",
       "      <td>1.0</td>\n",
       "      <td>0.0</td>\n",
       "      <td>0.0</td>\n",
       "      <td>0.0</td>\n",
       "      <td>0.0</td>\n",
       "      <td>0.0</td>\n",
       "      <td>0.0</td>\n",
       "      <td>0.0</td>\n",
       "      <td>0.0</td>\n",
       "      <td>...</td>\n",
       "      <td>0.0</td>\n",
       "      <td>0.0</td>\n",
       "      <td>0.0</td>\n",
       "      <td>0.0</td>\n",
       "      <td>0.0</td>\n",
       "      <td>0.0</td>\n",
       "      <td>0.0</td>\n",
       "      <td>0.0</td>\n",
       "      <td>0.0</td>\n",
       "      <td>0.0</td>\n",
       "    </tr>\n",
       "    <tr>\n",
       "      <th>2</th>\n",
       "      <td>0.0</td>\n",
       "      <td>0.0</td>\n",
       "      <td>1.0</td>\n",
       "      <td>0.0</td>\n",
       "      <td>0.0</td>\n",
       "      <td>0.0</td>\n",
       "      <td>0.0</td>\n",
       "      <td>0.0</td>\n",
       "      <td>0.0</td>\n",
       "      <td>0.0</td>\n",
       "      <td>...</td>\n",
       "      <td>0.0</td>\n",
       "      <td>0.0</td>\n",
       "      <td>0.0</td>\n",
       "      <td>0.0</td>\n",
       "      <td>0.0</td>\n",
       "      <td>0.0</td>\n",
       "      <td>0.0</td>\n",
       "      <td>0.0</td>\n",
       "      <td>0.0</td>\n",
       "      <td>0.0</td>\n",
       "    </tr>\n",
       "    <tr>\n",
       "      <th>3</th>\n",
       "      <td>0.0</td>\n",
       "      <td>0.0</td>\n",
       "      <td>0.0</td>\n",
       "      <td>1.0</td>\n",
       "      <td>0.0</td>\n",
       "      <td>0.0</td>\n",
       "      <td>0.0</td>\n",
       "      <td>0.0</td>\n",
       "      <td>0.0</td>\n",
       "      <td>0.0</td>\n",
       "      <td>...</td>\n",
       "      <td>0.0</td>\n",
       "      <td>0.0</td>\n",
       "      <td>0.0</td>\n",
       "      <td>0.0</td>\n",
       "      <td>0.0</td>\n",
       "      <td>0.0</td>\n",
       "      <td>0.0</td>\n",
       "      <td>0.0</td>\n",
       "      <td>0.0</td>\n",
       "      <td>0.0</td>\n",
       "    </tr>\n",
       "    <tr>\n",
       "      <th>4</th>\n",
       "      <td>0.0</td>\n",
       "      <td>0.0</td>\n",
       "      <td>0.0</td>\n",
       "      <td>0.0</td>\n",
       "      <td>1.0</td>\n",
       "      <td>0.0</td>\n",
       "      <td>0.0</td>\n",
       "      <td>0.0</td>\n",
       "      <td>0.0</td>\n",
       "      <td>0.0</td>\n",
       "      <td>...</td>\n",
       "      <td>0.0</td>\n",
       "      <td>0.0</td>\n",
       "      <td>0.0</td>\n",
       "      <td>0.0</td>\n",
       "      <td>0.0</td>\n",
       "      <td>0.0</td>\n",
       "      <td>0.0</td>\n",
       "      <td>0.0</td>\n",
       "      <td>0.0</td>\n",
       "      <td>0.0</td>\n",
       "    </tr>\n",
       "    <tr>\n",
       "      <th>...</th>\n",
       "      <td>...</td>\n",
       "      <td>...</td>\n",
       "      <td>...</td>\n",
       "      <td>...</td>\n",
       "      <td>...</td>\n",
       "      <td>...</td>\n",
       "      <td>...</td>\n",
       "      <td>...</td>\n",
       "      <td>...</td>\n",
       "      <td>...</td>\n",
       "      <td>...</td>\n",
       "      <td>...</td>\n",
       "      <td>...</td>\n",
       "      <td>...</td>\n",
       "      <td>...</td>\n",
       "      <td>...</td>\n",
       "      <td>...</td>\n",
       "      <td>...</td>\n",
       "      <td>...</td>\n",
       "      <td>...</td>\n",
       "      <td>...</td>\n",
       "    </tr>\n",
       "    <tr>\n",
       "      <th>9532</th>\n",
       "      <td>0.0</td>\n",
       "      <td>0.0</td>\n",
       "      <td>0.0</td>\n",
       "      <td>0.0</td>\n",
       "      <td>0.0</td>\n",
       "      <td>0.0</td>\n",
       "      <td>0.0</td>\n",
       "      <td>0.0</td>\n",
       "      <td>0.0</td>\n",
       "      <td>0.0</td>\n",
       "      <td>...</td>\n",
       "      <td>0.0</td>\n",
       "      <td>0.0</td>\n",
       "      <td>0.0</td>\n",
       "      <td>0.0</td>\n",
       "      <td>0.0</td>\n",
       "      <td>0.0</td>\n",
       "      <td>0.0</td>\n",
       "      <td>1.0</td>\n",
       "      <td>0.0</td>\n",
       "      <td>0.0</td>\n",
       "    </tr>\n",
       "    <tr>\n",
       "      <th>9533</th>\n",
       "      <td>0.0</td>\n",
       "      <td>0.0</td>\n",
       "      <td>0.0</td>\n",
       "      <td>0.0</td>\n",
       "      <td>0.0</td>\n",
       "      <td>0.0</td>\n",
       "      <td>0.0</td>\n",
       "      <td>0.0</td>\n",
       "      <td>0.0</td>\n",
       "      <td>0.0</td>\n",
       "      <td>...</td>\n",
       "      <td>0.0</td>\n",
       "      <td>0.0</td>\n",
       "      <td>0.0</td>\n",
       "      <td>0.0</td>\n",
       "      <td>0.0</td>\n",
       "      <td>0.0</td>\n",
       "      <td>0.0</td>\n",
       "      <td>0.0</td>\n",
       "      <td>0.0</td>\n",
       "      <td>0.0</td>\n",
       "    </tr>\n",
       "    <tr>\n",
       "      <th>9534</th>\n",
       "      <td>0.0</td>\n",
       "      <td>0.0</td>\n",
       "      <td>0.0</td>\n",
       "      <td>0.0</td>\n",
       "      <td>0.0</td>\n",
       "      <td>0.0</td>\n",
       "      <td>0.0</td>\n",
       "      <td>0.0</td>\n",
       "      <td>0.0</td>\n",
       "      <td>0.0</td>\n",
       "      <td>...</td>\n",
       "      <td>0.0</td>\n",
       "      <td>0.0</td>\n",
       "      <td>0.0</td>\n",
       "      <td>0.0</td>\n",
       "      <td>0.0</td>\n",
       "      <td>0.0</td>\n",
       "      <td>0.0</td>\n",
       "      <td>0.0</td>\n",
       "      <td>1.0</td>\n",
       "      <td>0.0</td>\n",
       "    </tr>\n",
       "    <tr>\n",
       "      <th>9535</th>\n",
       "      <td>0.0</td>\n",
       "      <td>0.0</td>\n",
       "      <td>0.0</td>\n",
       "      <td>0.0</td>\n",
       "      <td>0.0</td>\n",
       "      <td>0.0</td>\n",
       "      <td>0.0</td>\n",
       "      <td>0.0</td>\n",
       "      <td>0.0</td>\n",
       "      <td>0.0</td>\n",
       "      <td>...</td>\n",
       "      <td>0.0</td>\n",
       "      <td>0.0</td>\n",
       "      <td>0.0</td>\n",
       "      <td>0.0</td>\n",
       "      <td>0.0</td>\n",
       "      <td>0.0</td>\n",
       "      <td>0.0</td>\n",
       "      <td>0.0</td>\n",
       "      <td>0.0</td>\n",
       "      <td>0.0</td>\n",
       "    </tr>\n",
       "    <tr>\n",
       "      <th>9536</th>\n",
       "      <td>0.0</td>\n",
       "      <td>0.0</td>\n",
       "      <td>0.0</td>\n",
       "      <td>0.0</td>\n",
       "      <td>0.0</td>\n",
       "      <td>0.0</td>\n",
       "      <td>0.0</td>\n",
       "      <td>0.0</td>\n",
       "      <td>0.0</td>\n",
       "      <td>0.0</td>\n",
       "      <td>...</td>\n",
       "      <td>0.0</td>\n",
       "      <td>0.0</td>\n",
       "      <td>0.0</td>\n",
       "      <td>0.0</td>\n",
       "      <td>0.0</td>\n",
       "      <td>0.0</td>\n",
       "      <td>0.0</td>\n",
       "      <td>0.0</td>\n",
       "      <td>0.0</td>\n",
       "      <td>1.0</td>\n",
       "    </tr>\n",
       "  </tbody>\n",
       "</table>\n",
       "<p>9537 rows × 3552 columns</p>\n",
       "</div>"
      ],
      "text/plain": [
       "      COMPOSER_Alex North  COMPOSER_Leo Erdody  COMPOSER_Miklós Rózsa  \\\n",
       "0                     1.0                  0.0                    0.0   \n",
       "1                     0.0                  1.0                    0.0   \n",
       "2                     0.0                  0.0                    1.0   \n",
       "3                     0.0                  0.0                    0.0   \n",
       "4                     0.0                  0.0                    0.0   \n",
       "...                   ...                  ...                    ...   \n",
       "9532                  0.0                  0.0                    0.0   \n",
       "9533                  0.0                  0.0                    0.0   \n",
       "9534                  0.0                  0.0                    0.0   \n",
       "9535                  0.0                  0.0                    0.0   \n",
       "9536                  0.0                  0.0                    0.0   \n",
       "\n",
       "      COMPOSER_James Newton Howard  COMPOSER_Mychael Danna  \\\n",
       "0                              0.0                     0.0   \n",
       "1                              0.0                     0.0   \n",
       "2                              0.0                     0.0   \n",
       "3                              1.0                     0.0   \n",
       "4                              0.0                     1.0   \n",
       "...                            ...                     ...   \n",
       "9532                           0.0                     0.0   \n",
       "9533                           0.0                     0.0   \n",
       "9534                           0.0                     0.0   \n",
       "9535                           0.0                     0.0   \n",
       "9536                           0.0                     0.0   \n",
       "\n",
       "      COMPOSER_Patrick Doyle  COMPOSER_Christophe Beck  \\\n",
       "0                        0.0                       0.0   \n",
       "1                        0.0                       0.0   \n",
       "2                        0.0                       0.0   \n",
       "3                        0.0                       0.0   \n",
       "4                        0.0                       0.0   \n",
       "...                      ...                       ...   \n",
       "9532                     0.0                       0.0   \n",
       "9533                     0.0                       0.0   \n",
       "9534                     0.0                       0.0   \n",
       "9535                     0.0                       0.0   \n",
       "9536                     0.0                       0.0   \n",
       "\n",
       "      COMPOSER_Thomas Newman  COMPOSER_Trevor Jones  COMPOSER_Danny Elfman  \\\n",
       "0                        0.0                    0.0                    0.0   \n",
       "1                        0.0                    0.0                    0.0   \n",
       "2                        0.0                    0.0                    0.0   \n",
       "3                        0.0                    0.0                    0.0   \n",
       "4                        0.0                    0.0                    0.0   \n",
       "...                      ...                    ...                    ...   \n",
       "9532                     0.0                    0.0                    0.0   \n",
       "9533                     0.0                    0.0                    0.0   \n",
       "9534                     0.0                    0.0                    0.0   \n",
       "9535                     0.0                    0.0                    0.0   \n",
       "9536                     0.0                    0.0                    0.0   \n",
       "\n",
       "      ...  COMPOSER_Tyler Stone  COMPOSER_Marcos Cruz Lloréns  \\\n",
       "0     ...                   0.0                           0.0   \n",
       "1     ...                   0.0                           0.0   \n",
       "2     ...                   0.0                           0.0   \n",
       "3     ...                   0.0                           0.0   \n",
       "4     ...                   0.0                           0.0   \n",
       "...   ...                   ...                           ...   \n",
       "9532  ...                   0.0                           0.0   \n",
       "9533  ...                   0.0                           0.0   \n",
       "9534  ...                   0.0                           0.0   \n",
       "9535  ...                   0.0                           0.0   \n",
       "9536  ...                   0.0                           0.0   \n",
       "\n",
       "      COMPOSER_Marco Fedalto  COMPOSER_Arturo Cardelús  COMPOSER_Matt Novack  \\\n",
       "0                        0.0                       0.0                   0.0   \n",
       "1                        0.0                       0.0                   0.0   \n",
       "2                        0.0                       0.0                   0.0   \n",
       "3                        0.0                       0.0                   0.0   \n",
       "4                        0.0                       0.0                   0.0   \n",
       "...                      ...                       ...                   ...   \n",
       "9532                     0.0                       0.0                   0.0   \n",
       "9533                     0.0                       0.0                   0.0   \n",
       "9534                     0.0                       0.0                   0.0   \n",
       "9535                     0.0                       0.0                   0.0   \n",
       "9536                     0.0                       0.0                   0.0   \n",
       "\n",
       "      COMPOSER_Mitch Lee  COMPOSER_Robert Glasper  COMPOSER_Iván Wyszogrod  \\\n",
       "0                    0.0                      0.0                      0.0   \n",
       "1                    0.0                      0.0                      0.0   \n",
       "2                    0.0                      0.0                      0.0   \n",
       "3                    0.0                      0.0                      0.0   \n",
       "4                    0.0                      0.0                      0.0   \n",
       "...                  ...                      ...                      ...   \n",
       "9532                 0.0                      0.0                      1.0   \n",
       "9533                 0.0                      0.0                      0.0   \n",
       "9534                 0.0                      0.0                      0.0   \n",
       "9535                 0.0                      0.0                      0.0   \n",
       "9536                 0.0                      0.0                      0.0   \n",
       "\n",
       "      COMPOSER_Radwimps  COMPOSER_Peter Venne  \n",
       "0                   0.0                   0.0  \n",
       "1                   0.0                   0.0  \n",
       "2                   0.0                   0.0  \n",
       "3                   0.0                   0.0  \n",
       "4                   0.0                   0.0  \n",
       "...                 ...                   ...  \n",
       "9532                0.0                   0.0  \n",
       "9533                0.0                   0.0  \n",
       "9534                1.0                   0.0  \n",
       "9535                0.0                   0.0  \n",
       "9536                0.0                   1.0  \n",
       "\n",
       "[9537 rows x 3552 columns]"
      ]
     },
     "execution_count": 50,
     "metadata": {},
     "output_type": "execute_result"
    }
   ],
   "source": [
    "data[[x for x in data.columns if 'COMPOSER' in x]]"
   ]
  },
  {
   "cell_type": "code",
   "execution_count": 51,
   "metadata": {},
   "outputs": [],
   "source": [
    "data[[x for x in data.columns if 'ACTOR' in x]] = data[[x for x in data.columns if 'ACTOR' in x]].replace(np.nan,0)"
   ]
  },
  {
   "cell_type": "code",
   "execution_count": 52,
   "metadata": {},
   "outputs": [
    {
     "data": {
      "text/html": [
       "<div>\n",
       "<style scoped>\n",
       "    .dataframe tbody tr th:only-of-type {\n",
       "        vertical-align: middle;\n",
       "    }\n",
       "\n",
       "    .dataframe tbody tr th {\n",
       "        vertical-align: top;\n",
       "    }\n",
       "\n",
       "    .dataframe thead th {\n",
       "        text-align: right;\n",
       "    }\n",
       "</style>\n",
       "<table border=\"1\" class=\"dataframe\">\n",
       "  <thead>\n",
       "    <tr style=\"text-align: right;\">\n",
       "      <th></th>\n",
       "      <th>ACTOR_Elizabeth Taylor</th>\n",
       "      <th>ACTOR_Richard Burton</th>\n",
       "      <th>ACTOR_Rex Harrison</th>\n",
       "      <th>ACTOR_Pamela Brown</th>\n",
       "      <th>ACTOR_Hume Cronyn</th>\n",
       "      <th>ACTOR_Andrew Keir</th>\n",
       "      <th>ACTOR_Martin Landau</th>\n",
       "      <th>ACTOR_Roddy McDowall</th>\n",
       "      <th>ACTOR_Robert Stephens</th>\n",
       "      <th>ACTOR_Francesca Annis</th>\n",
       "      <th>...</th>\n",
       "      <th>ACTOR_Samantha Langevin</th>\n",
       "      <th>ACTOR_Cliff De Young</th>\n",
       "      <th>ACTOR_Tommy Tiny Lister</th>\n",
       "      <th>ACTOR_Peter Berg</th>\n",
       "      <th>ACTOR_Fred Thompson</th>\n",
       "      <th>ACTOR_Kenneth Branagh</th>\n",
       "      <th>ACTOR_Hallie Eisenberg</th>\n",
       "      <th>ACTOR_Jay Rodan</th>\n",
       "      <th>ACTOR_Kareena Kapoor</th>\n",
       "      <th>ACTOR_Eriq Ebouaney</th>\n",
       "    </tr>\n",
       "  </thead>\n",
       "  <tbody>\n",
       "    <tr>\n",
       "      <th>0</th>\n",
       "      <td>1.0</td>\n",
       "      <td>1.0</td>\n",
       "      <td>1.0</td>\n",
       "      <td>1.0</td>\n",
       "      <td>1.0</td>\n",
       "      <td>1.0</td>\n",
       "      <td>1.0</td>\n",
       "      <td>1.0</td>\n",
       "      <td>1.0</td>\n",
       "      <td>1.0</td>\n",
       "      <td>...</td>\n",
       "      <td>0.0</td>\n",
       "      <td>0.0</td>\n",
       "      <td>0.0</td>\n",
       "      <td>0.0</td>\n",
       "      <td>0.0</td>\n",
       "      <td>0.0</td>\n",
       "      <td>0.0</td>\n",
       "      <td>0.0</td>\n",
       "      <td>0.0</td>\n",
       "      <td>0.0</td>\n",
       "    </tr>\n",
       "    <tr>\n",
       "      <th>1</th>\n",
       "      <td>0.0</td>\n",
       "      <td>0.0</td>\n",
       "      <td>0.0</td>\n",
       "      <td>0.0</td>\n",
       "      <td>0.0</td>\n",
       "      <td>0.0</td>\n",
       "      <td>0.0</td>\n",
       "      <td>0.0</td>\n",
       "      <td>0.0</td>\n",
       "      <td>0.0</td>\n",
       "      <td>...</td>\n",
       "      <td>0.0</td>\n",
       "      <td>0.0</td>\n",
       "      <td>0.0</td>\n",
       "      <td>0.0</td>\n",
       "      <td>0.0</td>\n",
       "      <td>0.0</td>\n",
       "      <td>0.0</td>\n",
       "      <td>0.0</td>\n",
       "      <td>0.0</td>\n",
       "      <td>0.0</td>\n",
       "    </tr>\n",
       "    <tr>\n",
       "      <th>2</th>\n",
       "      <td>1.0</td>\n",
       "      <td>0.0</td>\n",
       "      <td>0.0</td>\n",
       "      <td>0.0</td>\n",
       "      <td>0.0</td>\n",
       "      <td>0.0</td>\n",
       "      <td>0.0</td>\n",
       "      <td>0.0</td>\n",
       "      <td>0.0</td>\n",
       "      <td>0.0</td>\n",
       "      <td>...</td>\n",
       "      <td>0.0</td>\n",
       "      <td>0.0</td>\n",
       "      <td>0.0</td>\n",
       "      <td>0.0</td>\n",
       "      <td>0.0</td>\n",
       "      <td>0.0</td>\n",
       "      <td>0.0</td>\n",
       "      <td>0.0</td>\n",
       "      <td>0.0</td>\n",
       "      <td>0.0</td>\n",
       "    </tr>\n",
       "    <tr>\n",
       "      <th>3</th>\n",
       "      <td>0.0</td>\n",
       "      <td>0.0</td>\n",
       "      <td>0.0</td>\n",
       "      <td>0.0</td>\n",
       "      <td>0.0</td>\n",
       "      <td>0.0</td>\n",
       "      <td>0.0</td>\n",
       "      <td>0.0</td>\n",
       "      <td>0.0</td>\n",
       "      <td>0.0</td>\n",
       "      <td>...</td>\n",
       "      <td>0.0</td>\n",
       "      <td>0.0</td>\n",
       "      <td>0.0</td>\n",
       "      <td>0.0</td>\n",
       "      <td>0.0</td>\n",
       "      <td>0.0</td>\n",
       "      <td>0.0</td>\n",
       "      <td>0.0</td>\n",
       "      <td>0.0</td>\n",
       "      <td>0.0</td>\n",
       "    </tr>\n",
       "    <tr>\n",
       "      <th>4</th>\n",
       "      <td>0.0</td>\n",
       "      <td>0.0</td>\n",
       "      <td>0.0</td>\n",
       "      <td>0.0</td>\n",
       "      <td>0.0</td>\n",
       "      <td>0.0</td>\n",
       "      <td>0.0</td>\n",
       "      <td>0.0</td>\n",
       "      <td>0.0</td>\n",
       "      <td>0.0</td>\n",
       "      <td>...</td>\n",
       "      <td>0.0</td>\n",
       "      <td>0.0</td>\n",
       "      <td>0.0</td>\n",
       "      <td>0.0</td>\n",
       "      <td>0.0</td>\n",
       "      <td>0.0</td>\n",
       "      <td>0.0</td>\n",
       "      <td>0.0</td>\n",
       "      <td>0.0</td>\n",
       "      <td>0.0</td>\n",
       "    </tr>\n",
       "    <tr>\n",
       "      <th>...</th>\n",
       "      <td>...</td>\n",
       "      <td>...</td>\n",
       "      <td>...</td>\n",
       "      <td>...</td>\n",
       "      <td>...</td>\n",
       "      <td>...</td>\n",
       "      <td>...</td>\n",
       "      <td>...</td>\n",
       "      <td>...</td>\n",
       "      <td>...</td>\n",
       "      <td>...</td>\n",
       "      <td>...</td>\n",
       "      <td>...</td>\n",
       "      <td>...</td>\n",
       "      <td>...</td>\n",
       "      <td>...</td>\n",
       "      <td>...</td>\n",
       "      <td>...</td>\n",
       "      <td>...</td>\n",
       "      <td>...</td>\n",
       "      <td>...</td>\n",
       "    </tr>\n",
       "    <tr>\n",
       "      <th>9532</th>\n",
       "      <td>0.0</td>\n",
       "      <td>0.0</td>\n",
       "      <td>0.0</td>\n",
       "      <td>0.0</td>\n",
       "      <td>0.0</td>\n",
       "      <td>0.0</td>\n",
       "      <td>0.0</td>\n",
       "      <td>0.0</td>\n",
       "      <td>0.0</td>\n",
       "      <td>0.0</td>\n",
       "      <td>...</td>\n",
       "      <td>0.0</td>\n",
       "      <td>0.0</td>\n",
       "      <td>0.0</td>\n",
       "      <td>0.0</td>\n",
       "      <td>0.0</td>\n",
       "      <td>0.0</td>\n",
       "      <td>0.0</td>\n",
       "      <td>0.0</td>\n",
       "      <td>0.0</td>\n",
       "      <td>0.0</td>\n",
       "    </tr>\n",
       "    <tr>\n",
       "      <th>9533</th>\n",
       "      <td>0.0</td>\n",
       "      <td>0.0</td>\n",
       "      <td>0.0</td>\n",
       "      <td>0.0</td>\n",
       "      <td>0.0</td>\n",
       "      <td>0.0</td>\n",
       "      <td>0.0</td>\n",
       "      <td>0.0</td>\n",
       "      <td>0.0</td>\n",
       "      <td>0.0</td>\n",
       "      <td>...</td>\n",
       "      <td>0.0</td>\n",
       "      <td>0.0</td>\n",
       "      <td>0.0</td>\n",
       "      <td>0.0</td>\n",
       "      <td>0.0</td>\n",
       "      <td>0.0</td>\n",
       "      <td>0.0</td>\n",
       "      <td>0.0</td>\n",
       "      <td>0.0</td>\n",
       "      <td>0.0</td>\n",
       "    </tr>\n",
       "    <tr>\n",
       "      <th>9534</th>\n",
       "      <td>0.0</td>\n",
       "      <td>0.0</td>\n",
       "      <td>0.0</td>\n",
       "      <td>0.0</td>\n",
       "      <td>0.0</td>\n",
       "      <td>0.0</td>\n",
       "      <td>0.0</td>\n",
       "      <td>0.0</td>\n",
       "      <td>0.0</td>\n",
       "      <td>0.0</td>\n",
       "      <td>...</td>\n",
       "      <td>0.0</td>\n",
       "      <td>0.0</td>\n",
       "      <td>0.0</td>\n",
       "      <td>0.0</td>\n",
       "      <td>0.0</td>\n",
       "      <td>0.0</td>\n",
       "      <td>0.0</td>\n",
       "      <td>0.0</td>\n",
       "      <td>0.0</td>\n",
       "      <td>0.0</td>\n",
       "    </tr>\n",
       "    <tr>\n",
       "      <th>9535</th>\n",
       "      <td>0.0</td>\n",
       "      <td>0.0</td>\n",
       "      <td>0.0</td>\n",
       "      <td>0.0</td>\n",
       "      <td>0.0</td>\n",
       "      <td>0.0</td>\n",
       "      <td>0.0</td>\n",
       "      <td>0.0</td>\n",
       "      <td>0.0</td>\n",
       "      <td>0.0</td>\n",
       "      <td>...</td>\n",
       "      <td>0.0</td>\n",
       "      <td>0.0</td>\n",
       "      <td>0.0</td>\n",
       "      <td>0.0</td>\n",
       "      <td>0.0</td>\n",
       "      <td>0.0</td>\n",
       "      <td>0.0</td>\n",
       "      <td>0.0</td>\n",
       "      <td>0.0</td>\n",
       "      <td>0.0</td>\n",
       "    </tr>\n",
       "    <tr>\n",
       "      <th>9536</th>\n",
       "      <td>0.0</td>\n",
       "      <td>0.0</td>\n",
       "      <td>0.0</td>\n",
       "      <td>0.0</td>\n",
       "      <td>0.0</td>\n",
       "      <td>0.0</td>\n",
       "      <td>0.0</td>\n",
       "      <td>0.0</td>\n",
       "      <td>0.0</td>\n",
       "      <td>0.0</td>\n",
       "      <td>...</td>\n",
       "      <td>0.0</td>\n",
       "      <td>0.0</td>\n",
       "      <td>0.0</td>\n",
       "      <td>0.0</td>\n",
       "      <td>0.0</td>\n",
       "      <td>0.0</td>\n",
       "      <td>0.0</td>\n",
       "      <td>0.0</td>\n",
       "      <td>0.0</td>\n",
       "      <td>0.0</td>\n",
       "    </tr>\n",
       "  </tbody>\n",
       "</table>\n",
       "<p>9537 rows × 13228 columns</p>\n",
       "</div>"
      ],
      "text/plain": [
       "      ACTOR_Elizabeth Taylor  ACTOR_Richard Burton  ACTOR_Rex Harrison  \\\n",
       "0                        1.0                   1.0                 1.0   \n",
       "1                        0.0                   0.0                 0.0   \n",
       "2                        1.0                   0.0                 0.0   \n",
       "3                        0.0                   0.0                 0.0   \n",
       "4                        0.0                   0.0                 0.0   \n",
       "...                      ...                   ...                 ...   \n",
       "9532                     0.0                   0.0                 0.0   \n",
       "9533                     0.0                   0.0                 0.0   \n",
       "9534                     0.0                   0.0                 0.0   \n",
       "9535                     0.0                   0.0                 0.0   \n",
       "9536                     0.0                   0.0                 0.0   \n",
       "\n",
       "      ACTOR_Pamela Brown  ACTOR_Hume Cronyn  ACTOR_Andrew Keir  \\\n",
       "0                    1.0                1.0                1.0   \n",
       "1                    0.0                0.0                0.0   \n",
       "2                    0.0                0.0                0.0   \n",
       "3                    0.0                0.0                0.0   \n",
       "4                    0.0                0.0                0.0   \n",
       "...                  ...                ...                ...   \n",
       "9532                 0.0                0.0                0.0   \n",
       "9533                 0.0                0.0                0.0   \n",
       "9534                 0.0                0.0                0.0   \n",
       "9535                 0.0                0.0                0.0   \n",
       "9536                 0.0                0.0                0.0   \n",
       "\n",
       "      ACTOR_Martin Landau  ACTOR_Roddy McDowall  ACTOR_Robert Stephens  \\\n",
       "0                     1.0                   1.0                    1.0   \n",
       "1                     0.0                   0.0                    0.0   \n",
       "2                     0.0                   0.0                    0.0   \n",
       "3                     0.0                   0.0                    0.0   \n",
       "4                     0.0                   0.0                    0.0   \n",
       "...                   ...                   ...                    ...   \n",
       "9532                  0.0                   0.0                    0.0   \n",
       "9533                  0.0                   0.0                    0.0   \n",
       "9534                  0.0                   0.0                    0.0   \n",
       "9535                  0.0                   0.0                    0.0   \n",
       "9536                  0.0                   0.0                    0.0   \n",
       "\n",
       "      ACTOR_Francesca Annis  ...  ACTOR_Samantha Langevin  \\\n",
       "0                       1.0  ...                      0.0   \n",
       "1                       0.0  ...                      0.0   \n",
       "2                       0.0  ...                      0.0   \n",
       "3                       0.0  ...                      0.0   \n",
       "4                       0.0  ...                      0.0   \n",
       "...                     ...  ...                      ...   \n",
       "9532                    0.0  ...                      0.0   \n",
       "9533                    0.0  ...                      0.0   \n",
       "9534                    0.0  ...                      0.0   \n",
       "9535                    0.0  ...                      0.0   \n",
       "9536                    0.0  ...                      0.0   \n",
       "\n",
       "      ACTOR_Cliff De Young  ACTOR_Tommy Tiny Lister  ACTOR_Peter Berg  \\\n",
       "0                      0.0                      0.0               0.0   \n",
       "1                      0.0                      0.0               0.0   \n",
       "2                      0.0                      0.0               0.0   \n",
       "3                      0.0                      0.0               0.0   \n",
       "4                      0.0                      0.0               0.0   \n",
       "...                    ...                      ...               ...   \n",
       "9532                   0.0                      0.0               0.0   \n",
       "9533                   0.0                      0.0               0.0   \n",
       "9534                   0.0                      0.0               0.0   \n",
       "9535                   0.0                      0.0               0.0   \n",
       "9536                   0.0                      0.0               0.0   \n",
       "\n",
       "      ACTOR_Fred Thompson  ACTOR_Kenneth Branagh  ACTOR_Hallie Eisenberg  \\\n",
       "0                     0.0                    0.0                     0.0   \n",
       "1                     0.0                    0.0                     0.0   \n",
       "2                     0.0                    0.0                     0.0   \n",
       "3                     0.0                    0.0                     0.0   \n",
       "4                     0.0                    0.0                     0.0   \n",
       "...                   ...                    ...                     ...   \n",
       "9532                  0.0                    0.0                     0.0   \n",
       "9533                  0.0                    0.0                     0.0   \n",
       "9534                  0.0                    0.0                     0.0   \n",
       "9535                  0.0                    0.0                     0.0   \n",
       "9536                  0.0                    0.0                     0.0   \n",
       "\n",
       "      ACTOR_Jay Rodan  ACTOR_Kareena Kapoor  ACTOR_Eriq Ebouaney  \n",
       "0                 0.0                   0.0                  0.0  \n",
       "1                 0.0                   0.0                  0.0  \n",
       "2                 0.0                   0.0                  0.0  \n",
       "3                 0.0                   0.0                  0.0  \n",
       "4                 0.0                   0.0                  0.0  \n",
       "...               ...                   ...                  ...  \n",
       "9532              0.0                   0.0                  0.0  \n",
       "9533              0.0                   0.0                  0.0  \n",
       "9534              0.0                   0.0                  0.0  \n",
       "9535              0.0                   0.0                  0.0  \n",
       "9536              0.0                   0.0                  0.0  \n",
       "\n",
       "[9537 rows x 13228 columns]"
      ]
     },
     "execution_count": 52,
     "metadata": {},
     "output_type": "execute_result"
    }
   ],
   "source": [
    "data[[x for x in data.columns if 'ACTOR' in x]] "
   ]
  },
  {
   "cell_type": "code",
   "execution_count": 53,
   "metadata": {},
   "outputs": [],
   "source": [
    "data['runtime'] = data.runtime.replace(np.nan,np.median(data.runtime[data.runtime.isnull() == False]))"
   ]
  },
  {
   "cell_type": "code",
   "execution_count": 54,
   "metadata": {},
   "outputs": [],
   "source": [
    "data.blurb_length = data.blurb_length.replace(np.nan,np.median(data.blurb_length[data.blurb_length.isnull() == False]))"
   ]
  },
  {
   "cell_type": "code",
   "execution_count": 55,
   "metadata": {},
   "outputs": [
    {
     "data": {
      "text/html": [
       "<div>\n",
       "<style scoped>\n",
       "    .dataframe tbody tr th:only-of-type {\n",
       "        vertical-align: middle;\n",
       "    }\n",
       "\n",
       "    .dataframe tbody tr th {\n",
       "        vertical-align: top;\n",
       "    }\n",
       "\n",
       "    .dataframe thead th {\n",
       "        text-align: right;\n",
       "    }\n",
       "</style>\n",
       "<table border=\"1\" class=\"dataframe\">\n",
       "  <thead>\n",
       "    <tr style=\"text-align: right;\">\n",
       "      <th></th>\n",
       "      <th>0</th>\n",
       "    </tr>\n",
       "  </thead>\n",
       "  <tbody>\n",
       "    <tr>\n",
       "      <th>tmdb_id</th>\n",
       "      <td>1546</td>\n",
       "    </tr>\n",
       "    <tr>\n",
       "      <th>imdb_id</th>\n",
       "      <td>28</td>\n",
       "    </tr>\n",
       "    <tr>\n",
       "      <th>genres</th>\n",
       "      <td>23</td>\n",
       "    </tr>\n",
       "    <tr>\n",
       "      <th>spoken_languages</th>\n",
       "      <td>41</td>\n",
       "    </tr>\n",
       "    <tr>\n",
       "      <th>production_countries</th>\n",
       "      <td>125</td>\n",
       "    </tr>\n",
       "    <tr>\n",
       "      <th>blurb</th>\n",
       "      <td>24</td>\n",
       "    </tr>\n",
       "    <tr>\n",
       "      <th>actors</th>\n",
       "      <td>18</td>\n",
       "    </tr>\n",
       "    <tr>\n",
       "      <th>composer</th>\n",
       "      <td>605</td>\n",
       "    </tr>\n",
       "    <tr>\n",
       "      <th>Unnamed: 13307</th>\n",
       "      <td>9294</td>\n",
       "    </tr>\n",
       "    <tr>\n",
       "      <th>nan</th>\n",
       "      <td>9534</td>\n",
       "    </tr>\n",
       "  </tbody>\n",
       "</table>\n",
       "</div>"
      ],
      "text/plain": [
       "                         0\n",
       "tmdb_id               1546\n",
       "imdb_id                 28\n",
       "genres                  23\n",
       "spoken_languages        41\n",
       "production_countries   125\n",
       "blurb                   24\n",
       "actors                  18\n",
       "composer               605\n",
       "Unnamed: 13307        9294\n",
       "nan                   9534"
      ]
     },
     "execution_count": 55,
     "metadata": {},
     "output_type": "execute_result"
    }
   ],
   "source": [
    "data.isnull().sum().to_frame()[data.isnull().sum().to_frame().iloc[:,0] > 0]"
   ]
  },
  {
   "cell_type": "markdown",
   "metadata": {},
   "source": [
    "<h3> Variables that will be used to look at ROI </h3>"
   ]
  },
  {
   "cell_type": "raw",
   "metadata": {},
   "source": [
    "need to remove all variables not in this list:\n",
    "\n",
    "-Directors (binary)\n",
    "-Composers (binary)\n",
    "-runtime (continuous)\n",
    "-genre (binary)\n",
    "-day of week (catagorical)\n",
    "-month released (catagorical)\n",
    "-inflation budget (continuous)\n",
    "-original language bins (catagorical)\n",
    "-blurb length (continuous)\n",
    "-from collection (binary)\n",
    "-blurb objectivity (continuous)\n",
    "-blurb polarity (coninuous)\n",
    "-unique genre (binary)\n",
    "-blurb words with top 100 roi means (binary)\n",
    "-actors with more than 3 films to thier name (binary)"
   ]
  },
  {
   "cell_type": "code",
   "execution_count": 56,
   "metadata": {},
   "outputs": [],
   "source": [
    "data.drop(['Unnamed: 0', 'tmdb_id', 'imdb_id', 'title', 'revenue', 'budget',\n",
    "       'genres', 'release_date','tmdb_vote_average',\n",
    "       'tmdb_vote_count', 'spoken_languages', 'production_countries', 'blurb',\n",
    "       'actors', 'directors', 'composer', 'year','ROI','Unnamed: 13307',\n",
    "       'nan'], axis = 1, inplace = True)"
   ]
  },
  {
   "cell_type": "code",
   "execution_count": 57,
   "metadata": {},
   "outputs": [],
   "source": [
    "df = data.copy()"
   ]
  },
  {
   "cell_type": "code",
   "execution_count": 17,
   "metadata": {},
   "outputs": [],
   "source": [
    "y = df.pop('profit?')"
   ]
  },
  {
   "cell_type": "code",
   "execution_count": 58,
   "metadata": {},
   "outputs": [],
   "source": [
    "X = df"
   ]
  },
  {
   "cell_type": "code",
   "execution_count": 59,
   "metadata": {},
   "outputs": [
    {
     "data": {
      "text/plain": [
       "(9537, 22015)"
      ]
     },
     "execution_count": 59,
     "metadata": {},
     "output_type": "execute_result"
    }
   ],
   "source": [
    "X.shape"
   ]
  },
  {
   "cell_type": "markdown",
   "metadata": {},
   "source": [
    "<b> Baseline </b>"
   ]
  },
  {
   "cell_type": "code",
   "execution_count": 26,
   "metadata": {},
   "outputs": [
    {
     "data": {
      "text/plain": [
       "1    0.573765\n",
       "0    0.426235\n",
       "Name: profit?, dtype: float64"
      ]
     },
     "execution_count": 26,
     "metadata": {},
     "output_type": "execute_result"
    }
   ],
   "source": [
    "y.value_counts(normalize = True)"
   ]
  },
  {
   "cell_type": "markdown",
   "metadata": {},
   "source": [
    "<h1>Preprocessing</h1>"
   ]
  },
  {
   "cell_type": "markdown",
   "metadata": {},
   "source": [
    "<b> dummies for day, month , original_language_bins </b>"
   ]
  },
  {
   "cell_type": "code",
   "execution_count": 60,
   "metadata": {},
   "outputs": [],
   "source": [
    "#dont drop first on any as we want to see how each variable affects ROI\n",
    "X = pd.get_dummies(X, columns = ['day', 'month','original_language_bins'], dummy_na = True, drop_first = True)"
   ]
  },
  {
   "cell_type": "code",
   "execution_count": 61,
   "metadata": {},
   "outputs": [
    {
     "data": {
      "text/plain": [
       "(9537, 22038)"
      ]
     },
     "execution_count": 61,
     "metadata": {},
     "output_type": "execute_result"
    }
   ],
   "source": [
    "X.shape"
   ]
  },
  {
   "cell_type": "markdown",
   "metadata": {},
   "source": [
    "<b> Train Test Split </b>"
   ]
  },
  {
   "cell_type": "code",
   "execution_count": 31,
   "metadata": {},
   "outputs": [],
   "source": [
    "x_train, x_test, y_train, y_test = train_test_split(X, y, test_size = 0.2, random_state = 1, stratify = y)"
   ]
  },
  {
   "cell_type": "code",
   "execution_count": 32,
   "metadata": {},
   "outputs": [],
   "source": [
    "x_train = pd.DataFrame(x_train ,columns = X.columns)\n",
    "x_test = pd.DataFrame(x_test ,columns = X.columns)"
   ]
  },
  {
   "cell_type": "markdown",
   "metadata": {},
   "source": [
    "<b>Standard Scaler on the Variables that are not binary/catagorical</b>"
   ]
  },
  {
   "cell_type": "markdown",
   "metadata": {},
   "source": [
    "I'm just going to scale the continuous features to be able to retain explainability of the binary variables"
   ]
  },
  {
   "cell_type": "code",
   "execution_count": 33,
   "metadata": {},
   "outputs": [],
   "source": [
    "scaler = StandardScaler()\n",
    "scaler_columns = ['runtime', 'inf_budget', 'blurb_length','blurb_objectivity', 'blurb_polarity']"
   ]
  },
  {
   "cell_type": "code",
   "execution_count": 34,
   "metadata": {},
   "outputs": [],
   "source": [
    "scale_transformer = ColumnTransformer([('scaler',scaler,scaler_columns)], remainder = 'passthrough', sparse_threshold = 0)"
   ]
  },
  {
   "cell_type": "markdown",
   "metadata": {},
   "source": [
    "The function below will allow us to view the column headers after transformation"
   ]
  },
  {
   "cell_type": "code",
   "execution_count": 39,
   "metadata": {},
   "outputs": [],
   "source": [
    "import warnings\n",
    "import sklearn\n",
    "import pandas as pd\n",
    "\n",
    "\n",
    "\n",
    "def get_feature_names(column_transformer):\n",
    "    \"\"\"Get feature names from all transformers.\n",
    "    Returns\n",
    "    -------\n",
    "    feature_names : list of strings\n",
    "        Names of the features produced by transform.\n",
    "    \"\"\"\n",
    "    # Remove the internal helper function\n",
    "    #check_is_fitted(column_transformer)\n",
    "    \n",
    "    # Turn loopkup into function for better handling with pipeline later\n",
    "    def get_names(trans):\n",
    "        # >> Original get_feature_names() method\n",
    "        if trans == 'drop' or (\n",
    "                hasattr(column, '__len__') and not len(column)):\n",
    "            return []\n",
    "        if trans == 'passthrough':\n",
    "            if hasattr(column_transformer, '_df_columns'):\n",
    "                if ((not isinstance(column, slice))\n",
    "                        and all(isinstance(col, str) for col in column)):\n",
    "                    return column\n",
    "                else:\n",
    "                    return column_transformer._df_columns[column]\n",
    "            else:\n",
    "                indices = np.arange(column_transformer._n_features)\n",
    "                return ['x%d' % i for i in indices[column]]\n",
    "        if not hasattr(trans, 'get_feature_names'):\n",
    "        # >>> Change: Return input column names if no method avaiable\n",
    "            # Turn error into a warning\n",
    "            warnings.warn(\"Transformer %s (type %s) does not \"\n",
    "                                 \"provide get_feature_names. \"\n",
    "                                 \"Will return input column names if available\"\n",
    "                                 % (str(name), type(trans).__name__))\n",
    "            # For transformers without a get_features_names method, use the input\n",
    "            # names to the column transformer\n",
    "            if column is None:\n",
    "                return []\n",
    "            else:\n",
    "                return [name + \"__\" + f for f in column]\n",
    "\n",
    "        return [name + \"__\" + f for f in trans.get_feature_names()]\n",
    "    \n",
    "    ### Start of processing\n",
    "    feature_names = []\n",
    "    \n",
    "    # Allow transformers to be pipelines. Pipeline steps are named differently, so preprocessing is needed\n",
    "    if type(column_transformer) == sklearn.pipeline.Pipeline:\n",
    "        l_transformers = [(name, trans, None, None) for step, name, trans in column_transformer._iter()]\n",
    "    else:\n",
    "        # For column transformers, follow the original method\n",
    "        l_transformers = list(column_transformer._iter(fitted=True))\n",
    "    \n",
    "    \n",
    "    for name, trans, column, _ in l_transformers: \n",
    "        if type(trans) == sklearn.pipeline.Pipeline:\n",
    "            # Recursive call on pipeline\n",
    "            _names = get_feature_names(trans)\n",
    "            # if pipeline has no transformer that returns names\n",
    "            if len(_names)==0:\n",
    "                _names = [name + \"__\" + f for f in column]\n",
    "            feature_names.extend(_names)\n",
    "        else:\n",
    "            feature_names.extend(get_names(trans))\n",
    "    \n",
    "    return feature_names\n"
   ]
  },
  {
   "cell_type": "markdown",
   "metadata": {},
   "source": [
    "Transform the continuous variables so that they are standardised and therefore comparable"
   ]
  },
  {
   "cell_type": "code",
   "execution_count": 36,
   "metadata": {},
   "outputs": [
    {
     "name": "stderr",
     "output_type": "stream",
     "text": [
      "<ipython-input-35-fb4ebcbce952>:36: UserWarning: Transformer scaler (type StandardScaler) does not provide get_feature_names. Will return input column names if available\n",
      "  warnings.warn(\"Transformer %s (type %s) does not \"\n",
      "<ipython-input-35-fb4ebcbce952>:36: UserWarning: Transformer scaler (type StandardScaler) does not provide get_feature_names. Will return input column names if available\n",
      "  warnings.warn(\"Transformer %s (type %s) does not \"\n"
     ]
    }
   ],
   "source": [
    "x_train_trans = pd.DataFrame(scale_transformer.fit_transform(x_train), columns = get_feature_names(scale_transformer))\n",
    "\n",
    "x_test_trans = pd.DataFrame(scale_transformer.transform(x_test), columns = get_feature_names(scale_transformer))"
   ]
  },
  {
   "cell_type": "code",
   "execution_count": 36,
   "metadata": {},
   "outputs": [
    {
     "data": {
      "text/html": [
       "<div>\n",
       "<style scoped>\n",
       "    .dataframe tbody tr th:only-of-type {\n",
       "        vertical-align: middle;\n",
       "    }\n",
       "\n",
       "    .dataframe tbody tr th {\n",
       "        vertical-align: top;\n",
       "    }\n",
       "\n",
       "    .dataframe thead th {\n",
       "        text-align: right;\n",
       "    }\n",
       "</style>\n",
       "<table border=\"1\" class=\"dataframe\">\n",
       "  <thead>\n",
       "    <tr style=\"text-align: right;\">\n",
       "      <th></th>\n",
       "      <th>scaler__runtime</th>\n",
       "      <th>scaler__inf_budget</th>\n",
       "      <th>scaler__blurb_length</th>\n",
       "      <th>scaler__blurb_objectivity</th>\n",
       "      <th>scaler__blurb_polarity</th>\n",
       "      <th>GENRE_Drama</th>\n",
       "      <th>GENRE_History</th>\n",
       "      <th>GENRE_Romance</th>\n",
       "      <th>GENRE_Crime</th>\n",
       "      <th>GENRE_Animation</th>\n",
       "      <th>...</th>\n",
       "      <th>month_12.0</th>\n",
       "      <th>month_nan</th>\n",
       "      <th>original_language_bins_English</th>\n",
       "      <th>original_language_bins_French</th>\n",
       "      <th>original_language_bins_German</th>\n",
       "      <th>original_language_bins_Hindi</th>\n",
       "      <th>original_language_bins_No Language</th>\n",
       "      <th>original_language_bins_Other</th>\n",
       "      <th>original_language_bins_Spanish</th>\n",
       "      <th>original_language_bins_nan</th>\n",
       "    </tr>\n",
       "  </thead>\n",
       "  <tbody>\n",
       "    <tr>\n",
       "      <th>0</th>\n",
       "      <td>0.042238</td>\n",
       "      <td>-0.534443</td>\n",
       "      <td>0.849676</td>\n",
       "      <td>0.860445</td>\n",
       "      <td>0.745288</td>\n",
       "      <td>1.0</td>\n",
       "      <td>0.0</td>\n",
       "      <td>1.0</td>\n",
       "      <td>0.0</td>\n",
       "      <td>0.0</td>\n",
       "      <td>...</td>\n",
       "      <td>0.0</td>\n",
       "      <td>0.0</td>\n",
       "      <td>0.0</td>\n",
       "      <td>0.0</td>\n",
       "      <td>0.0</td>\n",
       "      <td>0.0</td>\n",
       "      <td>0.0</td>\n",
       "      <td>1.0</td>\n",
       "      <td>0.0</td>\n",
       "      <td>0.0</td>\n",
       "    </tr>\n",
       "    <tr>\n",
       "      <th>1</th>\n",
       "      <td>-1.056282</td>\n",
       "      <td>-0.359368</td>\n",
       "      <td>-1.095240</td>\n",
       "      <td>-0.310518</td>\n",
       "      <td>-0.983409</td>\n",
       "      <td>0.0</td>\n",
       "      <td>0.0</td>\n",
       "      <td>1.0</td>\n",
       "      <td>0.0</td>\n",
       "      <td>0.0</td>\n",
       "      <td>...</td>\n",
       "      <td>1.0</td>\n",
       "      <td>0.0</td>\n",
       "      <td>1.0</td>\n",
       "      <td>0.0</td>\n",
       "      <td>0.0</td>\n",
       "      <td>0.0</td>\n",
       "      <td>0.0</td>\n",
       "      <td>0.0</td>\n",
       "      <td>0.0</td>\n",
       "      <td>0.0</td>\n",
       "    </tr>\n",
       "    <tr>\n",
       "      <th>2</th>\n",
       "      <td>-0.323935</td>\n",
       "      <td>-0.365561</td>\n",
       "      <td>-0.637613</td>\n",
       "      <td>2.148567</td>\n",
       "      <td>0.178041</td>\n",
       "      <td>1.0</td>\n",
       "      <td>0.0</td>\n",
       "      <td>0.0</td>\n",
       "      <td>0.0</td>\n",
       "      <td>0.0</td>\n",
       "      <td>...</td>\n",
       "      <td>0.0</td>\n",
       "      <td>0.0</td>\n",
       "      <td>1.0</td>\n",
       "      <td>0.0</td>\n",
       "      <td>0.0</td>\n",
       "      <td>0.0</td>\n",
       "      <td>0.0</td>\n",
       "      <td>0.0</td>\n",
       "      <td>0.0</td>\n",
       "      <td>0.0</td>\n",
       "    </tr>\n",
       "    <tr>\n",
       "      <th>3</th>\n",
       "      <td>-0.095077</td>\n",
       "      <td>0.095330</td>\n",
       "      <td>-0.370664</td>\n",
       "      <td>-0.586166</td>\n",
       "      <td>0.158416</td>\n",
       "      <td>0.0</td>\n",
       "      <td>0.0</td>\n",
       "      <td>0.0</td>\n",
       "      <td>1.0</td>\n",
       "      <td>0.0</td>\n",
       "      <td>...</td>\n",
       "      <td>0.0</td>\n",
       "      <td>0.0</td>\n",
       "      <td>1.0</td>\n",
       "      <td>0.0</td>\n",
       "      <td>0.0</td>\n",
       "      <td>0.0</td>\n",
       "      <td>0.0</td>\n",
       "      <td>0.0</td>\n",
       "      <td>0.0</td>\n",
       "      <td>0.0</td>\n",
       "    </tr>\n",
       "    <tr>\n",
       "      <th>4</th>\n",
       "      <td>2.788537</td>\n",
       "      <td>2.374095</td>\n",
       "      <td>-0.256257</td>\n",
       "      <td>-0.394403</td>\n",
       "      <td>0.539121</td>\n",
       "      <td>1.0</td>\n",
       "      <td>0.0</td>\n",
       "      <td>0.0</td>\n",
       "      <td>0.0</td>\n",
       "      <td>0.0</td>\n",
       "      <td>...</td>\n",
       "      <td>1.0</td>\n",
       "      <td>0.0</td>\n",
       "      <td>1.0</td>\n",
       "      <td>0.0</td>\n",
       "      <td>0.0</td>\n",
       "      <td>0.0</td>\n",
       "      <td>0.0</td>\n",
       "      <td>0.0</td>\n",
       "      <td>0.0</td>\n",
       "      <td>0.0</td>\n",
       "    </tr>\n",
       "    <tr>\n",
       "      <th>...</th>\n",
       "      <td>...</td>\n",
       "      <td>...</td>\n",
       "      <td>...</td>\n",
       "      <td>...</td>\n",
       "      <td>...</td>\n",
       "      <td>...</td>\n",
       "      <td>...</td>\n",
       "      <td>...</td>\n",
       "      <td>...</td>\n",
       "      <td>...</td>\n",
       "      <td>...</td>\n",
       "      <td>...</td>\n",
       "      <td>...</td>\n",
       "      <td>...</td>\n",
       "      <td>...</td>\n",
       "      <td>...</td>\n",
       "      <td>...</td>\n",
       "      <td>...</td>\n",
       "      <td>...</td>\n",
       "      <td>...</td>\n",
       "      <td>...</td>\n",
       "    </tr>\n",
       "    <tr>\n",
       "      <th>1903</th>\n",
       "      <td>-1.147825</td>\n",
       "      <td>-0.266111</td>\n",
       "      <td>-0.065579</td>\n",
       "      <td>0.146934</td>\n",
       "      <td>-0.925254</td>\n",
       "      <td>0.0</td>\n",
       "      <td>0.0</td>\n",
       "      <td>0.0</td>\n",
       "      <td>0.0</td>\n",
       "      <td>0.0</td>\n",
       "      <td>...</td>\n",
       "      <td>0.0</td>\n",
       "      <td>0.0</td>\n",
       "      <td>1.0</td>\n",
       "      <td>0.0</td>\n",
       "      <td>0.0</td>\n",
       "      <td>0.0</td>\n",
       "      <td>0.0</td>\n",
       "      <td>0.0</td>\n",
       "      <td>0.0</td>\n",
       "      <td>0.0</td>\n",
       "    </tr>\n",
       "    <tr>\n",
       "      <th>1904</th>\n",
       "      <td>-0.049305</td>\n",
       "      <td>0.075587</td>\n",
       "      <td>0.086964</td>\n",
       "      <td>-0.221283</td>\n",
       "      <td>0.117278</td>\n",
       "      <td>0.0</td>\n",
       "      <td>0.0</td>\n",
       "      <td>0.0</td>\n",
       "      <td>0.0</td>\n",
       "      <td>0.0</td>\n",
       "      <td>...</td>\n",
       "      <td>0.0</td>\n",
       "      <td>0.0</td>\n",
       "      <td>0.0</td>\n",
       "      <td>0.0</td>\n",
       "      <td>0.0</td>\n",
       "      <td>0.0</td>\n",
       "      <td>0.0</td>\n",
       "      <td>1.0</td>\n",
       "      <td>0.0</td>\n",
       "      <td>0.0</td>\n",
       "    </tr>\n",
       "    <tr>\n",
       "      <th>1905</th>\n",
       "      <td>-0.186620</td>\n",
       "      <td>-0.174501</td>\n",
       "      <td>-0.523206</td>\n",
       "      <td>-2.116619</td>\n",
       "      <td>0.412392</td>\n",
       "      <td>1.0</td>\n",
       "      <td>0.0</td>\n",
       "      <td>0.0</td>\n",
       "      <td>0.0</td>\n",
       "      <td>0.0</td>\n",
       "      <td>...</td>\n",
       "      <td>0.0</td>\n",
       "      <td>0.0</td>\n",
       "      <td>1.0</td>\n",
       "      <td>0.0</td>\n",
       "      <td>0.0</td>\n",
       "      <td>0.0</td>\n",
       "      <td>0.0</td>\n",
       "      <td>0.0</td>\n",
       "      <td>0.0</td>\n",
       "      <td>0.0</td>\n",
       "    </tr>\n",
       "    <tr>\n",
       "      <th>1906</th>\n",
       "      <td>0.042238</td>\n",
       "      <td>0.007394</td>\n",
       "      <td>-0.904562</td>\n",
       "      <td>-0.029125</td>\n",
       "      <td>-2.571222</td>\n",
       "      <td>1.0</td>\n",
       "      <td>0.0</td>\n",
       "      <td>1.0</td>\n",
       "      <td>0.0</td>\n",
       "      <td>0.0</td>\n",
       "      <td>...</td>\n",
       "      <td>0.0</td>\n",
       "      <td>0.0</td>\n",
       "      <td>0.0</td>\n",
       "      <td>0.0</td>\n",
       "      <td>0.0</td>\n",
       "      <td>0.0</td>\n",
       "      <td>0.0</td>\n",
       "      <td>1.0</td>\n",
       "      <td>0.0</td>\n",
       "      <td>0.0</td>\n",
       "    </tr>\n",
       "    <tr>\n",
       "      <th>1907</th>\n",
       "      <td>2.559678</td>\n",
       "      <td>-0.640596</td>\n",
       "      <td>0.620862</td>\n",
       "      <td>-0.382252</td>\n",
       "      <td>1.511770</td>\n",
       "      <td>1.0</td>\n",
       "      <td>0.0</td>\n",
       "      <td>0.0</td>\n",
       "      <td>0.0</td>\n",
       "      <td>0.0</td>\n",
       "      <td>...</td>\n",
       "      <td>1.0</td>\n",
       "      <td>0.0</td>\n",
       "      <td>0.0</td>\n",
       "      <td>0.0</td>\n",
       "      <td>0.0</td>\n",
       "      <td>1.0</td>\n",
       "      <td>0.0</td>\n",
       "      <td>0.0</td>\n",
       "      <td>0.0</td>\n",
       "      <td>0.0</td>\n",
       "    </tr>\n",
       "  </tbody>\n",
       "</table>\n",
       "<p>1908 rows × 22038 columns</p>\n",
       "</div>"
      ],
      "text/plain": [
       "      scaler__runtime  scaler__inf_budget  scaler__blurb_length  \\\n",
       "0            0.042238           -0.534443              0.849676   \n",
       "1           -1.056282           -0.359368             -1.095240   \n",
       "2           -0.323935           -0.365561             -0.637613   \n",
       "3           -0.095077            0.095330             -0.370664   \n",
       "4            2.788537            2.374095             -0.256257   \n",
       "...               ...                 ...                   ...   \n",
       "1903        -1.147825           -0.266111             -0.065579   \n",
       "1904        -0.049305            0.075587              0.086964   \n",
       "1905        -0.186620           -0.174501             -0.523206   \n",
       "1906         0.042238            0.007394             -0.904562   \n",
       "1907         2.559678           -0.640596              0.620862   \n",
       "\n",
       "      scaler__blurb_objectivity  scaler__blurb_polarity  GENRE_Drama  \\\n",
       "0                      0.860445                0.745288          1.0   \n",
       "1                     -0.310518               -0.983409          0.0   \n",
       "2                      2.148567                0.178041          1.0   \n",
       "3                     -0.586166                0.158416          0.0   \n",
       "4                     -0.394403                0.539121          1.0   \n",
       "...                         ...                     ...          ...   \n",
       "1903                   0.146934               -0.925254          0.0   \n",
       "1904                  -0.221283                0.117278          0.0   \n",
       "1905                  -2.116619                0.412392          1.0   \n",
       "1906                  -0.029125               -2.571222          1.0   \n",
       "1907                  -0.382252                1.511770          1.0   \n",
       "\n",
       "      GENRE_History  GENRE_Romance  GENRE_Crime  GENRE_Animation  ...  \\\n",
       "0               0.0            1.0          0.0              0.0  ...   \n",
       "1               0.0            1.0          0.0              0.0  ...   \n",
       "2               0.0            0.0          0.0              0.0  ...   \n",
       "3               0.0            0.0          1.0              0.0  ...   \n",
       "4               0.0            0.0          0.0              0.0  ...   \n",
       "...             ...            ...          ...              ...  ...   \n",
       "1903            0.0            0.0          0.0              0.0  ...   \n",
       "1904            0.0            0.0          0.0              0.0  ...   \n",
       "1905            0.0            0.0          0.0              0.0  ...   \n",
       "1906            0.0            1.0          0.0              0.0  ...   \n",
       "1907            0.0            0.0          0.0              0.0  ...   \n",
       "\n",
       "      month_12.0  month_nan  original_language_bins_English  \\\n",
       "0            0.0        0.0                             0.0   \n",
       "1            1.0        0.0                             1.0   \n",
       "2            0.0        0.0                             1.0   \n",
       "3            0.0        0.0                             1.0   \n",
       "4            1.0        0.0                             1.0   \n",
       "...          ...        ...                             ...   \n",
       "1903         0.0        0.0                             1.0   \n",
       "1904         0.0        0.0                             0.0   \n",
       "1905         0.0        0.0                             1.0   \n",
       "1906         0.0        0.0                             0.0   \n",
       "1907         1.0        0.0                             0.0   \n",
       "\n",
       "      original_language_bins_French  original_language_bins_German  \\\n",
       "0                               0.0                            0.0   \n",
       "1                               0.0                            0.0   \n",
       "2                               0.0                            0.0   \n",
       "3                               0.0                            0.0   \n",
       "4                               0.0                            0.0   \n",
       "...                             ...                            ...   \n",
       "1903                            0.0                            0.0   \n",
       "1904                            0.0                            0.0   \n",
       "1905                            0.0                            0.0   \n",
       "1906                            0.0                            0.0   \n",
       "1907                            0.0                            0.0   \n",
       "\n",
       "      original_language_bins_Hindi  original_language_bins_No Language  \\\n",
       "0                              0.0                                 0.0   \n",
       "1                              0.0                                 0.0   \n",
       "2                              0.0                                 0.0   \n",
       "3                              0.0                                 0.0   \n",
       "4                              0.0                                 0.0   \n",
       "...                            ...                                 ...   \n",
       "1903                           0.0                                 0.0   \n",
       "1904                           0.0                                 0.0   \n",
       "1905                           0.0                                 0.0   \n",
       "1906                           0.0                                 0.0   \n",
       "1907                           1.0                                 0.0   \n",
       "\n",
       "      original_language_bins_Other  original_language_bins_Spanish  \\\n",
       "0                              1.0                             0.0   \n",
       "1                              0.0                             0.0   \n",
       "2                              0.0                             0.0   \n",
       "3                              0.0                             0.0   \n",
       "4                              0.0                             0.0   \n",
       "...                            ...                             ...   \n",
       "1903                           0.0                             0.0   \n",
       "1904                           1.0                             0.0   \n",
       "1905                           0.0                             0.0   \n",
       "1906                           1.0                             0.0   \n",
       "1907                           0.0                             0.0   \n",
       "\n",
       "      original_language_bins_nan  \n",
       "0                            0.0  \n",
       "1                            0.0  \n",
       "2                            0.0  \n",
       "3                            0.0  \n",
       "4                            0.0  \n",
       "...                          ...  \n",
       "1903                         0.0  \n",
       "1904                         0.0  \n",
       "1905                         0.0  \n",
       "1906                         0.0  \n",
       "1907                         0.0  \n",
       "\n",
       "[1908 rows x 22038 columns]"
      ]
     },
     "execution_count": 36,
     "metadata": {},
     "output_type": "execute_result"
    }
   ],
   "source": [
    "x_test_trans"
   ]
  },
  {
   "cell_type": "markdown",
   "metadata": {},
   "source": [
    "<h1> Logistic Regression </h1>"
   ]
  },
  {
   "cell_type": "code",
   "execution_count": 37,
   "metadata": {},
   "outputs": [],
   "source": [
    "#create the model object\n",
    "log_model = LogisticRegression()"
   ]
  },
  {
   "cell_type": "code",
   "execution_count": 38,
   "metadata": {},
   "outputs": [
    {
     "data": {
      "text/plain": [
       "{'C': 1.0,\n",
       " 'class_weight': None,\n",
       " 'dual': False,\n",
       " 'fit_intercept': True,\n",
       " 'intercept_scaling': 1,\n",
       " 'l1_ratio': None,\n",
       " 'max_iter': 100,\n",
       " 'multi_class': 'auto',\n",
       " 'n_jobs': None,\n",
       " 'penalty': 'l2',\n",
       " 'random_state': None,\n",
       " 'solver': 'lbfgs',\n",
       " 'tol': 0.0001,\n",
       " 'verbose': 0,\n",
       " 'warm_start': False}"
      ]
     },
     "execution_count": 38,
     "metadata": {},
     "output_type": "execute_result"
    }
   ],
   "source": [
    "#investigate parameters\n",
    "log_model.get_params()"
   ]
  },
  {
   "cell_type": "code",
   "execution_count": 39,
   "metadata": {},
   "outputs": [
    {
     "name": "stdout",
     "output_type": "stream",
     "text": [
      "Fitting 5 folds for each of 225 candidates, totalling 1125 fits\n"
     ]
    },
    {
     "name": "stderr",
     "output_type": "stream",
     "text": [
      "/Users/chrismembrey/opt/anaconda3/lib/python3.8/site-packages/sklearn/linear_model/_sag.py:328: ConvergenceWarning: The max_iter was reached which means the coef_ did not converge\n",
      "  warnings.warn(\"The max_iter was reached which means \"\n"
     ]
    },
    {
     "data": {
      "text/plain": [
       "GridSearchCV(cv=5, estimator=LogisticRegression(), n_jobs=3,\n",
       "             param_grid={'C': array([1.00000000e-04, 3.72759372e-04, 1.38949549e-03, 5.17947468e-03,\n",
       "       1.93069773e-02, 7.19685673e-02, 2.68269580e-01, 1.00000000e+00,\n",
       "       3.72759372e+00, 1.38949549e+01, 5.17947468e+01, 1.93069773e+02,\n",
       "       7.19685673e+02, 2.68269580e+03, 1.00000000e+04]),\n",
       "                         'l1_ratio': array([0.        , 0.07142857, 0.14285714, 0.21428571, 0.28571429,\n",
       "       0.35714286, 0.42857143, 0.5       , 0.57142857, 0.64285714,\n",
       "       0.71428571, 0.78571429, 0.85714286, 0.92857143, 1.        ]),\n",
       "                         'penalty': ['elasticnet'], 'solver': ['saga']},\n",
       "             verbose=1)"
      ]
     },
     "execution_count": 39,
     "metadata": {},
     "output_type": "execute_result"
    }
   ],
   "source": [
    "#confirm the parameters to iterate through\n",
    "log_model_params = {'C': np.logspace(-4,4,15),\n",
    "                   'l1_ratio': np.linspace(0,1,15),\n",
    "                   'penalty': ['elasticnet'],\n",
    "                   'solver':['saga']}\n",
    "\n",
    "\n",
    "#create the grid search cv object\n",
    "log_model_grid = GridSearchCV(log_model, log_model_params,\n",
    "                              verbose = 1,\n",
    "                              cv = 5,\n",
    "                              n_jobs = 3)\n",
    "log_model_grid.fit(x_train_trans,y_train)"
   ]
  },
  {
   "cell_type": "markdown",
   "metadata": {},
   "source": [
    "<b> Resulting scores </b>"
   ]
  },
  {
   "cell_type": "code",
   "execution_count": 40,
   "metadata": {},
   "outputs": [
    {
     "data": {
      "text/plain": [
       "LogisticRegression(C=51.79474679231202, l1_ratio=0.21428571428571427,\n",
       "                   penalty='elasticnet', solver='saga')"
      ]
     },
     "execution_count": 40,
     "metadata": {},
     "output_type": "execute_result"
    }
   ],
   "source": [
    "#the best estimator\n",
    "log_model_grid.best_estimator_"
   ]
  },
  {
   "cell_type": "code",
   "execution_count": 41,
   "metadata": {},
   "outputs": [
    {
     "data": {
      "text/plain": [
       "0.6645713426293965"
      ]
     },
     "execution_count": 41,
     "metadata": {},
     "output_type": "execute_result"
    }
   ],
   "source": [
    "#training score cross validated\n",
    "log_model_grid.best_score_"
   ]
  },
  {
   "cell_type": "code",
   "execution_count": 42,
   "metadata": {},
   "outputs": [
    {
     "data": {
      "text/plain": [
       "0.6698113207547169"
      ]
     },
     "execution_count": 42,
     "metadata": {},
     "output_type": "execute_result"
    }
   ],
   "source": [
    "#test score\n",
    "log_model_grid.score(x_test_trans,y_test)"
   ]
  },
  {
   "cell_type": "code",
   "execution_count": 43,
   "metadata": {},
   "outputs": [
    {
     "name": "stdout",
     "output_type": "stream",
     "text": [
      "Training Accuracy: 0.6645713426293965\n",
      "Testing Accuracy: 0.6698113207547169\n"
     ]
    }
   ],
   "source": [
    "log_model_grid_results = []\n",
    "\n",
    "log_model_grid_results.append(log_model_grid.best_score_)\n",
    "log_model_grid_results.append(log_model_grid.score(x_test_trans,y_test))\n",
    "\n",
    "\n",
    "print(f'Training Accuracy: {log_model_grid.best_score_}')\n",
    "print(f'Testing Accuracy: {log_model_grid.score(x_test_trans,y_test)}')"
   ]
  },
  {
   "cell_type": "markdown",
   "metadata": {},
   "source": [
    "<b>feature importance</b>"
   ]
  },
  {
   "cell_type": "code",
   "execution_count": 44,
   "metadata": {},
   "outputs": [
    {
     "data": {
      "text/html": [
       "<div>\n",
       "<style scoped>\n",
       "    .dataframe tbody tr th:only-of-type {\n",
       "        vertical-align: middle;\n",
       "    }\n",
       "\n",
       "    .dataframe tbody tr th {\n",
       "        vertical-align: top;\n",
       "    }\n",
       "\n",
       "    .dataframe thead th {\n",
       "        text-align: right;\n",
       "    }\n",
       "</style>\n",
       "<table border=\"1\" class=\"dataframe\">\n",
       "  <thead>\n",
       "    <tr style=\"text-align: right;\">\n",
       "      <th></th>\n",
       "      <th>Feature</th>\n",
       "      <th>coef</th>\n",
       "    </tr>\n",
       "  </thead>\n",
       "  <tbody>\n",
       "    <tr>\n",
       "      <th>0</th>\n",
       "      <td>scaler__runtime</td>\n",
       "      <td>0.310053</td>\n",
       "    </tr>\n",
       "    <tr>\n",
       "      <th>1</th>\n",
       "      <td>scaler__inf_budget</td>\n",
       "      <td>-0.045478</td>\n",
       "    </tr>\n",
       "    <tr>\n",
       "      <th>2</th>\n",
       "      <td>scaler__blurb_length</td>\n",
       "      <td>-0.001499</td>\n",
       "    </tr>\n",
       "    <tr>\n",
       "      <th>3</th>\n",
       "      <td>scaler__blurb_objectivity</td>\n",
       "      <td>-0.005610</td>\n",
       "    </tr>\n",
       "    <tr>\n",
       "      <th>4</th>\n",
       "      <td>scaler__blurb_polarity</td>\n",
       "      <td>0.033267</td>\n",
       "    </tr>\n",
       "    <tr>\n",
       "      <th>...</th>\n",
       "      <td>...</td>\n",
       "      <td>...</td>\n",
       "    </tr>\n",
       "    <tr>\n",
       "      <th>22033</th>\n",
       "      <td>original_language_bins_Hindi</td>\n",
       "      <td>0.136348</td>\n",
       "    </tr>\n",
       "    <tr>\n",
       "      <th>22034</th>\n",
       "      <td>original_language_bins_No Language</td>\n",
       "      <td>0.464714</td>\n",
       "    </tr>\n",
       "    <tr>\n",
       "      <th>22035</th>\n",
       "      <td>original_language_bins_Other</td>\n",
       "      <td>-0.124403</td>\n",
       "    </tr>\n",
       "    <tr>\n",
       "      <th>22036</th>\n",
       "      <td>original_language_bins_Spanish</td>\n",
       "      <td>0.033802</td>\n",
       "    </tr>\n",
       "    <tr>\n",
       "      <th>22037</th>\n",
       "      <td>original_language_bins_nan</td>\n",
       "      <td>0.000000</td>\n",
       "    </tr>\n",
       "  </tbody>\n",
       "</table>\n",
       "<p>22038 rows × 2 columns</p>\n",
       "</div>"
      ],
      "text/plain": [
       "                                  Feature      coef\n",
       "0                         scaler__runtime  0.310053\n",
       "1                      scaler__inf_budget -0.045478\n",
       "2                    scaler__blurb_length -0.001499\n",
       "3               scaler__blurb_objectivity -0.005610\n",
       "4                  scaler__blurb_polarity  0.033267\n",
       "...                                   ...       ...\n",
       "22033        original_language_bins_Hindi  0.136348\n",
       "22034  original_language_bins_No Language  0.464714\n",
       "22035        original_language_bins_Other -0.124403\n",
       "22036      original_language_bins_Spanish  0.033802\n",
       "22037          original_language_bins_nan  0.000000\n",
       "\n",
       "[22038 rows x 2 columns]"
      ]
     },
     "execution_count": 44,
     "metadata": {},
     "output_type": "execute_result"
    }
   ],
   "source": [
    "coefs = pd.DataFrame({'Feature': x_train_trans.columns,\n",
    "                     'coef': log_model_grid.best_estimator_.coef_[0]})\n",
    "coefs"
   ]
  },
  {
   "cell_type": "code",
   "execution_count": 45,
   "metadata": {},
   "outputs": [],
   "source": [
    "coefs['abs'] = abs(coefs.coef)"
   ]
  },
  {
   "cell_type": "code",
   "execution_count": 46,
   "metadata": {},
   "outputs": [
    {
     "data": {
      "text/html": [
       "<div>\n",
       "<style scoped>\n",
       "    .dataframe tbody tr th:only-of-type {\n",
       "        vertical-align: middle;\n",
       "    }\n",
       "\n",
       "    .dataframe tbody tr th {\n",
       "        vertical-align: top;\n",
       "    }\n",
       "\n",
       "    .dataframe thead th {\n",
       "        text-align: right;\n",
       "    }\n",
       "</style>\n",
       "<table border=\"1\" class=\"dataframe\">\n",
       "  <thead>\n",
       "    <tr style=\"text-align: right;\">\n",
       "      <th></th>\n",
       "      <th>Feature</th>\n",
       "      <th>coef</th>\n",
       "      <th>abs</th>\n",
       "    </tr>\n",
       "  </thead>\n",
       "  <tbody>\n",
       "    <tr>\n",
       "      <th>22010</th>\n",
       "      <td>from_collection</td>\n",
       "      <td>1.733156</td>\n",
       "      <td>1.733156</td>\n",
       "    </tr>\n",
       "    <tr>\n",
       "      <th>290</th>\n",
       "      <td>ACTOR_Tom Cruise</td>\n",
       "      <td>0.901312</td>\n",
       "      <td>0.901312</td>\n",
       "    </tr>\n",
       "    <tr>\n",
       "      <th>2093</th>\n",
       "      <td>ACTOR_Sam Elliott</td>\n",
       "      <td>0.799296</td>\n",
       "      <td>0.799296</td>\n",
       "    </tr>\n",
       "    <tr>\n",
       "      <th>18465</th>\n",
       "      <td>COMPOSER_Thomas Newman</td>\n",
       "      <td>0.768347</td>\n",
       "      <td>0.768347</td>\n",
       "    </tr>\n",
       "    <tr>\n",
       "      <th>1758</th>\n",
       "      <td>ACTOR_Tom Hanks</td>\n",
       "      <td>0.767421</td>\n",
       "      <td>0.767421</td>\n",
       "    </tr>\n",
       "    <tr>\n",
       "      <th>5447</th>\n",
       "      <td>ACTOR_Clint Eastwood</td>\n",
       "      <td>0.738228</td>\n",
       "      <td>0.738228</td>\n",
       "    </tr>\n",
       "    <tr>\n",
       "      <th>1561</th>\n",
       "      <td>ACTOR_George Clooney</td>\n",
       "      <td>0.731495</td>\n",
       "      <td>0.731495</td>\n",
       "    </tr>\n",
       "    <tr>\n",
       "      <th>11435</th>\n",
       "      <td>ACTOR_Steve James</td>\n",
       "      <td>0.715897</td>\n",
       "      <td>0.715897</td>\n",
       "    </tr>\n",
       "    <tr>\n",
       "      <th>18515</th>\n",
       "      <td>COMPOSER_James Horner</td>\n",
       "      <td>0.691367</td>\n",
       "      <td>0.691367</td>\n",
       "    </tr>\n",
       "    <tr>\n",
       "      <th>2750</th>\n",
       "      <td>ACTOR_Fisher Stevens</td>\n",
       "      <td>-0.674761</td>\n",
       "      <td>0.674761</td>\n",
       "    </tr>\n",
       "  </tbody>\n",
       "</table>\n",
       "</div>"
      ],
      "text/plain": [
       "                      Feature      coef       abs\n",
       "22010         from_collection  1.733156  1.733156\n",
       "290          ACTOR_Tom Cruise  0.901312  0.901312\n",
       "2093        ACTOR_Sam Elliott  0.799296  0.799296\n",
       "18465  COMPOSER_Thomas Newman  0.768347  0.768347\n",
       "1758          ACTOR_Tom Hanks  0.767421  0.767421\n",
       "5447     ACTOR_Clint Eastwood  0.738228  0.738228\n",
       "1561     ACTOR_George Clooney  0.731495  0.731495\n",
       "11435       ACTOR_Steve James  0.715897  0.715897\n",
       "18515   COMPOSER_James Horner  0.691367  0.691367\n",
       "2750     ACTOR_Fisher Stevens -0.674761  0.674761"
      ]
     },
     "execution_count": 46,
     "metadata": {},
     "output_type": "execute_result"
    }
   ],
   "source": [
    "coefs.sort_values(by = 'abs' , ascending = False).head(10)"
   ]
  },
  {
   "cell_type": "markdown",
   "metadata": {},
   "source": [
    "<h2> Decision Tree Classifier <h2>"
   ]
  },
  {
   "cell_type": "code",
   "execution_count": 189,
   "metadata": {},
   "outputs": [],
   "source": [
    "#create the model object\n",
    "dtree_model = DecisionTreeClassifier()"
   ]
  },
  {
   "cell_type": "code",
   "execution_count": 190,
   "metadata": {},
   "outputs": [
    {
     "data": {
      "text/plain": [
       "{'ccp_alpha': 0.0,\n",
       " 'class_weight': None,\n",
       " 'criterion': 'gini',\n",
       " 'max_depth': None,\n",
       " 'max_features': None,\n",
       " 'max_leaf_nodes': None,\n",
       " 'min_impurity_decrease': 0.0,\n",
       " 'min_impurity_split': None,\n",
       " 'min_samples_leaf': 1,\n",
       " 'min_samples_split': 2,\n",
       " 'min_weight_fraction_leaf': 0.0,\n",
       " 'random_state': None,\n",
       " 'splitter': 'best'}"
      ]
     },
     "execution_count": 190,
     "metadata": {},
     "output_type": "execute_result"
    }
   ],
   "source": [
    "#investigate parameters\n",
    "dtree_model.get_params()"
   ]
  },
  {
   "cell_type": "code",
   "execution_count": 191,
   "metadata": {},
   "outputs": [
    {
     "name": "stdout",
     "output_type": "stream",
     "text": [
      "Fitting 5 folds for each of 130 candidates, totalling 650 fits\n"
     ]
    },
    {
     "data": {
      "text/plain": [
       "GridSearchCV(cv=5, estimator=DecisionTreeClassifier(), n_jobs=3,\n",
       "             param_grid={'ccp_alpha': array([1.00000000e-04, 7.74263683e-04, 5.99484250e-03, 4.64158883e-02,\n",
       "       3.59381366e-01, 2.78255940e+00, 2.15443469e+01, 1.66810054e+02,\n",
       "       1.29154967e+03, 1.00000000e+04]),\n",
       "                         'criterion': ['gini'],\n",
       "                         'max_depth': [3, 4, 5, 6, 7, 8, 9, 10, 11, 12, 13, 14,\n",
       "                                       15]},\n",
       "             verbose=1)"
      ]
     },
     "execution_count": 191,
     "metadata": {},
     "output_type": "execute_result"
    }
   ],
   "source": [
    "#confirm the parameters to iterate through\n",
    "dtree_model_params = {'criterion':['gini'],\n",
    "                   'max_depth':[x for x in range(3,16)],\n",
    "                   'ccp_alpha': np.logspace(-4,4,10)}\n",
    "\n",
    "\n",
    "#create the grid search cv object\n",
    "dtree_model_grid = GridSearchCV(dtree_model, dtree_model_params,\n",
    "                              verbose = 1,\n",
    "                              cv = 5,\n",
    "                              n_jobs = 3)\n",
    "dtree_model_grid.fit(x_train_trans,y_train)"
   ]
  },
  {
   "cell_type": "markdown",
   "metadata": {},
   "source": [
    "<b> Resulting scores </b>"
   ]
  },
  {
   "cell_type": "code",
   "execution_count": 192,
   "metadata": {},
   "outputs": [
    {
     "data": {
      "text/plain": [
       "DecisionTreeClassifier(ccp_alpha=0.000774263682681127, max_depth=8)"
      ]
     },
     "execution_count": 192,
     "metadata": {},
     "output_type": "execute_result"
    }
   ],
   "source": [
    "#the best estimator\n",
    "dtree_model_grid.best_estimator_"
   ]
  },
  {
   "cell_type": "code",
   "execution_count": 193,
   "metadata": {},
   "outputs": [
    {
     "data": {
      "text/plain": [
       "0.6307519498098533"
      ]
     },
     "execution_count": 193,
     "metadata": {},
     "output_type": "execute_result"
    }
   ],
   "source": [
    "#training score cross validated\n",
    "dtree_model_grid.best_score_"
   ]
  },
  {
   "cell_type": "code",
   "execution_count": 194,
   "metadata": {},
   "outputs": [
    {
     "data": {
      "text/plain": [
       "0.6090146750524109"
      ]
     },
     "execution_count": 194,
     "metadata": {},
     "output_type": "execute_result"
    }
   ],
   "source": [
    "#test score\n",
    "dtree_model_grid.score(x_test_trans,y_test)"
   ]
  },
  {
   "cell_type": "code",
   "execution_count": 195,
   "metadata": {},
   "outputs": [
    {
     "name": "stdout",
     "output_type": "stream",
     "text": [
      "Training Accuracy: 0.6307519498098533\n",
      "Testing Accuracy: 0.6090146750524109\n"
     ]
    }
   ],
   "source": [
    "dtree_model_grid_results = []\n",
    "\n",
    "dtree_model_grid_results.append(dtree_model_grid.best_score_)\n",
    "dtree_model_grid_results.append(dtree_model_grid.score(x_test_trans,y_test))\n",
    "\n",
    "\n",
    "print(f'Training Accuracy: {dtree_model_grid.best_score_}')\n",
    "print(f'Testing Accuracy: {dtree_model_grid.score(x_test_trans,y_test)}')"
   ]
  },
  {
   "cell_type": "markdown",
   "metadata": {},
   "source": [
    "<b>feature importance</b>"
   ]
  },
  {
   "cell_type": "code",
   "execution_count": 196,
   "metadata": {},
   "outputs": [
    {
     "data": {
      "text/html": [
       "<div>\n",
       "<style scoped>\n",
       "    .dataframe tbody tr th:only-of-type {\n",
       "        vertical-align: middle;\n",
       "    }\n",
       "\n",
       "    .dataframe tbody tr th {\n",
       "        vertical-align: top;\n",
       "    }\n",
       "\n",
       "    .dataframe thead th {\n",
       "        text-align: right;\n",
       "    }\n",
       "</style>\n",
       "<table border=\"1\" class=\"dataframe\">\n",
       "  <thead>\n",
       "    <tr style=\"text-align: right;\">\n",
       "      <th></th>\n",
       "      <th>Feature</th>\n",
       "      <th>coef</th>\n",
       "    </tr>\n",
       "  </thead>\n",
       "  <tbody>\n",
       "    <tr>\n",
       "      <th>0</th>\n",
       "      <td>scaler__runtime</td>\n",
       "      <td>0.170144</td>\n",
       "    </tr>\n",
       "    <tr>\n",
       "      <th>1</th>\n",
       "      <td>scaler__inf_budget</td>\n",
       "      <td>0.148374</td>\n",
       "    </tr>\n",
       "    <tr>\n",
       "      <th>2</th>\n",
       "      <td>scaler__blurb_length</td>\n",
       "      <td>0.043127</td>\n",
       "    </tr>\n",
       "    <tr>\n",
       "      <th>3</th>\n",
       "      <td>scaler__blurb_objectivity</td>\n",
       "      <td>0.029015</td>\n",
       "    </tr>\n",
       "    <tr>\n",
       "      <th>4</th>\n",
       "      <td>scaler__blurb_polarity</td>\n",
       "      <td>0.000000</td>\n",
       "    </tr>\n",
       "    <tr>\n",
       "      <th>...</th>\n",
       "      <td>...</td>\n",
       "      <td>...</td>\n",
       "    </tr>\n",
       "    <tr>\n",
       "      <th>22033</th>\n",
       "      <td>original_language_bins_Hindi</td>\n",
       "      <td>0.000000</td>\n",
       "    </tr>\n",
       "    <tr>\n",
       "      <th>22034</th>\n",
       "      <td>original_language_bins_No Language</td>\n",
       "      <td>0.000000</td>\n",
       "    </tr>\n",
       "    <tr>\n",
       "      <th>22035</th>\n",
       "      <td>original_language_bins_Other</td>\n",
       "      <td>0.000000</td>\n",
       "    </tr>\n",
       "    <tr>\n",
       "      <th>22036</th>\n",
       "      <td>original_language_bins_Spanish</td>\n",
       "      <td>0.000000</td>\n",
       "    </tr>\n",
       "    <tr>\n",
       "      <th>22037</th>\n",
       "      <td>original_language_bins_nan</td>\n",
       "      <td>0.000000</td>\n",
       "    </tr>\n",
       "  </tbody>\n",
       "</table>\n",
       "<p>22038 rows × 2 columns</p>\n",
       "</div>"
      ],
      "text/plain": [
       "                                  Feature      coef\n",
       "0                         scaler__runtime  0.170144\n",
       "1                      scaler__inf_budget  0.148374\n",
       "2                    scaler__blurb_length  0.043127\n",
       "3               scaler__blurb_objectivity  0.029015\n",
       "4                  scaler__blurb_polarity  0.000000\n",
       "...                                   ...       ...\n",
       "22033        original_language_bins_Hindi  0.000000\n",
       "22034  original_language_bins_No Language  0.000000\n",
       "22035        original_language_bins_Other  0.000000\n",
       "22036      original_language_bins_Spanish  0.000000\n",
       "22037          original_language_bins_nan  0.000000\n",
       "\n",
       "[22038 rows x 2 columns]"
      ]
     },
     "execution_count": 196,
     "metadata": {},
     "output_type": "execute_result"
    }
   ],
   "source": [
    "coefs = pd.DataFrame({'Feature': x_train_trans.columns,\n",
    "                     'coef': dtree_model_grid.best_estimator_.feature_importances_})\n",
    "coefs"
   ]
  },
  {
   "cell_type": "code",
   "execution_count": 197,
   "metadata": {},
   "outputs": [],
   "source": [
    "coefs['abs'] = abs(coefs.coef)"
   ]
  },
  {
   "cell_type": "code",
   "execution_count": 198,
   "metadata": {},
   "outputs": [
    {
     "data": {
      "text/html": [
       "<div>\n",
       "<style scoped>\n",
       "    .dataframe tbody tr th:only-of-type {\n",
       "        vertical-align: middle;\n",
       "    }\n",
       "\n",
       "    .dataframe tbody tr th {\n",
       "        vertical-align: top;\n",
       "    }\n",
       "\n",
       "    .dataframe thead th {\n",
       "        text-align: right;\n",
       "    }\n",
       "</style>\n",
       "<table border=\"1\" class=\"dataframe\">\n",
       "  <thead>\n",
       "    <tr style=\"text-align: right;\">\n",
       "      <th></th>\n",
       "      <th>Feature</th>\n",
       "      <th>coef</th>\n",
       "      <th>abs</th>\n",
       "    </tr>\n",
       "  </thead>\n",
       "  <tbody>\n",
       "    <tr>\n",
       "      <th>22010</th>\n",
       "      <td>from_collection</td>\n",
       "      <td>0.520851</td>\n",
       "      <td>0.520851</td>\n",
       "    </tr>\n",
       "    <tr>\n",
       "      <th>0</th>\n",
       "      <td>scaler__runtime</td>\n",
       "      <td>0.170144</td>\n",
       "      <td>0.170144</td>\n",
       "    </tr>\n",
       "    <tr>\n",
       "      <th>1</th>\n",
       "      <td>scaler__inf_budget</td>\n",
       "      <td>0.148374</td>\n",
       "      <td>0.148374</td>\n",
       "    </tr>\n",
       "    <tr>\n",
       "      <th>2</th>\n",
       "      <td>scaler__blurb_length</td>\n",
       "      <td>0.043127</td>\n",
       "      <td>0.043127</td>\n",
       "    </tr>\n",
       "    <tr>\n",
       "      <th>3</th>\n",
       "      <td>scaler__blurb_objectivity</td>\n",
       "      <td>0.029015</td>\n",
       "      <td>0.029015</td>\n",
       "    </tr>\n",
       "    <tr>\n",
       "      <th>5</th>\n",
       "      <td>GENRE_Drama</td>\n",
       "      <td>0.021802</td>\n",
       "      <td>0.021802</td>\n",
       "    </tr>\n",
       "    <tr>\n",
       "      <th>7</th>\n",
       "      <td>GENRE_Romance</td>\n",
       "      <td>0.021131</td>\n",
       "      <td>0.021131</td>\n",
       "    </tr>\n",
       "    <tr>\n",
       "      <th>25</th>\n",
       "      <td>GENRE_Biography</td>\n",
       "      <td>0.020189</td>\n",
       "      <td>0.020189</td>\n",
       "    </tr>\n",
       "    <tr>\n",
       "      <th>28</th>\n",
       "      <td>genre_pair_unique</td>\n",
       "      <td>0.014217</td>\n",
       "      <td>0.014217</td>\n",
       "    </tr>\n",
       "    <tr>\n",
       "      <th>2931</th>\n",
       "      <td>ACTOR_Meryl Streep</td>\n",
       "      <td>0.011151</td>\n",
       "      <td>0.011151</td>\n",
       "    </tr>\n",
       "  </tbody>\n",
       "</table>\n",
       "</div>"
      ],
      "text/plain": [
       "                         Feature      coef       abs\n",
       "22010            from_collection  0.520851  0.520851\n",
       "0                scaler__runtime  0.170144  0.170144\n",
       "1             scaler__inf_budget  0.148374  0.148374\n",
       "2           scaler__blurb_length  0.043127  0.043127\n",
       "3      scaler__blurb_objectivity  0.029015  0.029015\n",
       "5                    GENRE_Drama  0.021802  0.021802\n",
       "7                  GENRE_Romance  0.021131  0.021131\n",
       "25               GENRE_Biography  0.020189  0.020189\n",
       "28             genre_pair_unique  0.014217  0.014217\n",
       "2931          ACTOR_Meryl Streep  0.011151  0.011151"
      ]
     },
     "execution_count": 198,
     "metadata": {},
     "output_type": "execute_result"
    }
   ],
   "source": [
    "coefs.sort_values(by = 'abs' , ascending = False).head(10)"
   ]
  },
  {
   "cell_type": "markdown",
   "metadata": {},
   "source": [
    "<h2> XGBoost Classifier <h2>"
   ]
  },
  {
   "cell_type": "code",
   "execution_count": 222,
   "metadata": {},
   "outputs": [],
   "source": [
    "#create the model object\n",
    "boost_model = XGBClassifier()"
   ]
  },
  {
   "cell_type": "code",
   "execution_count": 223,
   "metadata": {},
   "outputs": [
    {
     "data": {
      "text/plain": [
       "{'objective': 'binary:logistic',\n",
       " 'base_score': None,\n",
       " 'booster': None,\n",
       " 'colsample_bylevel': None,\n",
       " 'colsample_bynode': None,\n",
       " 'colsample_bytree': None,\n",
       " 'gamma': None,\n",
       " 'gpu_id': None,\n",
       " 'importance_type': 'gain',\n",
       " 'interaction_constraints': None,\n",
       " 'learning_rate': None,\n",
       " 'max_delta_step': None,\n",
       " 'max_depth': None,\n",
       " 'min_child_weight': None,\n",
       " 'missing': nan,\n",
       " 'monotone_constraints': None,\n",
       " 'n_estimators': 100,\n",
       " 'n_jobs': None,\n",
       " 'num_parallel_tree': None,\n",
       " 'random_state': None,\n",
       " 'reg_alpha': None,\n",
       " 'reg_lambda': None,\n",
       " 'scale_pos_weight': None,\n",
       " 'subsample': None,\n",
       " 'tree_method': None,\n",
       " 'validate_parameters': None,\n",
       " 'verbosity': None}"
      ]
     },
     "execution_count": 223,
     "metadata": {},
     "output_type": "execute_result"
    }
   ],
   "source": [
    "#investigate parameters\n",
    "boost_model.get_params()"
   ]
  },
  {
   "cell_type": "code",
   "execution_count": null,
   "metadata": {},
   "outputs": [
    {
     "name": "stdout",
     "output_type": "stream",
     "text": [
      "Fitting 5 folds for each of 300 candidates, totalling 1500 fits\n"
     ]
    }
   ],
   "source": [
    "#confirm the parameters to iterate through\n",
    "boost_model_params = {'booster': ['gbtree', 'gblinear'],\n",
    "                     'reg_alpha': np.logspace(-4,4,15),\n",
    "                    'learning_rate': [0.1],\n",
    "                     'max_depth': [x for x in range(6,16)]}\n",
    "\n",
    "\n",
    "#essentially fitting a normal model with a cross validation rather than a grid search\n",
    "boost_model_grid = GridSearchCV(boost_model, boost_model_params,\n",
    "                              verbose = 1,\n",
    "                              cv = 5,\n",
    "                              n_jobs = 3)\n",
    "boost_model_grid.fit(x_train_trans,y_train)"
   ]
  },
  {
   "cell_type": "markdown",
   "metadata": {},
   "source": [
    "<b> Resulting scores </b>"
   ]
  },
  {
   "cell_type": "code",
   "execution_count": 202,
   "metadata": {},
   "outputs": [
    {
     "data": {
      "text/plain": [
       "GaussianNB()"
      ]
     },
     "execution_count": 202,
     "metadata": {},
     "output_type": "execute_result"
    }
   ],
   "source": [
    "#the best estimator\n",
    "boost_model_grid.best_estimator_"
   ]
  },
  {
   "cell_type": "code",
   "execution_count": 203,
   "metadata": {},
   "outputs": [
    {
     "data": {
      "text/plain": [
       "0.6318021614421073"
      ]
     },
     "execution_count": 203,
     "metadata": {},
     "output_type": "execute_result"
    }
   ],
   "source": [
    "#training score cross validated\n",
    "boost_model_grid.best_score_"
   ]
  },
  {
   "cell_type": "code",
   "execution_count": 204,
   "metadata": {},
   "outputs": [
    {
     "data": {
      "text/plain": [
       "0.6111111111111112"
      ]
     },
     "execution_count": 204,
     "metadata": {},
     "output_type": "execute_result"
    }
   ],
   "source": [
    "#test score\n",
    "test_score = boost_model_grid.score(x_test_trans,y_test)"
   ]
  },
  {
   "cell_type": "code",
   "execution_count": 205,
   "metadata": {},
   "outputs": [
    {
     "name": "stdout",
     "output_type": "stream",
     "text": [
      "Training Accuracy: 0.6318021614421073\n",
      "Testing Accuracy: 0.6111111111111112\n"
     ]
    }
   ],
   "source": [
    "boost_model_grid_results = []\n",
    "\n",
    "boost_model_grid_results.append(naive_model_grid.best_score_)\n",
    "boost_model_grid_results.append(naive_model_grid.score(x_test_trans,y_test))\n",
    "\n",
    "\n",
    "print(f'Training Accuracy: {naive_model_grid.best_score_}')\n",
    "print(f'Testing Accuracy: {test_score}')"
   ]
  },
  {
   "cell_type": "markdown",
   "metadata": {},
   "source": [
    "<b>feature importance</b>"
   ]
  },
  {
   "cell_type": "code",
   "execution_count": 207,
   "metadata": {},
   "outputs": [],
   "source": [
    "coefs = pd.DataFrame({'Feature': x_train_trans.columns,\n",
    "                     'coef': svm_model_grid.best_estimator_.coef_[0]})\n",
    "coefs"
   ]
  },
  {
   "cell_type": "code",
   "execution_count": null,
   "metadata": {},
   "outputs": [],
   "source": [
    "coefs['abs'] = abs(coefs.coef)"
   ]
  },
  {
   "cell_type": "code",
   "execution_count": null,
   "metadata": {},
   "outputs": [],
   "source": [
    "coefs.sort_values(by = 'abs' , ascending = False).head(5)y"
   ]
  },
  {
   "cell_type": "markdown",
   "metadata": {},
   "source": [
    "<h2> Support Vector Machine <h2>"
   ]
  },
  {
   "cell_type": "code",
   "execution_count": 208,
   "metadata": {},
   "outputs": [],
   "source": [
    "#create the model object\n",
    "svm_model = svm.SVC()"
   ]
  },
  {
   "cell_type": "code",
   "execution_count": 209,
   "metadata": {},
   "outputs": [
    {
     "data": {
      "text/plain": [
       "{'C': 1.0,\n",
       " 'break_ties': False,\n",
       " 'cache_size': 200,\n",
       " 'class_weight': None,\n",
       " 'coef0': 0.0,\n",
       " 'decision_function_shape': 'ovr',\n",
       " 'degree': 3,\n",
       " 'gamma': 'scale',\n",
       " 'kernel': 'rbf',\n",
       " 'max_iter': -1,\n",
       " 'probability': False,\n",
       " 'random_state': None,\n",
       " 'shrinking': True,\n",
       " 'tol': 0.001,\n",
       " 'verbose': False}"
      ]
     },
     "execution_count": 209,
     "metadata": {},
     "output_type": "execute_result"
    }
   ],
   "source": [
    "#investigate parameters\n",
    "svm_model.get_params()"
   ]
  },
  {
   "cell_type": "code",
   "execution_count": 211,
   "metadata": {},
   "outputs": [
    {
     "name": "stdout",
     "output_type": "stream",
     "text": [
      "Fitting 5 folds for each of 10 candidates, totalling 50 fits\n"
     ]
    },
    {
     "name": "stderr",
     "output_type": "stream",
     "text": [
      "/Users/chrismembrey/opt/anaconda3/lib/python3.8/site-packages/joblib/externals/loky/process_executor.py:688: UserWarning: A worker stopped while some jobs were given to the executor. This can be caused by a too short worker timeout or by a memory leak.\n",
      "  warnings.warn(\n"
     ]
    },
    {
     "data": {
      "text/plain": [
       "GridSearchCV(cv=5, estimator=SVC(), n_jobs=3,\n",
       "             param_grid={'C': array([1.00000000e-04, 7.74263683e-04, 5.99484250e-03, 4.64158883e-02,\n",
       "       3.59381366e-01, 2.78255940e+00, 2.15443469e+01, 1.66810054e+02,\n",
       "       1.29154967e+03, 1.00000000e+04]),\n",
       "                         'kernel': ['linear']},\n",
       "             verbose=1)"
      ]
     },
     "execution_count": 211,
     "metadata": {},
     "output_type": "execute_result"
    }
   ],
   "source": [
    "#confirm the parameters to iterate through\n",
    "svm_model_params = {'C':np.logspace(-4,4,10),\n",
    "                   'kernel':['linear']}\n",
    "\n",
    "\n",
    "#create the grid search cv object\n",
    "svm_model_grid = GridSearchCV(svm_model, svm_model_params,\n",
    "                              verbose = 1,\n",
    "                              cv = 5,\n",
    "                              n_jobs = 3)\n",
    "svm_model_grid.fit(x_train_trans,y_train)"
   ]
  },
  {
   "cell_type": "markdown",
   "metadata": {},
   "source": [
    "<b> Resulting scores </b>"
   ]
  },
  {
   "cell_type": "code",
   "execution_count": 212,
   "metadata": {},
   "outputs": [
    {
     "data": {
      "text/plain": [
       "SVC(C=0.046415888336127774, kernel='linear')"
      ]
     },
     "execution_count": 212,
     "metadata": {},
     "output_type": "execute_result"
    }
   ],
   "source": [
    "#the best estimator\n",
    "svm_model_grid.best_estimator_"
   ]
  },
  {
   "cell_type": "code",
   "execution_count": 213,
   "metadata": {},
   "outputs": [
    {
     "data": {
      "text/plain": [
       "0.6639156049244784"
      ]
     },
     "execution_count": 213,
     "metadata": {},
     "output_type": "execute_result"
    }
   ],
   "source": [
    "#training score cross validated\n",
    "svm_model_grid.best_score_"
   ]
  },
  {
   "cell_type": "code",
   "execution_count": 215,
   "metadata": {},
   "outputs": [],
   "source": [
    "#test score\n",
    "test_score = svm_model_grid.score(x_test_trans,y_test)"
   ]
  },
  {
   "cell_type": "code",
   "execution_count": 216,
   "metadata": {},
   "outputs": [
    {
     "name": "stdout",
     "output_type": "stream",
     "text": [
      "Training Accuracy: 0.6639156049244784\n",
      "Testing Accuracy: 0.6771488469601677\n"
     ]
    }
   ],
   "source": [
    "svm_model_grid_results = []\n",
    "\n",
    "svm_model_grid_results.append(svm_model_grid.best_score_)\n",
    "svm_model_grid_results.append(test_score)\n",
    "\n",
    "\n",
    "print(f'Training Accuracy: {svm_model_grid.best_score_}')\n",
    "print(f'Testing Accuracy: {test_score}')"
   ]
  },
  {
   "cell_type": "markdown",
   "metadata": {},
   "source": [
    "<b>feature importance</b>"
   ]
  },
  {
   "cell_type": "code",
   "execution_count": 217,
   "metadata": {},
   "outputs": [
    {
     "data": {
      "text/html": [
       "<div>\n",
       "<style scoped>\n",
       "    .dataframe tbody tr th:only-of-type {\n",
       "        vertical-align: middle;\n",
       "    }\n",
       "\n",
       "    .dataframe tbody tr th {\n",
       "        vertical-align: top;\n",
       "    }\n",
       "\n",
       "    .dataframe thead th {\n",
       "        text-align: right;\n",
       "    }\n",
       "</style>\n",
       "<table border=\"1\" class=\"dataframe\">\n",
       "  <thead>\n",
       "    <tr style=\"text-align: right;\">\n",
       "      <th></th>\n",
       "      <th>Feature</th>\n",
       "      <th>coef</th>\n",
       "    </tr>\n",
       "  </thead>\n",
       "  <tbody>\n",
       "    <tr>\n",
       "      <th>0</th>\n",
       "      <td>scaler__runtime</td>\n",
       "      <td>0.307323</td>\n",
       "    </tr>\n",
       "    <tr>\n",
       "      <th>1</th>\n",
       "      <td>scaler__inf_budget</td>\n",
       "      <td>-0.020912</td>\n",
       "    </tr>\n",
       "    <tr>\n",
       "      <th>2</th>\n",
       "      <td>scaler__blurb_length</td>\n",
       "      <td>0.015294</td>\n",
       "    </tr>\n",
       "    <tr>\n",
       "      <th>3</th>\n",
       "      <td>scaler__blurb_objectivity</td>\n",
       "      <td>-0.007034</td>\n",
       "    </tr>\n",
       "    <tr>\n",
       "      <th>4</th>\n",
       "      <td>scaler__blurb_polarity</td>\n",
       "      <td>0.005626</td>\n",
       "    </tr>\n",
       "    <tr>\n",
       "      <th>...</th>\n",
       "      <td>...</td>\n",
       "      <td>...</td>\n",
       "    </tr>\n",
       "    <tr>\n",
       "      <th>22033</th>\n",
       "      <td>original_language_bins_Hindi</td>\n",
       "      <td>0.160506</td>\n",
       "    </tr>\n",
       "    <tr>\n",
       "      <th>22034</th>\n",
       "      <td>original_language_bins_No Language</td>\n",
       "      <td>0.320426</td>\n",
       "    </tr>\n",
       "    <tr>\n",
       "      <th>22035</th>\n",
       "      <td>original_language_bins_Other</td>\n",
       "      <td>-0.026969</td>\n",
       "    </tr>\n",
       "    <tr>\n",
       "      <th>22036</th>\n",
       "      <td>original_language_bins_Spanish</td>\n",
       "      <td>0.034609</td>\n",
       "    </tr>\n",
       "    <tr>\n",
       "      <th>22037</th>\n",
       "      <td>original_language_bins_nan</td>\n",
       "      <td>0.000000</td>\n",
       "    </tr>\n",
       "  </tbody>\n",
       "</table>\n",
       "<p>22038 rows × 2 columns</p>\n",
       "</div>"
      ],
      "text/plain": [
       "                                  Feature      coef\n",
       "0                         scaler__runtime  0.307323\n",
       "1                      scaler__inf_budget -0.020912\n",
       "2                    scaler__blurb_length  0.015294\n",
       "3               scaler__blurb_objectivity -0.007034\n",
       "4                  scaler__blurb_polarity  0.005626\n",
       "...                                   ...       ...\n",
       "22033        original_language_bins_Hindi  0.160506\n",
       "22034  original_language_bins_No Language  0.320426\n",
       "22035        original_language_bins_Other -0.026969\n",
       "22036      original_language_bins_Spanish  0.034609\n",
       "22037          original_language_bins_nan  0.000000\n",
       "\n",
       "[22038 rows x 2 columns]"
      ]
     },
     "execution_count": 217,
     "metadata": {},
     "output_type": "execute_result"
    }
   ],
   "source": [
    "coefs = pd.DataFrame({'Feature': x_train_trans.columns,\n",
    "                     'coef': svm_model_grid.best_estimator_.coef_[0]})\n",
    "coefs"
   ]
  },
  {
   "cell_type": "code",
   "execution_count": 218,
   "metadata": {},
   "outputs": [],
   "source": [
    "coefs['abs'] = abs(coefs.coef)"
   ]
  },
  {
   "cell_type": "code",
   "execution_count": 219,
   "metadata": {},
   "outputs": [
    {
     "data": {
      "text/html": [
       "<div>\n",
       "<style scoped>\n",
       "    .dataframe tbody tr th:only-of-type {\n",
       "        vertical-align: middle;\n",
       "    }\n",
       "\n",
       "    .dataframe tbody tr th {\n",
       "        vertical-align: top;\n",
       "    }\n",
       "\n",
       "    .dataframe thead th {\n",
       "        text-align: right;\n",
       "    }\n",
       "</style>\n",
       "<table border=\"1\" class=\"dataframe\">\n",
       "  <thead>\n",
       "    <tr style=\"text-align: right;\">\n",
       "      <th></th>\n",
       "      <th>Feature</th>\n",
       "      <th>coef</th>\n",
       "      <th>abs</th>\n",
       "    </tr>\n",
       "  </thead>\n",
       "  <tbody>\n",
       "    <tr>\n",
       "      <th>22010</th>\n",
       "      <td>from_collection</td>\n",
       "      <td>1.015350</td>\n",
       "      <td>1.015350</td>\n",
       "    </tr>\n",
       "    <tr>\n",
       "      <th>18409</th>\n",
       "      <td>BLURB_school</td>\n",
       "      <td>0.477692</td>\n",
       "      <td>0.477692</td>\n",
       "    </tr>\n",
       "    <tr>\n",
       "      <th>2093</th>\n",
       "      <td>ACTOR_Sam Elliott</td>\n",
       "      <td>0.401691</td>\n",
       "      <td>0.401691</td>\n",
       "    </tr>\n",
       "    <tr>\n",
       "      <th>290</th>\n",
       "      <td>ACTOR_Tom Cruise</td>\n",
       "      <td>0.393662</td>\n",
       "      <td>0.393662</td>\n",
       "    </tr>\n",
       "    <tr>\n",
       "      <th>22031</th>\n",
       "      <td>original_language_bins_French</td>\n",
       "      <td>-0.391075</td>\n",
       "      <td>0.391075</td>\n",
       "    </tr>\n",
       "  </tbody>\n",
       "</table>\n",
       "</div>"
      ],
      "text/plain": [
       "                             Feature      coef       abs\n",
       "22010                from_collection  1.015350  1.015350\n",
       "18409                   BLURB_school  0.477692  0.477692\n",
       "2093               ACTOR_Sam Elliott  0.401691  0.401691\n",
       "290                 ACTOR_Tom Cruise  0.393662  0.393662\n",
       "22031  original_language_bins_French -0.391075  0.391075"
      ]
     },
     "execution_count": 219,
     "metadata": {},
     "output_type": "execute_result"
    }
   ],
   "source": [
    "coefs.sort_values(by = 'abs' , ascending = False).head(5)"
   ]
  },
  {
   "cell_type": "code",
   "execution_count": null,
   "metadata": {},
   "outputs": [],
   "source": []
  },
  {
   "cell_type": "markdown",
   "metadata": {},
   "source": [
    "From collection has again been the top variable here, what is the correlation between making a profit and being from a collection of sequels?"
   ]
  },
  {
   "cell_type": "code",
   "execution_count": 5,
   "metadata": {},
   "outputs": [
    {
     "data": {
      "text/html": [
       "<div>\n",
       "<style scoped>\n",
       "    .dataframe tbody tr th:only-of-type {\n",
       "        vertical-align: middle;\n",
       "    }\n",
       "\n",
       "    .dataframe tbody tr th {\n",
       "        vertical-align: top;\n",
       "    }\n",
       "\n",
       "    .dataframe thead th {\n",
       "        text-align: right;\n",
       "    }\n",
       "</style>\n",
       "<table border=\"1\" class=\"dataframe\">\n",
       "  <thead>\n",
       "    <tr style=\"text-align: right;\">\n",
       "      <th></th>\n",
       "      <th>from_collection</th>\n",
       "      <th>profit?</th>\n",
       "    </tr>\n",
       "  </thead>\n",
       "  <tbody>\n",
       "    <tr>\n",
       "      <th>from_collection</th>\n",
       "      <td>1.000000</td>\n",
       "      <td>0.269086</td>\n",
       "    </tr>\n",
       "    <tr>\n",
       "      <th>profit?</th>\n",
       "      <td>0.269086</td>\n",
       "      <td>1.000000</td>\n",
       "    </tr>\n",
       "  </tbody>\n",
       "</table>\n",
       "</div>"
      ],
      "text/plain": [
       "                 from_collection   profit?\n",
       "from_collection         1.000000  0.269086\n",
       "profit?                 0.269086  1.000000"
      ]
     },
     "execution_count": 5,
     "metadata": {},
     "output_type": "execute_result"
    }
   ],
   "source": [
    "data[['from_collection', 'profit?']].corr()"
   ]
  },
  {
   "cell_type": "code",
   "execution_count": null,
   "metadata": {},
   "outputs": [],
   "source": []
  },
  {
   "cell_type": "markdown",
   "metadata": {},
   "source": [
    "<h1> Model Evaluation for the Best Model: Logistic Regression </h1>"
   ]
  },
  {
   "cell_type": "markdown",
   "metadata": {},
   "source": [
    "The model for predicting profits has a score which performs above randomly guessing (baseline), but which class is the model better at predicting?"
   ]
  },
  {
   "cell_type": "code",
   "execution_count": 49,
   "metadata": {
    "scrolled": true
   },
   "outputs": [
    {
     "data": {
      "text/plain": [
       "<sklearn.metrics._plot.confusion_matrix.ConfusionMatrixDisplay at 0x7fe96271ca60>"
      ]
     },
     "execution_count": 49,
     "metadata": {},
     "output_type": "execute_result"
    },
    {
     "data": {
      "image/png": "[encoded data removed]",
      "text/plain": [
       "<Figure size 432x288 with 2 Axes>"
      ]
     },
     "metadata": {
      "needs_background": "light"
     },
     "output_type": "display_data"
    }
   ],
   "source": [
    "from sklearn.metrics import classification_report, plot_confusion_matrix , plot_roc_curve , plot_precision_recall_curve\n",
    "\n",
    "plot_confusion_matrix(log_model_grid.best_estimator_ , x_train_trans , y_train , cmap = 'Blues')"
   ]
  },
  {
   "cell_type": "code",
   "execution_count": 59,
   "metadata": {},
   "outputs": [],
   "source": [
    "predictions = log_model_grid.best_estimator_.predict(x_test_trans)"
   ]
  },
  {
   "cell_type": "code",
   "execution_count": 60,
   "metadata": {},
   "outputs": [
    {
     "name": "stdout",
     "output_type": "stream",
     "text": [
      "              precision    recall  f1-score   support\n",
      "\n",
      "           0       0.62      0.62      0.62       830\n",
      "           1       0.71      0.71      0.71      1078\n",
      "\n",
      "    accuracy                           0.67      1908\n",
      "   macro avg       0.66      0.66      0.66      1908\n",
      "weighted avg       0.67      0.67      0.67      1908\n",
      "\n"
     ]
    }
   ],
   "source": [
    "print(classification_report(y_test, predictions))"
   ]
  },
  {
   "cell_type": "code",
   "execution_count": 61,
   "metadata": {},
   "outputs": [
    {
     "data": {
      "image/png": "[encoded data removed]",
      "text/plain": [
       "<Figure size 432x288 with 1 Axes>"
      ]
     },
     "metadata": {
      "needs_background": "light"
     },
     "output_type": "display_data"
    }
   ],
   "source": [
    "plot_roc_curve(log_model_grid.best_estimator_ , x_test_trans , y_test);"
   ]
  },
  {
   "cell_type": "code",
   "execution_count": 76,
   "metadata": {},
   "outputs": [
    {
     "data": {
      "image/png": "[encoded data removed]",
      "text/plain": [
       "<Figure size 432x288 with 1 Axes>"
      ]
     },
     "metadata": {
      "needs_background": "light"
     },
     "output_type": "display_data"
    }
   ],
   "source": [
    "import matplotlib.pyplot as plt\n",
    "plot_precision_recall_curve(log_model_grid.best_estimator_ , x_test_trans , y_test);\n",
    "plt.plot([0,1], [0,1], color = 'black', label = 'Probability Threshold Line', linestyle = '--');\n",
    "plt.legend();"
   ]
  },
  {
   "cell_type": "code",
   "execution_count": null,
   "metadata": {},
   "outputs": [],
   "source": []
  },
  {
   "cell_type": "markdown",
   "metadata": {},
   "source": [
    "<h1> Multiclass Classification of Target Variable </h1> "
   ]
  },
  {
   "cell_type": "code",
   "execution_count": 102,
   "metadata": {},
   "outputs": [
    {
     "data": {
      "text/html": [
       "<div>\n",
       "<style scoped>\n",
       "    .dataframe tbody tr th:only-of-type {\n",
       "        vertical-align: middle;\n",
       "    }\n",
       "\n",
       "    .dataframe tbody tr th {\n",
       "        vertical-align: top;\n",
       "    }\n",
       "\n",
       "    .dataframe thead th {\n",
       "        text-align: right;\n",
       "    }\n",
       "</style>\n",
       "<table border=\"1\" class=\"dataframe\">\n",
       "  <thead>\n",
       "    <tr style=\"text-align: right;\">\n",
       "      <th></th>\n",
       "      <th>runtime</th>\n",
       "      <th>ROI</th>\n",
       "      <th>inf_budget</th>\n",
       "      <th>blurb_length</th>\n",
       "      <th>GENRE_Drama</th>\n",
       "      <th>GENRE_History</th>\n",
       "      <th>GENRE_Romance</th>\n",
       "      <th>GENRE_Crime</th>\n",
       "      <th>GENRE_Animation</th>\n",
       "      <th>GENRE_Family</th>\n",
       "      <th>...</th>\n",
       "      <th>month_11.0</th>\n",
       "      <th>month_12.0</th>\n",
       "      <th>month_nan</th>\n",
       "      <th>original_language_bins_French</th>\n",
       "      <th>original_language_bins_German</th>\n",
       "      <th>original_language_bins_Hindi</th>\n",
       "      <th>original_language_bins_No Language</th>\n",
       "      <th>original_language_bins_Other</th>\n",
       "      <th>original_language_bins_Spanish</th>\n",
       "      <th>original_language_bins_nan</th>\n",
       "    </tr>\n",
       "  </thead>\n",
       "  <tbody>\n",
       "    <tr>\n",
       "      <th>0</th>\n",
       "      <td>248.0</td>\n",
       "      <td>61.363636</td>\n",
       "      <td>3.781901e+08</td>\n",
       "      <td>37.0</td>\n",
       "      <td>1.0</td>\n",
       "      <td>1.0</td>\n",
       "      <td>1.0</td>\n",
       "      <td>0.0</td>\n",
       "      <td>0.0</td>\n",
       "      <td>0.0</td>\n",
       "      <td>...</td>\n",
       "      <td>0</td>\n",
       "      <td>0</td>\n",
       "      <td>0</td>\n",
       "      <td>0</td>\n",
       "      <td>0</td>\n",
       "      <td>0</td>\n",
       "      <td>0</td>\n",
       "      <td>0</td>\n",
       "      <td>0</td>\n",
       "      <td>0</td>\n",
       "    </tr>\n",
       "    <tr>\n",
       "      <th>1</th>\n",
       "      <td>67.0</td>\n",
       "      <td>-46.093333</td>\n",
       "      <td>4.359348e+05</td>\n",
       "      <td>56.0</td>\n",
       "      <td>1.0</td>\n",
       "      <td>0.0</td>\n",
       "      <td>0.0</td>\n",
       "      <td>1.0</td>\n",
       "      <td>0.0</td>\n",
       "      <td>0.0</td>\n",
       "      <td>...</td>\n",
       "      <td>1</td>\n",
       "      <td>0</td>\n",
       "      <td>0</td>\n",
       "      <td>0</td>\n",
       "      <td>0</td>\n",
       "      <td>0</td>\n",
       "      <td>0</td>\n",
       "      <td>0</td>\n",
       "      <td>0</td>\n",
       "      <td>0</td>\n",
       "    </tr>\n",
       "    <tr>\n",
       "      <th>2</th>\n",
       "      <td>171.0</td>\n",
       "      <td>-98.668687</td>\n",
       "      <td>7.594529e+07</td>\n",
       "      <td>68.0</td>\n",
       "      <td>1.0</td>\n",
       "      <td>1.0</td>\n",
       "      <td>1.0</td>\n",
       "      <td>0.0</td>\n",
       "      <td>0.0</td>\n",
       "      <td>0.0</td>\n",
       "      <td>...</td>\n",
       "      <td>1</td>\n",
       "      <td>0</td>\n",
       "      <td>0</td>\n",
       "      <td>0</td>\n",
       "      <td>0</td>\n",
       "      <td>0</td>\n",
       "      <td>0</td>\n",
       "      <td>0</td>\n",
       "      <td>0</td>\n",
       "      <td>0</td>\n",
       "    </tr>\n",
       "    <tr>\n",
       "      <th>3</th>\n",
       "      <td>95.0</td>\n",
       "      <td>55.044771</td>\n",
       "      <td>1.773128e+08</td>\n",
       "      <td>52.0</td>\n",
       "      <td>0.0</td>\n",
       "      <td>0.0</td>\n",
       "      <td>0.0</td>\n",
       "      <td>0.0</td>\n",
       "      <td>1.0</td>\n",
       "      <td>1.0</td>\n",
       "      <td>...</td>\n",
       "      <td>0</td>\n",
       "      <td>0</td>\n",
       "      <td>0</td>\n",
       "      <td>0</td>\n",
       "      <td>0</td>\n",
       "      <td>0</td>\n",
       "      <td>0</td>\n",
       "      <td>0</td>\n",
       "      <td>0</td>\n",
       "      <td>0</td>\n",
       "    </tr>\n",
       "    <tr>\n",
       "      <th>4</th>\n",
       "      <td>101.0</td>\n",
       "      <td>-21.981352</td>\n",
       "      <td>4.572874e+07</td>\n",
       "      <td>14.0</td>\n",
       "      <td>1.0</td>\n",
       "      <td>0.0</td>\n",
       "      <td>0.0</td>\n",
       "      <td>0.0</td>\n",
       "      <td>0.0</td>\n",
       "      <td>0.0</td>\n",
       "      <td>...</td>\n",
       "      <td>0</td>\n",
       "      <td>0</td>\n",
       "      <td>0</td>\n",
       "      <td>0</td>\n",
       "      <td>0</td>\n",
       "      <td>0</td>\n",
       "      <td>0</td>\n",
       "      <td>0</td>\n",
       "      <td>0</td>\n",
       "      <td>0</td>\n",
       "    </tr>\n",
       "  </tbody>\n",
       "</table>\n",
       "<p>5 rows × 22038 columns</p>\n",
       "</div>"
      ],
      "text/plain": [
       "   runtime        ROI    inf_budget  blurb_length  GENRE_Drama  GENRE_History  \\\n",
       "0    248.0  61.363636  3.781901e+08          37.0          1.0            1.0   \n",
       "1     67.0 -46.093333  4.359348e+05          56.0          1.0            0.0   \n",
       "2    171.0 -98.668687  7.594529e+07          68.0          1.0            1.0   \n",
       "3     95.0  55.044771  1.773128e+08          52.0          0.0            0.0   \n",
       "4    101.0 -21.981352  4.572874e+07          14.0          1.0            0.0   \n",
       "\n",
       "   GENRE_Romance  GENRE_Crime  GENRE_Animation  GENRE_Family  ...  month_11.0  \\\n",
       "0            1.0          0.0              0.0           0.0  ...           0   \n",
       "1            0.0          1.0              0.0           0.0  ...           1   \n",
       "2            1.0          0.0              0.0           0.0  ...           1   \n",
       "3            0.0          0.0              1.0           1.0  ...           0   \n",
       "4            0.0          0.0              0.0           0.0  ...           0   \n",
       "\n",
       "   month_12.0  month_nan  original_language_bins_French  \\\n",
       "0           0          0                              0   \n",
       "1           0          0                              0   \n",
       "2           0          0                              0   \n",
       "3           0          0                              0   \n",
       "4           0          0                              0   \n",
       "\n",
       "   original_language_bins_German  original_language_bins_Hindi  \\\n",
       "0                              0                             0   \n",
       "1                              0                             0   \n",
       "2                              0                             0   \n",
       "3                              0                             0   \n",
       "4                              0                             0   \n",
       "\n",
       "   original_language_bins_No Language  original_language_bins_Other  \\\n",
       "0                                   0                             0   \n",
       "1                                   0                             0   \n",
       "2                                   0                             0   \n",
       "3                                   0                             0   \n",
       "4                                   0                             0   \n",
       "\n",
       "   original_language_bins_Spanish  original_language_bins_nan  \n",
       "0                               0                           0  \n",
       "1                               0                           0  \n",
       "2                               0                           0  \n",
       "3                               0                           0  \n",
       "4                               0                           0  \n",
       "\n",
       "[5 rows x 22038 columns]"
      ]
     },
     "execution_count": 102,
     "metadata": {},
     "output_type": "execute_result"
    }
   ],
   "source": [
    "X.head()"
   ]
  },
  {
   "cell_type": "code",
   "execution_count": 103,
   "metadata": {},
   "outputs": [
    {
     "data": {
      "text/plain": [
       "0    61.363636\n",
       "1   -46.093333\n",
       "2   -98.668687\n",
       "3    55.044771\n",
       "4   -21.981352\n",
       "Name: ROI, dtype: float64"
      ]
     },
     "execution_count": 103,
     "metadata": {},
     "output_type": "execute_result"
    }
   ],
   "source": [
    "y = data.ROI.copy()\n",
    "y.head()"
   ]
  },
  {
   "cell_type": "code",
   "execution_count": 104,
   "metadata": {},
   "outputs": [
    {
     "data": {
      "text/plain": [
       "0.0     -99.970951\n",
       "0.2     -76.373582\n",
       "0.4      -9.377520\n",
       "0.6      95.281187\n",
       "0.8     291.219144\n",
       "1.0    2508.150985\n",
       "Name: ROI, dtype: float64"
      ]
     },
     "execution_count": 104,
     "metadata": {},
     "output_type": "execute_result"
    }
   ],
   "source": [
    "#quantiles\n",
    "y.quantile([0, .20, .40, .60, .80 , 1.0])"
   ]
  },
  {
   "cell_type": "code",
   "execution_count": 105,
   "metadata": {
    "scrolled": true
   },
   "outputs": [
    {
     "data": {
      "text/plain": [
       "0    2\n",
       "1    1\n",
       "2    0\n",
       "3    2\n",
       "4    1\n",
       "Name: ROI, dtype: category\n",
       "Categories (5, int64): [0 < 1 < 2 < 3 < 4]"
      ]
     },
     "execution_count": 105,
     "metadata": {},
     "output_type": "execute_result"
    }
   ],
   "source": [
    "target_multi = pd.qcut(y , [0, .20, .40, .60, .80 , 1.0], [0, 1, 2, \n",
    "                                                           3, 4])\n",
    "target_multi.head()"
   ]
  },
  {
   "cell_type": "markdown",
   "metadata": {},
   "source": [
    "<b> Baseline </b>"
   ]
  },
  {
   "cell_type": "code",
   "execution_count": 106,
   "metadata": {},
   "outputs": [
    {
     "data": {
      "text/plain": [
       "0    0.200063\n",
       "4    0.200063\n",
       "1    0.199958\n",
       "2    0.199958\n",
       "3    0.199958\n",
       "Name: ROI, dtype: float64"
      ]
     },
     "execution_count": 106,
     "metadata": {},
     "output_type": "execute_result"
    }
   ],
   "source": [
    "target_multi.value_counts(normalize = True)"
   ]
  },
  {
   "cell_type": "markdown",
   "metadata": {},
   "source": [
    "<h1>Preprocessing</h1>"
   ]
  },
  {
   "cell_type": "code",
   "execution_count": 107,
   "metadata": {},
   "outputs": [
    {
     "data": {
      "text/plain": [
       "(9537, 22038)"
      ]
     },
     "execution_count": 107,
     "metadata": {},
     "output_type": "execute_result"
    }
   ],
   "source": [
    "X.shape"
   ]
  },
  {
   "cell_type": "code",
   "execution_count": 108,
   "metadata": {},
   "outputs": [],
   "source": [
    "X.drop('ROI', inplace = True , axis = 1)"
   ]
  },
  {
   "cell_type": "markdown",
   "metadata": {},
   "source": [
    "<b> Train Test Split </b>"
   ]
  },
  {
   "cell_type": "code",
   "execution_count": 109,
   "metadata": {},
   "outputs": [],
   "source": [
    "x_train, x_test, y_train, y_test = train_test_split(X, target_multi, test_size = 0.2, random_state = 1, stratify = target_multi)"
   ]
  },
  {
   "cell_type": "code",
   "execution_count": 110,
   "metadata": {},
   "outputs": [],
   "source": [
    "x_train = pd.DataFrame(x_train ,columns = X.columns)\n",
    "x_test = pd.DataFrame(x_test ,columns = X.columns)"
   ]
  },
  {
   "cell_type": "markdown",
   "metadata": {},
   "source": [
    "<b>Standard Scaler on the Variables that are not binary/catagorical</b>"
   ]
  },
  {
   "cell_type": "markdown",
   "metadata": {},
   "source": [
    "I'm just going to scale the continuous features to be able to retain explainability of the binary variables"
   ]
  },
  {
   "cell_type": "code",
   "execution_count": 111,
   "metadata": {},
   "outputs": [],
   "source": [
    "scaler = StandardScaler()\n",
    "scaler_columns = ['runtime', 'inf_budget', 'blurb_length','blurb_objectivity', 'blurb_polarity']"
   ]
  },
  {
   "cell_type": "code",
   "execution_count": 112,
   "metadata": {},
   "outputs": [],
   "source": [
    "scale_transformer = ColumnTransformer([('scaler',scaler,scaler_columns)], remainder = 'passthrough', sparse_threshold = 0)"
   ]
  },
  {
   "cell_type": "markdown",
   "metadata": {},
   "source": [
    "Transform the continuous variables so that they are standardised and therefore comparable"
   ]
  },
  {
   "cell_type": "code",
   "execution_count": 113,
   "metadata": {},
   "outputs": [
    {
     "name": "stderr",
     "output_type": "stream",
     "text": [
      "<ipython-input-39-fb4ebcbce952>:36: UserWarning: Transformer scaler (type StandardScaler) does not provide get_feature_names. Will return input column names if available\n",
      "  warnings.warn(\"Transformer %s (type %s) does not \"\n",
      "<ipython-input-39-fb4ebcbce952>:36: UserWarning: Transformer scaler (type StandardScaler) does not provide get_feature_names. Will return input column names if available\n",
      "  warnings.warn(\"Transformer %s (type %s) does not \"\n"
     ]
    }
   ],
   "source": [
    "x_train_trans = pd.DataFrame(scale_transformer.fit_transform(x_train), columns = get_feature_names(scale_transformer))\n",
    "\n",
    "x_test_trans = pd.DataFrame(scale_transformer.transform(x_test), columns = get_feature_names(scale_transformer))"
   ]
  },
  {
   "cell_type": "code",
   "execution_count": 114,
   "metadata": {},
   "outputs": [
    {
     "data": {
      "text/html": [
       "<div>\n",
       "<style scoped>\n",
       "    .dataframe tbody tr th:only-of-type {\n",
       "        vertical-align: middle;\n",
       "    }\n",
       "\n",
       "    .dataframe tbody tr th {\n",
       "        vertical-align: top;\n",
       "    }\n",
       "\n",
       "    .dataframe thead th {\n",
       "        text-align: right;\n",
       "    }\n",
       "</style>\n",
       "<table border=\"1\" class=\"dataframe\">\n",
       "  <thead>\n",
       "    <tr style=\"text-align: right;\">\n",
       "      <th></th>\n",
       "      <th>scaler__runtime</th>\n",
       "      <th>scaler__inf_budget</th>\n",
       "      <th>scaler__blurb_length</th>\n",
       "      <th>scaler__blurb_objectivity</th>\n",
       "      <th>scaler__blurb_polarity</th>\n",
       "      <th>GENRE_Drama</th>\n",
       "      <th>GENRE_History</th>\n",
       "      <th>GENRE_Romance</th>\n",
       "      <th>GENRE_Crime</th>\n",
       "      <th>GENRE_Animation</th>\n",
       "      <th>...</th>\n",
       "      <th>month_11.0</th>\n",
       "      <th>month_12.0</th>\n",
       "      <th>month_nan</th>\n",
       "      <th>original_language_bins_French</th>\n",
       "      <th>original_language_bins_German</th>\n",
       "      <th>original_language_bins_Hindi</th>\n",
       "      <th>original_language_bins_No Language</th>\n",
       "      <th>original_language_bins_Other</th>\n",
       "      <th>original_language_bins_Spanish</th>\n",
       "      <th>original_language_bins_nan</th>\n",
       "    </tr>\n",
       "  </thead>\n",
       "  <tbody>\n",
       "    <tr>\n",
       "      <th>0</th>\n",
       "      <td>0.042238</td>\n",
       "      <td>-0.534443</td>\n",
       "      <td>0.849676</td>\n",
       "      <td>0.860445</td>\n",
       "      <td>0.745288</td>\n",
       "      <td>1.0</td>\n",
       "      <td>0.0</td>\n",
       "      <td>1.0</td>\n",
       "      <td>0.0</td>\n",
       "      <td>0.0</td>\n",
       "      <td>...</td>\n",
       "      <td>0.0</td>\n",
       "      <td>0.0</td>\n",
       "      <td>0.0</td>\n",
       "      <td>0.0</td>\n",
       "      <td>0.0</td>\n",
       "      <td>0.0</td>\n",
       "      <td>0.0</td>\n",
       "      <td>1.0</td>\n",
       "      <td>0.0</td>\n",
       "      <td>0.0</td>\n",
       "    </tr>\n",
       "    <tr>\n",
       "      <th>1</th>\n",
       "      <td>-1.056282</td>\n",
       "      <td>-0.359368</td>\n",
       "      <td>-1.095240</td>\n",
       "      <td>-0.310518</td>\n",
       "      <td>-0.983409</td>\n",
       "      <td>0.0</td>\n",
       "      <td>0.0</td>\n",
       "      <td>1.0</td>\n",
       "      <td>0.0</td>\n",
       "      <td>0.0</td>\n",
       "      <td>...</td>\n",
       "      <td>0.0</td>\n",
       "      <td>1.0</td>\n",
       "      <td>0.0</td>\n",
       "      <td>0.0</td>\n",
       "      <td>0.0</td>\n",
       "      <td>0.0</td>\n",
       "      <td>0.0</td>\n",
       "      <td>0.0</td>\n",
       "      <td>0.0</td>\n",
       "      <td>0.0</td>\n",
       "    </tr>\n",
       "    <tr>\n",
       "      <th>2</th>\n",
       "      <td>-0.323935</td>\n",
       "      <td>-0.365561</td>\n",
       "      <td>-0.637613</td>\n",
       "      <td>2.148567</td>\n",
       "      <td>0.178041</td>\n",
       "      <td>1.0</td>\n",
       "      <td>0.0</td>\n",
       "      <td>0.0</td>\n",
       "      <td>0.0</td>\n",
       "      <td>0.0</td>\n",
       "      <td>...</td>\n",
       "      <td>1.0</td>\n",
       "      <td>0.0</td>\n",
       "      <td>0.0</td>\n",
       "      <td>0.0</td>\n",
       "      <td>0.0</td>\n",
       "      <td>0.0</td>\n",
       "      <td>0.0</td>\n",
       "      <td>0.0</td>\n",
       "      <td>0.0</td>\n",
       "      <td>0.0</td>\n",
       "    </tr>\n",
       "    <tr>\n",
       "      <th>3</th>\n",
       "      <td>-0.095077</td>\n",
       "      <td>0.095330</td>\n",
       "      <td>-0.370664</td>\n",
       "      <td>-0.586166</td>\n",
       "      <td>0.158416</td>\n",
       "      <td>0.0</td>\n",
       "      <td>0.0</td>\n",
       "      <td>0.0</td>\n",
       "      <td>1.0</td>\n",
       "      <td>0.0</td>\n",
       "      <td>...</td>\n",
       "      <td>0.0</td>\n",
       "      <td>0.0</td>\n",
       "      <td>0.0</td>\n",
       "      <td>0.0</td>\n",
       "      <td>0.0</td>\n",
       "      <td>0.0</td>\n",
       "      <td>0.0</td>\n",
       "      <td>0.0</td>\n",
       "      <td>0.0</td>\n",
       "      <td>0.0</td>\n",
       "    </tr>\n",
       "    <tr>\n",
       "      <th>4</th>\n",
       "      <td>2.788537</td>\n",
       "      <td>2.374095</td>\n",
       "      <td>-0.256257</td>\n",
       "      <td>-0.394403</td>\n",
       "      <td>0.539121</td>\n",
       "      <td>1.0</td>\n",
       "      <td>0.0</td>\n",
       "      <td>0.0</td>\n",
       "      <td>0.0</td>\n",
       "      <td>0.0</td>\n",
       "      <td>...</td>\n",
       "      <td>0.0</td>\n",
       "      <td>1.0</td>\n",
       "      <td>0.0</td>\n",
       "      <td>0.0</td>\n",
       "      <td>0.0</td>\n",
       "      <td>0.0</td>\n",
       "      <td>0.0</td>\n",
       "      <td>0.0</td>\n",
       "      <td>0.0</td>\n",
       "      <td>0.0</td>\n",
       "    </tr>\n",
       "    <tr>\n",
       "      <th>...</th>\n",
       "      <td>...</td>\n",
       "      <td>...</td>\n",
       "      <td>...</td>\n",
       "      <td>...</td>\n",
       "      <td>...</td>\n",
       "      <td>...</td>\n",
       "      <td>...</td>\n",
       "      <td>...</td>\n",
       "      <td>...</td>\n",
       "      <td>...</td>\n",
       "      <td>...</td>\n",
       "      <td>...</td>\n",
       "      <td>...</td>\n",
       "      <td>...</td>\n",
       "      <td>...</td>\n",
       "      <td>...</td>\n",
       "      <td>...</td>\n",
       "      <td>...</td>\n",
       "      <td>...</td>\n",
       "      <td>...</td>\n",
       "      <td>...</td>\n",
       "    </tr>\n",
       "    <tr>\n",
       "      <th>1903</th>\n",
       "      <td>-1.147825</td>\n",
       "      <td>-0.266111</td>\n",
       "      <td>-0.065579</td>\n",
       "      <td>0.146934</td>\n",
       "      <td>-0.925254</td>\n",
       "      <td>0.0</td>\n",
       "      <td>0.0</td>\n",
       "      <td>0.0</td>\n",
       "      <td>0.0</td>\n",
       "      <td>0.0</td>\n",
       "      <td>...</td>\n",
       "      <td>0.0</td>\n",
       "      <td>0.0</td>\n",
       "      <td>0.0</td>\n",
       "      <td>0.0</td>\n",
       "      <td>0.0</td>\n",
       "      <td>0.0</td>\n",
       "      <td>0.0</td>\n",
       "      <td>0.0</td>\n",
       "      <td>0.0</td>\n",
       "      <td>0.0</td>\n",
       "    </tr>\n",
       "    <tr>\n",
       "      <th>1904</th>\n",
       "      <td>-0.049305</td>\n",
       "      <td>0.075587</td>\n",
       "      <td>0.086964</td>\n",
       "      <td>-0.221283</td>\n",
       "      <td>0.117278</td>\n",
       "      <td>0.0</td>\n",
       "      <td>0.0</td>\n",
       "      <td>0.0</td>\n",
       "      <td>0.0</td>\n",
       "      <td>0.0</td>\n",
       "      <td>...</td>\n",
       "      <td>0.0</td>\n",
       "      <td>0.0</td>\n",
       "      <td>0.0</td>\n",
       "      <td>0.0</td>\n",
       "      <td>0.0</td>\n",
       "      <td>0.0</td>\n",
       "      <td>0.0</td>\n",
       "      <td>1.0</td>\n",
       "      <td>0.0</td>\n",
       "      <td>0.0</td>\n",
       "    </tr>\n",
       "    <tr>\n",
       "      <th>1905</th>\n",
       "      <td>-0.186620</td>\n",
       "      <td>-0.174501</td>\n",
       "      <td>-0.523206</td>\n",
       "      <td>-2.116619</td>\n",
       "      <td>0.412392</td>\n",
       "      <td>1.0</td>\n",
       "      <td>0.0</td>\n",
       "      <td>0.0</td>\n",
       "      <td>0.0</td>\n",
       "      <td>0.0</td>\n",
       "      <td>...</td>\n",
       "      <td>0.0</td>\n",
       "      <td>0.0</td>\n",
       "      <td>0.0</td>\n",
       "      <td>0.0</td>\n",
       "      <td>0.0</td>\n",
       "      <td>0.0</td>\n",
       "      <td>0.0</td>\n",
       "      <td>0.0</td>\n",
       "      <td>0.0</td>\n",
       "      <td>0.0</td>\n",
       "    </tr>\n",
       "    <tr>\n",
       "      <th>1906</th>\n",
       "      <td>0.042238</td>\n",
       "      <td>0.007394</td>\n",
       "      <td>-0.904562</td>\n",
       "      <td>-0.029125</td>\n",
       "      <td>-2.571222</td>\n",
       "      <td>1.0</td>\n",
       "      <td>0.0</td>\n",
       "      <td>1.0</td>\n",
       "      <td>0.0</td>\n",
       "      <td>0.0</td>\n",
       "      <td>...</td>\n",
       "      <td>0.0</td>\n",
       "      <td>0.0</td>\n",
       "      <td>0.0</td>\n",
       "      <td>0.0</td>\n",
       "      <td>0.0</td>\n",
       "      <td>0.0</td>\n",
       "      <td>0.0</td>\n",
       "      <td>1.0</td>\n",
       "      <td>0.0</td>\n",
       "      <td>0.0</td>\n",
       "    </tr>\n",
       "    <tr>\n",
       "      <th>1907</th>\n",
       "      <td>2.559678</td>\n",
       "      <td>-0.640596</td>\n",
       "      <td>0.620862</td>\n",
       "      <td>-0.382252</td>\n",
       "      <td>1.511770</td>\n",
       "      <td>1.0</td>\n",
       "      <td>0.0</td>\n",
       "      <td>0.0</td>\n",
       "      <td>0.0</td>\n",
       "      <td>0.0</td>\n",
       "      <td>...</td>\n",
       "      <td>0.0</td>\n",
       "      <td>1.0</td>\n",
       "      <td>0.0</td>\n",
       "      <td>0.0</td>\n",
       "      <td>0.0</td>\n",
       "      <td>1.0</td>\n",
       "      <td>0.0</td>\n",
       "      <td>0.0</td>\n",
       "      <td>0.0</td>\n",
       "      <td>0.0</td>\n",
       "    </tr>\n",
       "  </tbody>\n",
       "</table>\n",
       "<p>1908 rows × 22037 columns</p>\n",
       "</div>"
      ],
      "text/plain": [
       "      scaler__runtime  scaler__inf_budget  scaler__blurb_length  \\\n",
       "0            0.042238           -0.534443              0.849676   \n",
       "1           -1.056282           -0.359368             -1.095240   \n",
       "2           -0.323935           -0.365561             -0.637613   \n",
       "3           -0.095077            0.095330             -0.370664   \n",
       "4            2.788537            2.374095             -0.256257   \n",
       "...               ...                 ...                   ...   \n",
       "1903        -1.147825           -0.266111             -0.065579   \n",
       "1904        -0.049305            0.075587              0.086964   \n",
       "1905        -0.186620           -0.174501             -0.523206   \n",
       "1906         0.042238            0.007394             -0.904562   \n",
       "1907         2.559678           -0.640596              0.620862   \n",
       "\n",
       "      scaler__blurb_objectivity  scaler__blurb_polarity  GENRE_Drama  \\\n",
       "0                      0.860445                0.745288          1.0   \n",
       "1                     -0.310518               -0.983409          0.0   \n",
       "2                      2.148567                0.178041          1.0   \n",
       "3                     -0.586166                0.158416          0.0   \n",
       "4                     -0.394403                0.539121          1.0   \n",
       "...                         ...                     ...          ...   \n",
       "1903                   0.146934               -0.925254          0.0   \n",
       "1904                  -0.221283                0.117278          0.0   \n",
       "1905                  -2.116619                0.412392          1.0   \n",
       "1906                  -0.029125               -2.571222          1.0   \n",
       "1907                  -0.382252                1.511770          1.0   \n",
       "\n",
       "      GENRE_History  GENRE_Romance  GENRE_Crime  GENRE_Animation  ...  \\\n",
       "0               0.0            1.0          0.0              0.0  ...   \n",
       "1               0.0            1.0          0.0              0.0  ...   \n",
       "2               0.0            0.0          0.0              0.0  ...   \n",
       "3               0.0            0.0          1.0              0.0  ...   \n",
       "4               0.0            0.0          0.0              0.0  ...   \n",
       "...             ...            ...          ...              ...  ...   \n",
       "1903            0.0            0.0          0.0              0.0  ...   \n",
       "1904            0.0            0.0          0.0              0.0  ...   \n",
       "1905            0.0            0.0          0.0              0.0  ...   \n",
       "1906            0.0            1.0          0.0              0.0  ...   \n",
       "1907            0.0            0.0          0.0              0.0  ...   \n",
       "\n",
       "      month_11.0  month_12.0  month_nan  original_language_bins_French  \\\n",
       "0            0.0         0.0        0.0                            0.0   \n",
       "1            0.0         1.0        0.0                            0.0   \n",
       "2            1.0         0.0        0.0                            0.0   \n",
       "3            0.0         0.0        0.0                            0.0   \n",
       "4            0.0         1.0        0.0                            0.0   \n",
       "...          ...         ...        ...                            ...   \n",
       "1903         0.0         0.0        0.0                            0.0   \n",
       "1904         0.0         0.0        0.0                            0.0   \n",
       "1905         0.0         0.0        0.0                            0.0   \n",
       "1906         0.0         0.0        0.0                            0.0   \n",
       "1907         0.0         1.0        0.0                            0.0   \n",
       "\n",
       "      original_language_bins_German  original_language_bins_Hindi  \\\n",
       "0                               0.0                           0.0   \n",
       "1                               0.0                           0.0   \n",
       "2                               0.0                           0.0   \n",
       "3                               0.0                           0.0   \n",
       "4                               0.0                           0.0   \n",
       "...                             ...                           ...   \n",
       "1903                            0.0                           0.0   \n",
       "1904                            0.0                           0.0   \n",
       "1905                            0.0                           0.0   \n",
       "1906                            0.0                           0.0   \n",
       "1907                            0.0                           1.0   \n",
       "\n",
       "      original_language_bins_No Language  original_language_bins_Other  \\\n",
       "0                                    0.0                           1.0   \n",
       "1                                    0.0                           0.0   \n",
       "2                                    0.0                           0.0   \n",
       "3                                    0.0                           0.0   \n",
       "4                                    0.0                           0.0   \n",
       "...                                  ...                           ...   \n",
       "1903                                 0.0                           0.0   \n",
       "1904                                 0.0                           1.0   \n",
       "1905                                 0.0                           0.0   \n",
       "1906                                 0.0                           1.0   \n",
       "1907                                 0.0                           0.0   \n",
       "\n",
       "      original_language_bins_Spanish  original_language_bins_nan  \n",
       "0                                0.0                         0.0  \n",
       "1                                0.0                         0.0  \n",
       "2                                0.0                         0.0  \n",
       "3                                0.0                         0.0  \n",
       "4                                0.0                         0.0  \n",
       "...                              ...                         ...  \n",
       "1903                             0.0                         0.0  \n",
       "1904                             0.0                         0.0  \n",
       "1905                             0.0                         0.0  \n",
       "1906                             0.0                         0.0  \n",
       "1907                             0.0                         0.0  \n",
       "\n",
       "[1908 rows x 22037 columns]"
      ]
     },
     "execution_count": 114,
     "metadata": {},
     "output_type": "execute_result"
    }
   ],
   "source": [
    "x_test_trans"
   ]
  },
  {
   "cell_type": "markdown",
   "metadata": {},
   "source": [
    "<h1> Logistic Regression </b>"
   ]
  },
  {
   "cell_type": "code",
   "execution_count": 115,
   "metadata": {},
   "outputs": [],
   "source": [
    "#create the model object for the 'one over rest' logistic regression\n",
    "log_model = LogisticRegression(multi_class = 'ovr')"
   ]
  },
  {
   "cell_type": "code",
   "execution_count": 116,
   "metadata": {},
   "outputs": [
    {
     "data": {
      "text/plain": [
       "{'C': 1.0,\n",
       " 'class_weight': None,\n",
       " 'dual': False,\n",
       " 'fit_intercept': True,\n",
       " 'intercept_scaling': 1,\n",
       " 'l1_ratio': None,\n",
       " 'max_iter': 100,\n",
       " 'multi_class': 'ovr',\n",
       " 'n_jobs': None,\n",
       " 'penalty': 'l2',\n",
       " 'random_state': None,\n",
       " 'solver': 'lbfgs',\n",
       " 'tol': 0.0001,\n",
       " 'verbose': 0,\n",
       " 'warm_start': False}"
      ]
     },
     "execution_count": 116,
     "metadata": {},
     "output_type": "execute_result"
    }
   ],
   "source": [
    "#investigate parameters\n",
    "log_model.get_params()"
   ]
  },
  {
   "cell_type": "code",
   "execution_count": 117,
   "metadata": {},
   "outputs": [
    {
     "name": "stdout",
     "output_type": "stream",
     "text": [
      "Fitting 5 folds for each of 225 candidates, totalling 1125 fits\n"
     ]
    },
    {
     "data": {
      "text/plain": [
       "GridSearchCV(cv=5, estimator=LogisticRegression(multi_class='ovr'), n_jobs=3,\n",
       "             param_grid={'C': array([1.00000000e-04, 3.72759372e-04, 1.38949549e-03, 5.17947468e-03,\n",
       "       1.93069773e-02, 7.19685673e-02, 2.68269580e-01, 1.00000000e+00,\n",
       "       3.72759372e+00, 1.38949549e+01, 5.17947468e+01, 1.93069773e+02,\n",
       "       7.19685673e+02, 2.68269580e+03, 1.00000000e+04]),\n",
       "                         'l1_ratio': array([0.        , 0.07142857, 0.14285714, 0.21428571, 0.28571429,\n",
       "       0.35714286, 0.42857143, 0.5       , 0.57142857, 0.64285714,\n",
       "       0.71428571, 0.78571429, 0.85714286, 0.92857143, 1.        ]),\n",
       "                         'penalty': ['elasticnet'], 'solver': ['saga']},\n",
       "             verbose=1)"
      ]
     },
     "execution_count": 117,
     "metadata": {},
     "output_type": "execute_result"
    }
   ],
   "source": [
    "#confirm the parameters to iterate through\n",
    "log_model_params = {'C': np.logspace(-4,4,15),\n",
    "                   'l1_ratio': np.linspace(0,1,15),\n",
    "                   'penalty': ['elasticnet'],\n",
    "                   'solver':['saga']}\n",
    "\n",
    "\n",
    "#create the grid search cv object\n",
    "log_model_grid = GridSearchCV(log_model, log_model_params,\n",
    "                              verbose = 1,\n",
    "                              cv = 5,\n",
    "                              n_jobs = 3)\n",
    "log_model_grid.fit(x_train_trans,y_train)"
   ]
  },
  {
   "cell_type": "markdown",
   "metadata": {},
   "source": [
    "<b> Resulting scores </b>"
   ]
  },
  {
   "cell_type": "code",
   "execution_count": 119,
   "metadata": {},
   "outputs": [
    {
     "data": {
      "text/plain": [
       "LogisticRegression(C=0.019306977288832496, l1_ratio=0.0, multi_class='ovr',\n",
       "                   penalty='elasticnet', solver='saga')"
      ]
     },
     "execution_count": 119,
     "metadata": {},
     "output_type": "execute_result"
    }
   ],
   "source": [
    "#the best estimator\n",
    "log_model_grid.best_estimator_"
   ]
  },
  {
   "cell_type": "code",
   "execution_count": 120,
   "metadata": {},
   "outputs": [
    {
     "data": {
      "text/plain": [
       "0.33293874481662117"
      ]
     },
     "execution_count": 120,
     "metadata": {},
     "output_type": "execute_result"
    }
   ],
   "source": [
    "#training score cross validated\n",
    "log_model_grid.best_score_"
   ]
  },
  {
   "cell_type": "code",
   "execution_count": 121,
   "metadata": {},
   "outputs": [],
   "source": [
    "#test score\n",
    "test_score = log_model_grid.score(x_test_trans,y_test)"
   ]
  },
  {
   "cell_type": "code",
   "execution_count": 122,
   "metadata": {},
   "outputs": [
    {
     "name": "stdout",
     "output_type": "stream",
     "text": [
      "Training Accuracy: 0.33293874481662117\n",
      "Cross Validated Training Accuracy: 0.3328076832176697\n",
      "Testing Accuracy: 0.34591194968553457\n"
     ]
    }
   ],
   "source": [
    "print(f'Training Accuracy: {log_model_grid.best_score_}')\n",
    "print(f'Cross Validated Training Accuracy: {np.mean(cross_val_score(log_model_grid.best_estimator_ , x_train_trans , y_train, cv =5))}')\n",
    "print(f'Testing Accuracy: {test_score}')"
   ]
  },
  {
   "cell_type": "markdown",
   "metadata": {},
   "source": [
    "<b> Baseline Scores </b>"
   ]
  },
  {
   "cell_type": "code",
   "execution_count": 123,
   "metadata": {},
   "outputs": [
    {
     "data": {
      "text/plain": [
       "0    0.200063\n",
       "4    0.200063\n",
       "1    0.199958\n",
       "2    0.199958\n",
       "3    0.199958\n",
       "Name: ROI, dtype: float64"
      ]
     },
     "execution_count": 123,
     "metadata": {},
     "output_type": "execute_result"
    }
   ],
   "source": [
    "target_multi.value_counts(normalize = True)"
   ]
  },
  {
   "cell_type": "markdown",
   "metadata": {},
   "source": [
    "<b>feature importance</b>"
   ]
  },
  {
   "cell_type": "code",
   "execution_count": 124,
   "metadata": {},
   "outputs": [
    {
     "data": {
      "text/plain": [
       "array([[-0.25173431, -0.50670464, -0.0659241 , ...,  0.0496229 ,\n",
       "        -0.03763887,  0.        ],\n",
       "       [-0.15467746,  0.04703023,  0.00214929, ..., -0.08396614,\n",
       "        -0.01651136,  0.        ],\n",
       "       [ 0.0279103 ,  0.1205459 ,  0.00324029, ...,  0.03627403,\n",
       "         0.0211354 ,  0.        ],\n",
       "       [ 0.12440215,  0.16923625,  0.06368171, ...,  0.03138962,\n",
       "         0.07164088,  0.        ],\n",
       "       [ 0.24228842, -0.24873566,  0.00509663, ..., -0.06305415,\n",
       "        -0.04620026,  0.        ]])"
      ]
     },
     "execution_count": 124,
     "metadata": {},
     "output_type": "execute_result"
    }
   ],
   "source": [
    "log_model_grid.best_estimator_.coef_"
   ]
  },
  {
   "cell_type": "code",
   "execution_count": 125,
   "metadata": {},
   "outputs": [
    {
     "data": {
      "text/html": [
       "<div>\n",
       "<style scoped>\n",
       "    .dataframe tbody tr th:only-of-type {\n",
       "        vertical-align: middle;\n",
       "    }\n",
       "\n",
       "    .dataframe tbody tr th {\n",
       "        vertical-align: top;\n",
       "    }\n",
       "\n",
       "    .dataframe thead th {\n",
       "        text-align: right;\n",
       "    }\n",
       "</style>\n",
       "<table border=\"1\" class=\"dataframe\">\n",
       "  <thead>\n",
       "    <tr style=\"text-align: right;\">\n",
       "      <th></th>\n",
       "      <th>Feature</th>\n",
       "      <th>coef_0</th>\n",
       "      <th>coef_1</th>\n",
       "      <th>coef_2</th>\n",
       "      <th>coef_3</th>\n",
       "      <th>coef_4</th>\n",
       "    </tr>\n",
       "  </thead>\n",
       "  <tbody>\n",
       "    <tr>\n",
       "      <th>0</th>\n",
       "      <td>scaler__runtime</td>\n",
       "      <td>-0.251734</td>\n",
       "      <td>-0.154677</td>\n",
       "      <td>0.027910</td>\n",
       "      <td>0.124402</td>\n",
       "      <td>0.242288</td>\n",
       "    </tr>\n",
       "    <tr>\n",
       "      <th>1</th>\n",
       "      <td>scaler__inf_budget</td>\n",
       "      <td>-0.506705</td>\n",
       "      <td>0.047030</td>\n",
       "      <td>0.120546</td>\n",
       "      <td>0.169236</td>\n",
       "      <td>-0.248736</td>\n",
       "    </tr>\n",
       "    <tr>\n",
       "      <th>2</th>\n",
       "      <td>scaler__blurb_length</td>\n",
       "      <td>-0.065924</td>\n",
       "      <td>0.002149</td>\n",
       "      <td>0.003240</td>\n",
       "      <td>0.063682</td>\n",
       "      <td>0.005097</td>\n",
       "    </tr>\n",
       "    <tr>\n",
       "      <th>3</th>\n",
       "      <td>scaler__blurb_objectivity</td>\n",
       "      <td>0.039814</td>\n",
       "      <td>-0.036851</td>\n",
       "      <td>0.043775</td>\n",
       "      <td>-0.041537</td>\n",
       "      <td>-0.005774</td>\n",
       "    </tr>\n",
       "    <tr>\n",
       "      <th>4</th>\n",
       "      <td>scaler__blurb_polarity</td>\n",
       "      <td>-0.057298</td>\n",
       "      <td>0.016961</td>\n",
       "      <td>0.057992</td>\n",
       "      <td>0.013758</td>\n",
       "      <td>-0.030874</td>\n",
       "    </tr>\n",
       "    <tr>\n",
       "      <th>...</th>\n",
       "      <td>...</td>\n",
       "      <td>...</td>\n",
       "      <td>...</td>\n",
       "      <td>...</td>\n",
       "      <td>...</td>\n",
       "      <td>...</td>\n",
       "    </tr>\n",
       "    <tr>\n",
       "      <th>22032</th>\n",
       "      <td>original_language_bins_Hindi</td>\n",
       "      <td>-0.003843</td>\n",
       "      <td>-0.032142</td>\n",
       "      <td>0.149690</td>\n",
       "      <td>0.034164</td>\n",
       "      <td>-0.160303</td>\n",
       "    </tr>\n",
       "    <tr>\n",
       "      <th>22033</th>\n",
       "      <td>original_language_bins_No Language</td>\n",
       "      <td>-0.146452</td>\n",
       "      <td>-0.043823</td>\n",
       "      <td>-0.020247</td>\n",
       "      <td>-0.012449</td>\n",
       "      <td>0.189684</td>\n",
       "    </tr>\n",
       "    <tr>\n",
       "      <th>22034</th>\n",
       "      <td>original_language_bins_Other</td>\n",
       "      <td>0.049623</td>\n",
       "      <td>-0.083966</td>\n",
       "      <td>0.036274</td>\n",
       "      <td>0.031390</td>\n",
       "      <td>-0.063054</td>\n",
       "    </tr>\n",
       "    <tr>\n",
       "      <th>22035</th>\n",
       "      <td>original_language_bins_Spanish</td>\n",
       "      <td>-0.037639</td>\n",
       "      <td>-0.016511</td>\n",
       "      <td>0.021135</td>\n",
       "      <td>0.071641</td>\n",
       "      <td>-0.046200</td>\n",
       "    </tr>\n",
       "    <tr>\n",
       "      <th>22036</th>\n",
       "      <td>original_language_bins_nan</td>\n",
       "      <td>0.000000</td>\n",
       "      <td>0.000000</td>\n",
       "      <td>0.000000</td>\n",
       "      <td>0.000000</td>\n",
       "      <td>0.000000</td>\n",
       "    </tr>\n",
       "  </tbody>\n",
       "</table>\n",
       "<p>22037 rows × 6 columns</p>\n",
       "</div>"
      ],
      "text/plain": [
       "                                  Feature    coef_0    coef_1    coef_2  \\\n",
       "0                         scaler__runtime -0.251734 -0.154677  0.027910   \n",
       "1                      scaler__inf_budget -0.506705  0.047030  0.120546   \n",
       "2                    scaler__blurb_length -0.065924  0.002149  0.003240   \n",
       "3               scaler__blurb_objectivity  0.039814 -0.036851  0.043775   \n",
       "4                  scaler__blurb_polarity -0.057298  0.016961  0.057992   \n",
       "...                                   ...       ...       ...       ...   \n",
       "22032        original_language_bins_Hindi -0.003843 -0.032142  0.149690   \n",
       "22033  original_language_bins_No Language -0.146452 -0.043823 -0.020247   \n",
       "22034        original_language_bins_Other  0.049623 -0.083966  0.036274   \n",
       "22035      original_language_bins_Spanish -0.037639 -0.016511  0.021135   \n",
       "22036          original_language_bins_nan  0.000000  0.000000  0.000000   \n",
       "\n",
       "         coef_3    coef_4  \n",
       "0      0.124402  0.242288  \n",
       "1      0.169236 -0.248736  \n",
       "2      0.063682  0.005097  \n",
       "3     -0.041537 -0.005774  \n",
       "4      0.013758 -0.030874  \n",
       "...         ...       ...  \n",
       "22032  0.034164 -0.160303  \n",
       "22033 -0.012449  0.189684  \n",
       "22034  0.031390 -0.063054  \n",
       "22035  0.071641 -0.046200  \n",
       "22036  0.000000  0.000000  \n",
       "\n",
       "[22037 rows x 6 columns]"
      ]
     },
     "execution_count": 125,
     "metadata": {},
     "output_type": "execute_result"
    }
   ],
   "source": [
    "coefs = pd.DataFrame({'Feature': x_train_trans.columns,\n",
    "                    'coef_0': log_model_grid.best_estimator_.coef_[0],\n",
    "                     'coef_1': log_model_grid.best_estimator_.coef_[1],\n",
    "                     'coef_2': log_model_grid.best_estimator_.coef_[2],\n",
    "                     'coef_3': log_model_grid.best_estimator_.coef_[3],\n",
    "                     'coef_4': log_model_grid.best_estimator_.coef_[4]})\n",
    "coefs"
   ]
  },
  {
   "cell_type": "code",
   "execution_count": 126,
   "metadata": {},
   "outputs": [],
   "source": [
    "for x in coefs.columns:\n",
    "    if 'coef' in x:\n",
    "        coefs[f'abs_{x[-1]}'] = abs(coefs[x])"
   ]
  },
  {
   "cell_type": "code",
   "execution_count": 127,
   "metadata": {},
   "outputs": [
    {
     "data": {
      "text/html": [
       "<div>\n",
       "<style scoped>\n",
       "    .dataframe tbody tr th:only-of-type {\n",
       "        vertical-align: middle;\n",
       "    }\n",
       "\n",
       "    .dataframe tbody tr th {\n",
       "        vertical-align: top;\n",
       "    }\n",
       "\n",
       "    .dataframe thead th {\n",
       "        text-align: right;\n",
       "    }\n",
       "</style>\n",
       "<table border=\"1\" class=\"dataframe\">\n",
       "  <thead>\n",
       "    <tr style=\"text-align: right;\">\n",
       "      <th></th>\n",
       "      <th>Feature</th>\n",
       "      <th>coef_0</th>\n",
       "      <th>coef_1</th>\n",
       "      <th>coef_2</th>\n",
       "      <th>coef_3</th>\n",
       "      <th>coef_4</th>\n",
       "      <th>abs_0</th>\n",
       "      <th>abs_1</th>\n",
       "      <th>abs_2</th>\n",
       "      <th>abs_3</th>\n",
       "      <th>abs_4</th>\n",
       "    </tr>\n",
       "  </thead>\n",
       "  <tbody>\n",
       "    <tr>\n",
       "      <th>22010</th>\n",
       "      <td>from_collection</td>\n",
       "      <td>-0.822825</td>\n",
       "      <td>-0.784398</td>\n",
       "      <td>-0.268492</td>\n",
       "      <td>0.343658</td>\n",
       "      <td>1.072554</td>\n",
       "      <td>0.822825</td>\n",
       "      <td>0.784398</td>\n",
       "      <td>0.268492</td>\n",
       "      <td>0.343658</td>\n",
       "      <td>1.072554</td>\n",
       "    </tr>\n",
       "    <tr>\n",
       "      <th>1</th>\n",
       "      <td>scaler__inf_budget</td>\n",
       "      <td>-0.506705</td>\n",
       "      <td>0.047030</td>\n",
       "      <td>0.120546</td>\n",
       "      <td>0.169236</td>\n",
       "      <td>-0.248736</td>\n",
       "      <td>0.506705</td>\n",
       "      <td>0.047030</td>\n",
       "      <td>0.120546</td>\n",
       "      <td>0.169236</td>\n",
       "      <td>0.248736</td>\n",
       "    </tr>\n",
       "    <tr>\n",
       "      <th>28</th>\n",
       "      <td>genre_pair_unique</td>\n",
       "      <td>0.378569</td>\n",
       "      <td>0.089361</td>\n",
       "      <td>-0.100479</td>\n",
       "      <td>-0.111287</td>\n",
       "      <td>-0.250980</td>\n",
       "      <td>0.378569</td>\n",
       "      <td>0.089361</td>\n",
       "      <td>0.100479</td>\n",
       "      <td>0.111287</td>\n",
       "      <td>0.250980</td>\n",
       "    </tr>\n",
       "    <tr>\n",
       "      <th>5</th>\n",
       "      <td>GENRE_Drama</td>\n",
       "      <td>0.368962</td>\n",
       "      <td>0.050660</td>\n",
       "      <td>-0.065874</td>\n",
       "      <td>-0.164067</td>\n",
       "      <td>-0.185310</td>\n",
       "      <td>0.368962</td>\n",
       "      <td>0.050660</td>\n",
       "      <td>0.065874</td>\n",
       "      <td>0.164067</td>\n",
       "      <td>0.185310</td>\n",
       "    </tr>\n",
       "    <tr>\n",
       "      <th>0</th>\n",
       "      <td>scaler__runtime</td>\n",
       "      <td>-0.251734</td>\n",
       "      <td>-0.154677</td>\n",
       "      <td>0.027910</td>\n",
       "      <td>0.124402</td>\n",
       "      <td>0.242288</td>\n",
       "      <td>0.251734</td>\n",
       "      <td>0.154677</td>\n",
       "      <td>0.027910</td>\n",
       "      <td>0.124402</td>\n",
       "      <td>0.242288</td>\n",
       "    </tr>\n",
       "    <tr>\n",
       "      <th>10</th>\n",
       "      <td>GENRE_Family</td>\n",
       "      <td>-0.244348</td>\n",
       "      <td>-0.130578</td>\n",
       "      <td>0.132481</td>\n",
       "      <td>0.213127</td>\n",
       "      <td>0.030248</td>\n",
       "      <td>0.244348</td>\n",
       "      <td>0.130578</td>\n",
       "      <td>0.132481</td>\n",
       "      <td>0.213127</td>\n",
       "      <td>0.030248</td>\n",
       "    </tr>\n",
       "    <tr>\n",
       "      <th>22030</th>\n",
       "      <td>original_language_bins_French</td>\n",
       "      <td>0.237135</td>\n",
       "      <td>0.081110</td>\n",
       "      <td>-0.060345</td>\n",
       "      <td>-0.085532</td>\n",
       "      <td>-0.196151</td>\n",
       "      <td>0.237135</td>\n",
       "      <td>0.081110</td>\n",
       "      <td>0.060345</td>\n",
       "      <td>0.085532</td>\n",
       "      <td>0.196151</td>\n",
       "    </tr>\n",
       "    <tr>\n",
       "      <th>18381</th>\n",
       "      <td>BLURB_story</td>\n",
       "      <td>0.203353</td>\n",
       "      <td>-0.057980</td>\n",
       "      <td>-0.050902</td>\n",
       "      <td>-0.127946</td>\n",
       "      <td>0.011467</td>\n",
       "      <td>0.203353</td>\n",
       "      <td>0.057980</td>\n",
       "      <td>0.050902</td>\n",
       "      <td>0.127946</td>\n",
       "      <td>0.011467</td>\n",
       "    </tr>\n",
       "    <tr>\n",
       "      <th>18409</th>\n",
       "      <td>BLURB_school</td>\n",
       "      <td>-0.190623</td>\n",
       "      <td>-0.046299</td>\n",
       "      <td>0.032826</td>\n",
       "      <td>0.072264</td>\n",
       "      <td>0.122848</td>\n",
       "      <td>0.190623</td>\n",
       "      <td>0.046299</td>\n",
       "      <td>0.032826</td>\n",
       "      <td>0.072264</td>\n",
       "      <td>0.122848</td>\n",
       "    </tr>\n",
       "    <tr>\n",
       "      <th>18405</th>\n",
       "      <td>BLURB_group</td>\n",
       "      <td>0.190261</td>\n",
       "      <td>-0.133269</td>\n",
       "      <td>-0.000872</td>\n",
       "      <td>-0.050904</td>\n",
       "      <td>-0.001720</td>\n",
       "      <td>0.190261</td>\n",
       "      <td>0.133269</td>\n",
       "      <td>0.000872</td>\n",
       "      <td>0.050904</td>\n",
       "      <td>0.001720</td>\n",
       "    </tr>\n",
       "  </tbody>\n",
       "</table>\n",
       "</div>"
      ],
      "text/plain": [
       "                             Feature    coef_0    coef_1    coef_2    coef_3  \\\n",
       "22010                from_collection -0.822825 -0.784398 -0.268492  0.343658   \n",
       "1                 scaler__inf_budget -0.506705  0.047030  0.120546  0.169236   \n",
       "28                 genre_pair_unique  0.378569  0.089361 -0.100479 -0.111287   \n",
       "5                        GENRE_Drama  0.368962  0.050660 -0.065874 -0.164067   \n",
       "0                    scaler__runtime -0.251734 -0.154677  0.027910  0.124402   \n",
       "10                      GENRE_Family -0.244348 -0.130578  0.132481  0.213127   \n",
       "22030  original_language_bins_French  0.237135  0.081110 -0.060345 -0.085532   \n",
       "18381                    BLURB_story  0.203353 -0.057980 -0.050902 -0.127946   \n",
       "18409                   BLURB_school -0.190623 -0.046299  0.032826  0.072264   \n",
       "18405                    BLURB_group  0.190261 -0.133269 -0.000872 -0.050904   \n",
       "\n",
       "         coef_4     abs_0     abs_1     abs_2     abs_3     abs_4  \n",
       "22010  1.072554  0.822825  0.784398  0.268492  0.343658  1.072554  \n",
       "1     -0.248736  0.506705  0.047030  0.120546  0.169236  0.248736  \n",
       "28    -0.250980  0.378569  0.089361  0.100479  0.111287  0.250980  \n",
       "5     -0.185310  0.368962  0.050660  0.065874  0.164067  0.185310  \n",
       "0      0.242288  0.251734  0.154677  0.027910  0.124402  0.242288  \n",
       "10     0.030248  0.244348  0.130578  0.132481  0.213127  0.030248  \n",
       "22030 -0.196151  0.237135  0.081110  0.060345  0.085532  0.196151  \n",
       "18381  0.011467  0.203353  0.057980  0.050902  0.127946  0.011467  \n",
       "18409  0.122848  0.190623  0.046299  0.032826  0.072264  0.122848  \n",
       "18405 -0.001720  0.190261  0.133269  0.000872  0.050904  0.001720  "
      ]
     },
     "execution_count": 127,
     "metadata": {},
     "output_type": "execute_result"
    }
   ],
   "source": [
    "coefs.sort_values(by = 'abs_0' , ascending = False).head(10)"
   ]
  },
  {
   "cell_type": "markdown",
   "metadata": {},
   "source": [
    "<b> Intercept </b>"
   ]
  },
  {
   "cell_type": "code",
   "execution_count": 87,
   "metadata": {},
   "outputs": [
    {
     "data": {
      "text/plain": [
       "array([-0.00540992, -0.00569137, -0.00398391, -0.05976534, -0.08988234])"
      ]
     },
     "execution_count": 87,
     "metadata": {},
     "output_type": "execute_result"
    }
   ],
   "source": [
    "log_model_grid.best_estimator_.intercept_"
   ]
  },
  {
   "cell_type": "markdown",
   "metadata": {},
   "source": [
    "<h1> Model Evaluation for the Multiclass Classification Model: Logistic Regression </h1>"
   ]
  },
  {
   "cell_type": "markdown",
   "metadata": {},
   "source": [
    "The model for predicting profits has a score which performs above randomly guessing (baseline), but which class is the model better at predicting?"
   ]
  },
  {
   "cell_type": "code",
   "execution_count": 190,
   "metadata": {},
   "outputs": [
    {
     "data": {
      "image/png": "[encoded data removed]",
      "text/plain": [
       "<Figure size 864x576 with 2 Axes>"
      ]
     },
     "metadata": {
      "needs_background": "light"
     },
     "output_type": "display_data"
    }
   ],
   "source": [
    "from sklearn import metrics\n",
    "fig, ax = plt.subplots(figsize=(12,8))\n",
    "metrics.plot_confusion_matrix(log_model_grid.best_estimator_ , x_train_trans , y_train , cmap = 'Blues', ax = ax);"
   ]
  },
  {
   "cell_type": "code",
   "execution_count": 177,
   "metadata": {
    "scrolled": true
   },
   "outputs": [],
   "source": [
    "import scikitplot as skplt"
   ]
  },
  {
   "cell_type": "code",
   "execution_count": 192,
   "metadata": {},
   "outputs": [],
   "source": [
    "predictions = log_model_grid.best_estimator_.predict(x_train_trans)"
   ]
  },
  {
   "cell_type": "code",
   "execution_count": 193,
   "metadata": {},
   "outputs": [],
   "source": [
    "predict_proba = log_model_grid.best_estimator_.predict_proba(x_train_trans)"
   ]
  },
  {
   "cell_type": "code",
   "execution_count": 197,
   "metadata": {},
   "outputs": [
    {
     "data": {
      "image/png": "[encoded data removed]",
      "text/plain": [
       "<Figure size 864x576 with 1 Axes>"
      ]
     },
     "metadata": {
      "needs_background": "light"
     },
     "output_type": "display_data"
    }
   ],
   "source": [
    "# from  import classification_report, plot_confusion_matrix , plot_roc_curve , plot_precision_recall_curve\n",
    "fig, ax = plt.subplots(figsize=(12,8))\n",
    "skplt.metrics.plot_precision_recall( y_train ,predict_proba ,cmap = 'plasma', ax =ax);"
   ]
  },
  {
   "cell_type": "code",
   "execution_count": 200,
   "metadata": {
    "scrolled": true
   },
   "outputs": [
    {
     "name": "stdout",
     "output_type": "stream",
     "text": [
      "              precision    recall  f1-score   support\n",
      "\n",
      "           0       0.45      0.76      0.57      1516\n",
      "           1       0.60      0.53      0.56      1522\n",
      "           2       0.65      0.46      0.54      1528\n",
      "           3       0.73      0.43      0.54      1517\n",
      "           4       0.53      0.61      0.57      1546\n",
      "\n",
      "    accuracy                           0.56      7629\n",
      "   macro avg       0.59      0.56      0.56      7629\n",
      "weighted avg       0.59      0.56      0.56      7629\n",
      "\n"
     ]
    }
   ],
   "source": [
    "\n",
    "print(metrics.classification_report(y_train, predictions))"
   ]
  },
  {
   "cell_type": "markdown",
   "metadata": {},
   "source": [
    "From the classification report, we can see the highest precsion score for quintile 3, meaning that the model is best as predicting ROI values between 95-291 with reduced false positives (highlighting more confidence"
   ]
  },
  {
   "cell_type": "code",
   "execution_count": 201,
   "metadata": {},
   "outputs": [
    {
     "data": {
      "image/png": "[encoded data removed]",
      "text/plain": [
       "<Figure size 864x576 with 1 Axes>"
      ]
     },
     "metadata": {
      "needs_background": "light"
     },
     "output_type": "display_data"
    }
   ],
   "source": [
    "fig, ax = plt.subplots(figsize=(12,8))\n",
    "skplt.metrics.plot_roc( y_train ,predict_proba ,cmap = 'plasma', ax =ax);\n"
   ]
  },
  {
   "cell_type": "markdown",
   "metadata": {},
   "source": [
    "<b> Recap of each groups' ranges <b/>"
   ]
  },
  {
   "cell_type": "code",
   "execution_count": 203,
   "metadata": {},
   "outputs": [
    {
     "data": {
      "text/plain": [
       "0.0     -99.970951\n",
       "0.2     -76.373582\n",
       "0.4      -9.377520\n",
       "0.6      95.281187\n",
       "0.8     291.219144\n",
       "1.0    2508.150985\n",
       "Name: ROI, dtype: float64"
      ]
     },
     "execution_count": 203,
     "metadata": {},
     "output_type": "execute_result"
    }
   ],
   "source": [
    "y.quantile([0,0.2,0.4,0.6,0.8,1])"
   ]
  },
  {
   "cell_type": "markdown",
   "metadata": {},
   "source": [
    "<b> multi-class result </b>"
   ]
  },
  {
   "cell_type": "markdown",
   "metadata": {},
   "source": [
    "In a productionised model, we would be looking to see a high accuracy score for films that are in group 3 or 4 (the two highest quintiles). To gain the most accurate results (avoiding false positives), one would increase the probability threshold so that the class in question is only predicted when the model predicts the probability of that clas to be at lest 0.8. This was we can be sure of the prediction for that class. This will reduce recall (increase false negatives) but increase the precision (reduce false positives)."
   ]
  },
  {
   "cell_type": "markdown",
   "metadata": {},
   "source": [
    "<h1> Visualisation </h1>"
   ]
  },
  {
   "cell_type": "code",
   "execution_count": 206,
   "metadata": {},
   "outputs": [],
   "source": [
    "train_scores = [0.6645 , 0.6307, 0.6318, 0.6639]\n",
    "\n",
    "classification_scores = pd.DataFrame({'train_scores': train_scores}, index = ['ElasticNet Logistic Regression', \n",
    "                                                                             'Decision Tree Classifier',\n",
    "                                                                             'Extreme Gradient Boost',\n",
    "                                                                            'Support Vector Machine (Linear Kernel)'])"
   ]
  },
  {
   "cell_type": "code",
   "execution_count": 207,
   "metadata": {},
   "outputs": [],
   "source": [
    "import matplotlib.cm as cm\n",
    "import matplotlib.pyplot as plt\n",
    "plasma = cm.get_cmap('rainbow')"
   ]
  },
  {
   "cell_type": "code",
   "execution_count": 215,
   "metadata": {},
   "outputs": [
    {
     "data": {
      "image/png": "[encoded data removed]",
      "text/plain": [
       "<Figure size 864x576 with 1 Axes>"
      ]
     },
     "metadata": {
      "needs_background": "light"
     },
     "output_type": "display_data"
    }
   ],
   "source": [
    "\n",
    "rescale = lambda y: (y - np.min(y)) / (np.max(y) - np.min(y))\n",
    "\n",
    "\n",
    "\n",
    "fig , ax = plt.subplots(figsize = (12,8))\n",
    "ax = classification_scores.sort_values(by = 'train_scores',ascending = True).plot(kind = 'barh', color = 'lightskyblue', label = 'Training Scores (CV)', ax =ax);\n",
    "plt.title('Classification Models', fontsize = 18);\n",
    "ax.set_facecolor('lightcoral')\n",
    "ax.axvline(0.57, color = 'yellow', label = 'Baseline Accuracy');\n",
    "ax.set_xlabel('Accuracy Score');\n",
    "plt.legend(labels = ['Baseline Accuracy', 'Training Scores (CV)'], prop = {'size':12});\n",
    "\n",
    "\n",
    "rects = ax.patches\n",
    "\n",
    "# Make some labels.\n",
    "labels = [f\"{i}%\" for i in classification_scores.sort_values(by = 'train_scores',ascending = True).train_scores]\n",
    "\n",
    "for rect, label in zip(rects, labels):\n",
    "    height = rect.get_width()\n",
    "    plt.text(rect.get_width()-0.03, rect.get_y()+0.2,label,\n",
    "            ha='center', va='bottom', color = 'lightcoral');\n",
    "    \n",
    "\n",
    "    \n",
    "    \n",
    "\n",
    "plt.savefig('Classification_Models_Train_scores.jpeg', format = 'jpeg')"
   ]
  },
  {
   "cell_type": "markdown",
   "metadata": {},
   "source": [
    "<h1> Conclusion </h1>"
   ]
  },
  {
   "cell_type": "markdown",
   "metadata": {},
   "source": [
    "Overall, the classification models have shown a similar output to the regression models. Most importantly they have indicated that films which are from a collection are certainly more likely to cause films to have increased ROI compared to other features. Although the model scores were barely above the baseline, this feature was consistenly at the top, thus, we would keep it for future analysis of film ROI. Aside from films in a collection. The next most consisten features affecting film ROI appear to be Tom Cruise, Sam Elliot and Tom Hanks. These actors all had a positive effect on ROI.\n",
    "\n",
    "Further work can be done by either gaining more variables, such as whether the film is from a best selling book or feature engineer current variables such as the actors so that each actor/directors' popularity can be accounted for.\n",
    "\n"
   ]
  },
  {
   "cell_type": "code",
   "execution_count": null,
   "metadata": {},
   "outputs": [],
   "source": []
  }
 ],
 "metadata": {
  "kernelspec": {
   "display_name": "Python 3",
   "language": "python",
   "name": "python3"
  },
  "language_info": {
   "codemirror_mode": {
    "name": "ipython",
    "version": 3
   },
   "file_extension": ".py",
   "mimetype": "text/x-python",
   "name": "python",
   "nbconvert_exporter": "python",
   "pygments_lexer": "ipython3",
   "version": "3.9.2"
  }
 },
 "nbformat": 4,
 "nbformat_minor": 4
}
